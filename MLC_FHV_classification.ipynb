{
  "nbformat": 4,
  "nbformat_minor": 0,
  "metadata": {
    "colab": {
      "name": "MLC_FHV_classification.ipynb",
      "provenance": [],
      "collapsed_sections": [],
      "machine_shape": "hm"
    },
    "kernelspec": {
      "name": "python3",
      "display_name": "Python 3"
    },
    "language_info": {
      "name": "python"
    },
    "accelerator": "TPU"
  },
  "cells": [
    {
      "cell_type": "code",
      "metadata": {
        "id": "MlDg2BMACTwu"
      },
      "source": [
        "import pandas as pd\n",
        "from google.colab import drive"
      ],
      "execution_count": null,
      "outputs": []
    },
    {
      "cell_type": "code",
      "metadata": {
        "colab": {
          "base_uri": "https://localhost:8080/"
        },
        "id": "iwLRx4TF3JSf",
        "outputId": "091cafcb-cfbd-4d85-fc71-ae59316f9bf4"
      },
      "source": [
        "!pip install geopandas"
      ],
      "execution_count": null,
      "outputs": [
        {
          "output_type": "stream",
          "text": [
            "Collecting geopandas\n",
            "\u001b[?25l  Downloading https://files.pythonhosted.org/packages/d7/bf/e9cefb69d39155d122b6ddca53893b61535fa6ffdad70bf5ef708977f53f/geopandas-0.9.0-py2.py3-none-any.whl (994kB)\n",
            "\u001b[K     |████████████████████████████████| 1.0MB 5.3MB/s \n",
            "\u001b[?25hRequirement already satisfied: shapely>=1.6 in /usr/local/lib/python3.7/dist-packages (from geopandas) (1.7.1)\n",
            "Requirement already satisfied: pandas>=0.24.0 in /usr/local/lib/python3.7/dist-packages (from geopandas) (1.1.5)\n",
            "Collecting fiona>=1.8\n",
            "\u001b[?25l  Downloading https://files.pythonhosted.org/packages/ea/2a/404b22883298a3efe9c6ef8d67acbf2c38443fa366ee9cd4cd34e17626ea/Fiona-1.8.19-cp37-cp37m-manylinux1_x86_64.whl (15.3MB)\n",
            "\u001b[K     |████████████████████████████████| 15.3MB 484kB/s \n",
            "\u001b[?25hCollecting pyproj>=2.2.0\n",
            "\u001b[?25l  Downloading https://files.pythonhosted.org/packages/b1/72/d52e9ca81caef056062d71991b0e9b1d16af042245627c5d0e4916a36c4f/pyproj-3.0.1-cp37-cp37m-manylinux2010_x86_64.whl (6.5MB)\n",
            "\u001b[K     |████████████████████████████████| 6.5MB 44.9MB/s \n",
            "\u001b[?25hRequirement already satisfied: numpy>=1.15.4 in /usr/local/lib/python3.7/dist-packages (from pandas>=0.24.0->geopandas) (1.19.5)\n",
            "Requirement already satisfied: pytz>=2017.2 in /usr/local/lib/python3.7/dist-packages (from pandas>=0.24.0->geopandas) (2018.9)\n",
            "Requirement already satisfied: python-dateutil>=2.7.3 in /usr/local/lib/python3.7/dist-packages (from pandas>=0.24.0->geopandas) (2.8.1)\n",
            "Collecting munch\n",
            "  Downloading https://files.pythonhosted.org/packages/cc/ab/85d8da5c9a45e072301beb37ad7f833cd344e04c817d97e0cc75681d248f/munch-2.5.0-py2.py3-none-any.whl\n",
            "Requirement already satisfied: attrs>=17 in /usr/local/lib/python3.7/dist-packages (from fiona>=1.8->geopandas) (20.3.0)\n",
            "Requirement already satisfied: click<8,>=4.0 in /usr/local/lib/python3.7/dist-packages (from fiona>=1.8->geopandas) (7.1.2)\n",
            "Collecting click-plugins>=1.0\n",
            "  Downloading https://files.pythonhosted.org/packages/e9/da/824b92d9942f4e472702488857914bdd50f73021efea15b4cad9aca8ecef/click_plugins-1.1.1-py2.py3-none-any.whl\n",
            "Collecting cligj>=0.5\n",
            "  Downloading https://files.pythonhosted.org/packages/42/1e/947eadf10d6804bf276eb8a038bd5307996dceaaa41cfd21b7a15ec62f5d/cligj-0.7.1-py3-none-any.whl\n",
            "Requirement already satisfied: six>=1.7 in /usr/local/lib/python3.7/dist-packages (from fiona>=1.8->geopandas) (1.15.0)\n",
            "Requirement already satisfied: certifi in /usr/local/lib/python3.7/dist-packages (from fiona>=1.8->geopandas) (2020.12.5)\n",
            "Installing collected packages: munch, click-plugins, cligj, fiona, pyproj, geopandas\n",
            "Successfully installed click-plugins-1.1.1 cligj-0.7.1 fiona-1.8.19 geopandas-0.9.0 munch-2.5.0 pyproj-3.0.1\n"
          ],
          "name": "stdout"
        }
      ]
    },
    {
      "cell_type": "code",
      "metadata": {
        "id": "fgdiqSyy3BP-"
      },
      "source": [
        "from datetime import datetime\n",
        "import pandas as pd\n",
        "#import dask.dataframe as dd\n",
        "from dask.diagnostics import ProgressBar\n",
        "import numpy as np\n",
        "import matplotlib.pyplot as plt\n",
        "#import geopandas as gpd\n",
        "from dateutil.parser import parse\n",
        "from google.colab import drive\n"
      ],
      "execution_count": null,
      "outputs": []
    },
    {
      "cell_type": "code",
      "metadata": {
        "id": "EaLwczxo28nO"
      },
      "source": [
        "from sklearn.model_selection import train_test_split\n",
        "from sklearn.linear_model import LogisticRegression\n",
        "from sklearn.tree import DecisionTreeClassifier\n",
        "from sklearn.ensemble import RandomForestClassifier\n",
        "from sklearn.model_selection import GridSearchCV\n",
        "from sklearn.model_selection import train_test_split\n",
        "from sklearn.metrics import roc_auc_score\n",
        "from sklearn.metrics import accuracy_score\n",
        "from sklearn.preprocessing import StandardScaler\n",
        "from sklearn.decomposition import PCA\n",
        "from sklearn.decomposition import KernelPCA\n",
        "from sklearn.cluster import KMeans\n",
        "from sklearn.metrics import silhouette_score"
      ],
      "execution_count": null,
      "outputs": []
    },
    {
      "cell_type": "code",
      "metadata": {
        "id": "8MEHg_xvwG0J",
        "colab": {
          "base_uri": "https://localhost:8080/"
        },
        "outputId": "9d327d93-60cc-4861-b236-6a830c0c5ee7"
      },
      "source": [
        "drive.mount('/content/drive')"
      ],
      "execution_count": null,
      "outputs": [
        {
          "output_type": "stream",
          "text": [
            "Drive already mounted at /content/drive; to attempt to forcibly remount, call drive.mount(\"/content/drive\", force_remount=True).\n"
          ],
          "name": "stdout"
        }
      ]
    },
    {
      "cell_type": "code",
      "metadata": {
        "id": "3UFIqlkcruHS"
      },
      "source": [
        "acs = pd.read_csv('/content/drive/My Drive/ACS_taxizone_cluster.csv')"
      ],
      "execution_count": null,
      "outputs": []
    },
    {
      "cell_type": "code",
      "metadata": {
        "id": "4AOtK7_axrZe"
      },
      "source": [
        "FHV = pd.read_csv('/content/drive/My Drive/FHV_ridership_dummies_no_acs.csv')"
      ],
      "execution_count": null,
      "outputs": []
    },
    {
      "cell_type": "code",
      "metadata": {
        "id": "9F4J0EFKzOir"
      },
      "source": [
        "FHV = FHV.drop(columns=['PUTime','DOTime'])"
      ],
      "execution_count": null,
      "outputs": []
    },
    {
      "cell_type": "code",
      "metadata": {
        "id": "zv9pRAmcBXJa"
      },
      "source": [
        "FHV_sub1, FHV_sub2 = train_test_split(FHV ,random_state=1234,test_size=0.4)"
      ],
      "execution_count": null,
      "outputs": []
    },
    {
      "cell_type": "code",
      "metadata": {
        "id": "2KWH4_gs-omD"
      },
      "source": [
        "acs = acs.rename(columns={'cluster':'acs_cluster'})"
      ],
      "execution_count": null,
      "outputs": []
    },
    {
      "cell_type": "markdown",
      "metadata": {
        "id": "eT1vHOa1Sj0z"
      },
      "source": [
        "\n",
        "\n",
        "# Clustering Pickup and Dropoff Locations\n"
      ]
    },
    {
      "cell_type": "markdown",
      "metadata": {
        "id": "O_-inxQTEYM-"
      },
      "source": [
        "#### Pickup Locations"
      ]
    },
    {
      "cell_type": "code",
      "metadata": {
        "colab": {
          "base_uri": "https://localhost:8080/"
        },
        "id": "hJ4cIsVe-hoX",
        "outputId": "902dd3c4-ff63-4913-fd31-ebe34bf79d14"
      },
      "source": [
        "np.setdiff1d(range(2,266), FHV.PULocationID.unique())"
      ],
      "execution_count": null,
      "outputs": [
        {
          "output_type": "execute_result",
          "data": {
            "text/plain": [
              "array([103, 104, 132, 264])"
            ]
          },
          "metadata": {
            "tags": []
          },
          "execution_count": 15
        }
      ]
    },
    {
      "cell_type": "code",
      "metadata": {
        "colab": {
          "base_uri": "https://localhost:8080/"
        },
        "id": "r2hUZDVr_EsR",
        "outputId": "10884478-4ed4-4f2e-e375-576c27998be1"
      },
      "source": [
        "np.setdiff1d(range(2,266), acs.LocationID.unique())"
      ],
      "execution_count": null,
      "outputs": [
        {
          "output_type": "execute_result",
          "data": {
            "text/plain": [
              "array([ 57, 104, 105, 264, 265])"
            ]
          },
          "metadata": {
            "tags": []
          },
          "execution_count": 16
        }
      ]
    },
    {
      "cell_type": "code",
      "metadata": {
        "id": "NzOb99ZoyzqG"
      },
      "source": [
        "FHV_PULoc1 = FHV.groupby('PULocationID').sum().iloc[:,1:]\n",
        "FHV_PULoc1['trip_count'] = FHV[['PULocationID','Duration']].groupby('PULocationID').count()"
      ],
      "execution_count": null,
      "outputs": []
    },
    {
      "cell_type": "code",
      "metadata": {
        "id": "ljhq2Wjeu5Du"
      },
      "source": [
        "PULocations = FHV_PULoc1.reset_index().merge(acs, left_on='PULocationID', right_on='LocationID', how='left').drop(columns=['LocationID','acs_cluster'])"
      ],
      "execution_count": null,
      "outputs": []
    },
    {
      "cell_type": "code",
      "metadata": {
        "id": "zWp4lpz7FK8T"
      },
      "source": [
        "PULocations = PULocations.fillna(0)\n",
        "#PULocations['cluster'] = PULocations['cluster'].mask((PULocations['hh_median_income'] == 0), 2)"
      ],
      "execution_count": null,
      "outputs": []
    },
    {
      "cell_type": "code",
      "metadata": {
        "colab": {
          "base_uri": "https://localhost:8080/",
          "height": 439
        },
        "id": "yMHn_cSl7otg",
        "outputId": "f1e3831a-3700-48cb-f1c0-85b15ad11029"
      },
      "source": [
        "PULocations"
      ],
      "execution_count": null,
      "outputs": [
        {
          "output_type": "execute_result",
          "data": {
            "text/html": [
              "<div>\n",
              "<style scoped>\n",
              "    .dataframe tbody tr th:only-of-type {\n",
              "        vertical-align: middle;\n",
              "    }\n",
              "\n",
              "    .dataframe tbody tr th {\n",
              "        vertical-align: top;\n",
              "    }\n",
              "\n",
              "    .dataframe thead th {\n",
              "        text-align: right;\n",
              "    }\n",
              "</style>\n",
              "<table border=\"1\" class=\"dataframe\">\n",
              "  <thead>\n",
              "    <tr style=\"text-align: right;\">\n",
              "      <th></th>\n",
              "      <th>PULocationID</th>\n",
              "      <th>Duration</th>\n",
              "      <th>overnight</th>\n",
              "      <th>subway_x</th>\n",
              "      <th>subway_y</th>\n",
              "      <th>0</th>\n",
              "      <th>1</th>\n",
              "      <th>2</th>\n",
              "      <th>3</th>\n",
              "      <th>4</th>\n",
              "      <th>5</th>\n",
              "      <th>6</th>\n",
              "      <th>Lyft</th>\n",
              "      <th>Uber</th>\n",
              "      <th>Via</th>\n",
              "      <th>trip_count</th>\n",
              "      <th>race_white</th>\n",
              "      <th>transit_commute</th>\n",
              "      <th>transit_12_5</th>\n",
              "      <th>transit_60min+</th>\n",
              "      <th>hh_median_income</th>\n",
              "      <th>essential_workers</th>\n",
              "    </tr>\n",
              "  </thead>\n",
              "  <tbody>\n",
              "    <tr>\n",
              "      <th>0</th>\n",
              "      <td>2</td>\n",
              "      <td>3.892017e+03</td>\n",
              "      <td>21</td>\n",
              "      <td>172.0</td>\n",
              "      <td>157.0</td>\n",
              "      <td>22</td>\n",
              "      <td>22</td>\n",
              "      <td>23</td>\n",
              "      <td>14</td>\n",
              "      <td>18</td>\n",
              "      <td>31</td>\n",
              "      <td>42</td>\n",
              "      <td>66</td>\n",
              "      <td>106</td>\n",
              "      <td>0</td>\n",
              "      <td>172</td>\n",
              "      <td>0.0</td>\n",
              "      <td>0.0</td>\n",
              "      <td>0.0</td>\n",
              "      <td>0.0</td>\n",
              "      <td>0.000000</td>\n",
              "      <td>0.0</td>\n",
              "    </tr>\n",
              "    <tr>\n",
              "      <th>1</th>\n",
              "      <td>3</td>\n",
              "      <td>1.395784e+06</td>\n",
              "      <td>7431</td>\n",
              "      <td>91369.0</td>\n",
              "      <td>84426.0</td>\n",
              "      <td>12231</td>\n",
              "      <td>12128</td>\n",
              "      <td>12832</td>\n",
              "      <td>13005</td>\n",
              "      <td>14512</td>\n",
              "      <td>14153</td>\n",
              "      <td>12508</td>\n",
              "      <td>26009</td>\n",
              "      <td>64592</td>\n",
              "      <td>768</td>\n",
              "      <td>91369</td>\n",
              "      <td>9220.0</td>\n",
              "      <td>5752.0</td>\n",
              "      <td>198.0</td>\n",
              "      <td>3922.0</td>\n",
              "      <td>78678.545455</td>\n",
              "      <td>3205.0</td>\n",
              "    </tr>\n",
              "    <tr>\n",
              "      <th>2</th>\n",
              "      <td>4</td>\n",
              "      <td>1.920232e+06</td>\n",
              "      <td>10041</td>\n",
              "      <td>109690.0</td>\n",
              "      <td>105319.0</td>\n",
              "      <td>13440</td>\n",
              "      <td>13299</td>\n",
              "      <td>14478</td>\n",
              "      <td>15544</td>\n",
              "      <td>18209</td>\n",
              "      <td>19060</td>\n",
              "      <td>15660</td>\n",
              "      <td>34811</td>\n",
              "      <td>69096</td>\n",
              "      <td>5783</td>\n",
              "      <td>109690</td>\n",
              "      <td>10121.0</td>\n",
              "      <td>7346.0</td>\n",
              "      <td>158.0</td>\n",
              "      <td>1255.0</td>\n",
              "      <td>48225.166667</td>\n",
              "      <td>2906.0</td>\n",
              "    </tr>\n",
              "    <tr>\n",
              "      <th>3</th>\n",
              "      <td>5</td>\n",
              "      <td>1.394319e+05</td>\n",
              "      <td>619</td>\n",
              "      <td>0.0</td>\n",
              "      <td>1373.0</td>\n",
              "      <td>1137</td>\n",
              "      <td>1099</td>\n",
              "      <td>1072</td>\n",
              "      <td>1237</td>\n",
              "      <td>1363</td>\n",
              "      <td>1371</td>\n",
              "      <td>1037</td>\n",
              "      <td>1717</td>\n",
              "      <td>6595</td>\n",
              "      <td>4</td>\n",
              "      <td>8316</td>\n",
              "      <td>24498.0</td>\n",
              "      <td>2602.0</td>\n",
              "      <td>28.0</td>\n",
              "      <td>2322.0</td>\n",
              "      <td>91298.500000</td>\n",
              "      <td>2364.0</td>\n",
              "    </tr>\n",
              "    <tr>\n",
              "      <th>4</th>\n",
              "      <td>6</td>\n",
              "      <td>2.750985e+05</td>\n",
              "      <td>1434</td>\n",
              "      <td>0.0</td>\n",
              "      <td>9445.0</td>\n",
              "      <td>2476</td>\n",
              "      <td>2493</td>\n",
              "      <td>2512</td>\n",
              "      <td>2678</td>\n",
              "      <td>2791</td>\n",
              "      <td>2697</td>\n",
              "      <td>2265</td>\n",
              "      <td>4992</td>\n",
              "      <td>12853</td>\n",
              "      <td>67</td>\n",
              "      <td>17912</td>\n",
              "      <td>11378.0</td>\n",
              "      <td>2640.0</td>\n",
              "      <td>36.0</td>\n",
              "      <td>1767.0</td>\n",
              "      <td>78611.000000</td>\n",
              "      <td>1490.0</td>\n",
              "    </tr>\n",
              "    <tr>\n",
              "      <th>...</th>\n",
              "      <td>...</td>\n",
              "      <td>...</td>\n",
              "      <td>...</td>\n",
              "      <td>...</td>\n",
              "      <td>...</td>\n",
              "      <td>...</td>\n",
              "      <td>...</td>\n",
              "      <td>...</td>\n",
              "      <td>...</td>\n",
              "      <td>...</td>\n",
              "      <td>...</td>\n",
              "      <td>...</td>\n",
              "      <td>...</td>\n",
              "      <td>...</td>\n",
              "      <td>...</td>\n",
              "      <td>...</td>\n",
              "      <td>...</td>\n",
              "      <td>...</td>\n",
              "      <td>...</td>\n",
              "      <td>...</td>\n",
              "      <td>...</td>\n",
              "      <td>...</td>\n",
              "    </tr>\n",
              "    <tr>\n",
              "      <th>255</th>\n",
              "      <td>260</td>\n",
              "      <td>2.143701e+06</td>\n",
              "      <td>11215</td>\n",
              "      <td>136309.0</td>\n",
              "      <td>128742.0</td>\n",
              "      <td>19304</td>\n",
              "      <td>17211</td>\n",
              "      <td>18145</td>\n",
              "      <td>18710</td>\n",
              "      <td>21530</td>\n",
              "      <td>21952</td>\n",
              "      <td>19457</td>\n",
              "      <td>37645</td>\n",
              "      <td>97849</td>\n",
              "      <td>815</td>\n",
              "      <td>136309</td>\n",
              "      <td>18985.0</td>\n",
              "      <td>15002.0</td>\n",
              "      <td>385.0</td>\n",
              "      <td>2996.0</td>\n",
              "      <td>64765.833333</td>\n",
              "      <td>6166.0</td>\n",
              "    </tr>\n",
              "    <tr>\n",
              "      <th>256</th>\n",
              "      <td>261</td>\n",
              "      <td>1.356681e+06</td>\n",
              "      <td>4369</td>\n",
              "      <td>64794.0</td>\n",
              "      <td>59115.0</td>\n",
              "      <td>8702</td>\n",
              "      <td>8307</td>\n",
              "      <td>9239</td>\n",
              "      <td>9627</td>\n",
              "      <td>10125</td>\n",
              "      <td>10178</td>\n",
              "      <td>8616</td>\n",
              "      <td>17427</td>\n",
              "      <td>45997</td>\n",
              "      <td>1370</td>\n",
              "      <td>64794</td>\n",
              "      <td>3110.0</td>\n",
              "      <td>1903.0</td>\n",
              "      <td>30.0</td>\n",
              "      <td>175.0</td>\n",
              "      <td>171173.000000</td>\n",
              "      <td>366.0</td>\n",
              "    </tr>\n",
              "    <tr>\n",
              "      <th>257</th>\n",
              "      <td>262</td>\n",
              "      <td>1.896528e+06</td>\n",
              "      <td>4916</td>\n",
              "      <td>0.0</td>\n",
              "      <td>105708.0</td>\n",
              "      <td>14692</td>\n",
              "      <td>14987</td>\n",
              "      <td>16412</td>\n",
              "      <td>17414</td>\n",
              "      <td>18788</td>\n",
              "      <td>16699</td>\n",
              "      <td>13506</td>\n",
              "      <td>32449</td>\n",
              "      <td>72530</td>\n",
              "      <td>7519</td>\n",
              "      <td>112498</td>\n",
              "      <td>28931.0</td>\n",
              "      <td>13515.0</td>\n",
              "      <td>114.0</td>\n",
              "      <td>1176.0</td>\n",
              "      <td>113722.000000</td>\n",
              "      <td>3052.0</td>\n",
              "    </tr>\n",
              "    <tr>\n",
              "      <th>258</th>\n",
              "      <td>263</td>\n",
              "      <td>2.847594e+06</td>\n",
              "      <td>8246</td>\n",
              "      <td>164116.0</td>\n",
              "      <td>154410.0</td>\n",
              "      <td>21424</td>\n",
              "      <td>20856</td>\n",
              "      <td>23254</td>\n",
              "      <td>24334</td>\n",
              "      <td>27730</td>\n",
              "      <td>25644</td>\n",
              "      <td>20874</td>\n",
              "      <td>47124</td>\n",
              "      <td>108226</td>\n",
              "      <td>8766</td>\n",
              "      <td>164116</td>\n",
              "      <td>34746.0</td>\n",
              "      <td>20104.0</td>\n",
              "      <td>45.0</td>\n",
              "      <td>1643.0</td>\n",
              "      <td>116937.800000</td>\n",
              "      <td>4079.0</td>\n",
              "    </tr>\n",
              "    <tr>\n",
              "      <th>259</th>\n",
              "      <td>265</td>\n",
              "      <td>6.389157e+04</td>\n",
              "      <td>255</td>\n",
              "      <td>0.0</td>\n",
              "      <td>1683.0</td>\n",
              "      <td>462</td>\n",
              "      <td>398</td>\n",
              "      <td>441</td>\n",
              "      <td>412</td>\n",
              "      <td>513</td>\n",
              "      <td>413</td>\n",
              "      <td>407</td>\n",
              "      <td>1145</td>\n",
              "      <td>1480</td>\n",
              "      <td>421</td>\n",
              "      <td>3046</td>\n",
              "      <td>0.0</td>\n",
              "      <td>0.0</td>\n",
              "      <td>0.0</td>\n",
              "      <td>0.0</td>\n",
              "      <td>0.000000</td>\n",
              "      <td>0.0</td>\n",
              "    </tr>\n",
              "  </tbody>\n",
              "</table>\n",
              "<p>260 rows × 22 columns</p>\n",
              "</div>"
            ],
            "text/plain": [
              "     PULocationID      Duration  ...  hh_median_income  essential_workers\n",
              "0               2  3.892017e+03  ...          0.000000                0.0\n",
              "1               3  1.395784e+06  ...      78678.545455             3205.0\n",
              "2               4  1.920232e+06  ...      48225.166667             2906.0\n",
              "3               5  1.394319e+05  ...      91298.500000             2364.0\n",
              "4               6  2.750985e+05  ...      78611.000000             1490.0\n",
              "..            ...           ...  ...               ...                ...\n",
              "255           260  2.143701e+06  ...      64765.833333             6166.0\n",
              "256           261  1.356681e+06  ...     171173.000000              366.0\n",
              "257           262  1.896528e+06  ...     113722.000000             3052.0\n",
              "258           263  2.847594e+06  ...     116937.800000             4079.0\n",
              "259           265  6.389157e+04  ...          0.000000                0.0\n",
              "\n",
              "[260 rows x 22 columns]"
            ]
          },
          "metadata": {
            "tags": []
          },
          "execution_count": 20
        }
      ]
    },
    {
      "cell_type": "code",
      "metadata": {
        "id": "XTlbf5QY8jid"
      },
      "source": [
        "scaler = StandardScaler()\n",
        "scaled_PU = scaler.fit_transform(PULocations)"
      ],
      "execution_count": null,
      "outputs": []
    },
    {
      "cell_type": "code",
      "metadata": {
        "colab": {
          "base_uri": "https://localhost:8080/"
        },
        "id": "NDpo0_ZD8r1D",
        "outputId": "140c2d58-cfbe-424a-dcdd-deb8592785a7"
      },
      "source": [
        "##  KMeans Clustering for ACS + Trip Data\n",
        "\n",
        "for n_clusters in range(2,13):\n",
        "    km = KMeans(random_state=1234 ,n_clusters=n_clusters)\n",
        "    res= km.fit(scaled_PU)   \n",
        "    cluster_labels = res.labels_\n",
        "    silhouette_avg = silhouette_score(scaled_PU, cluster_labels)\n",
        "    print(\"For n_clusters = {},\".format(n_clusters)+\" the average silhouette_score is : {}\".format(silhouette_avg))"
      ],
      "execution_count": null,
      "outputs": [
        {
          "output_type": "stream",
          "text": [
            "For n_clusters = 2, the average silhouette_score is : 0.4404247865496471\n",
            "For n_clusters = 3, the average silhouette_score is : 0.32535833911511935\n",
            "For n_clusters = 4, the average silhouette_score is : 0.3033947489724114\n",
            "For n_clusters = 5, the average silhouette_score is : 0.3114109721255114\n",
            "For n_clusters = 6, the average silhouette_score is : 0.26567713441453\n",
            "For n_clusters = 7, the average silhouette_score is : 0.25704619681145086\n",
            "For n_clusters = 8, the average silhouette_score is : 0.24875448454415466\n",
            "For n_clusters = 9, the average silhouette_score is : 0.25094865583409914\n",
            "For n_clusters = 10, the average silhouette_score is : 0.24949218190422978\n",
            "For n_clusters = 11, the average silhouette_score is : 0.23293441778614962\n",
            "For n_clusters = 12, the average silhouette_score is : 0.24217062215123827\n"
          ],
          "name": "stdout"
        }
      ]
    },
    {
      "cell_type": "code",
      "metadata": {
        "id": "Sy2izg4n9GOZ"
      },
      "source": [
        "km = KMeans(random_state=1234 ,n_clusters=5)\n",
        "res= km.fit(scaled_PU)   \n",
        "PULocations['PU_cluster'] = res.labels_"
      ],
      "execution_count": null,
      "outputs": []
    },
    {
      "cell_type": "code",
      "metadata": {
        "colab": {
          "base_uri": "https://localhost:8080/",
          "height": 255
        },
        "id": "NnhN6EFM9Nno",
        "outputId": "4618a585-8b6f-43c9-f242-84210a69ef25"
      },
      "source": [
        "PULocations.groupby('PU_cluster').mean()"
      ],
      "execution_count": null,
      "outputs": [
        {
          "output_type": "execute_result",
          "data": {
            "text/html": [
              "<div>\n",
              "<style scoped>\n",
              "    .dataframe tbody tr th:only-of-type {\n",
              "        vertical-align: middle;\n",
              "    }\n",
              "\n",
              "    .dataframe tbody tr th {\n",
              "        vertical-align: top;\n",
              "    }\n",
              "\n",
              "    .dataframe thead th {\n",
              "        text-align: right;\n",
              "    }\n",
              "</style>\n",
              "<table border=\"1\" class=\"dataframe\">\n",
              "  <thead>\n",
              "    <tr style=\"text-align: right;\">\n",
              "      <th></th>\n",
              "      <th>PULocationID</th>\n",
              "      <th>Duration</th>\n",
              "      <th>overnight</th>\n",
              "      <th>subway_x</th>\n",
              "      <th>subway_y</th>\n",
              "      <th>0</th>\n",
              "      <th>1</th>\n",
              "      <th>2</th>\n",
              "      <th>3</th>\n",
              "      <th>4</th>\n",
              "      <th>5</th>\n",
              "      <th>6</th>\n",
              "      <th>Lyft</th>\n",
              "      <th>Uber</th>\n",
              "      <th>Via</th>\n",
              "      <th>trip_count</th>\n",
              "      <th>race_white</th>\n",
              "      <th>transit_commute</th>\n",
              "      <th>transit_12_5</th>\n",
              "      <th>transit_60min+</th>\n",
              "      <th>hh_median_income</th>\n",
              "      <th>essential_workers</th>\n",
              "    </tr>\n",
              "    <tr>\n",
              "      <th>PU_cluster</th>\n",
              "      <th></th>\n",
              "      <th></th>\n",
              "      <th></th>\n",
              "      <th></th>\n",
              "      <th></th>\n",
              "      <th></th>\n",
              "      <th></th>\n",
              "      <th></th>\n",
              "      <th></th>\n",
              "      <th></th>\n",
              "      <th></th>\n",
              "      <th></th>\n",
              "      <th></th>\n",
              "      <th></th>\n",
              "      <th></th>\n",
              "      <th></th>\n",
              "      <th></th>\n",
              "      <th></th>\n",
              "      <th></th>\n",
              "      <th></th>\n",
              "      <th></th>\n",
              "      <th></th>\n",
              "    </tr>\n",
              "  </thead>\n",
              "  <tbody>\n",
              "    <tr>\n",
              "      <th>0</th>\n",
              "      <td>156.060000</td>\n",
              "      <td>2.653044e+06</td>\n",
              "      <td>8217.820000</td>\n",
              "      <td>141381.560000</td>\n",
              "      <td>137728.860000</td>\n",
              "      <td>19225.720000</td>\n",
              "      <td>18864.640000</td>\n",
              "      <td>20763.340000</td>\n",
              "      <td>21658.260000</td>\n",
              "      <td>23684.000000</td>\n",
              "      <td>23169.860000</td>\n",
              "      <td>19428.520000</td>\n",
              "      <td>40867.480000</td>\n",
              "      <td>100920.780000</td>\n",
              "      <td>5006.080000</td>\n",
              "      <td>146794.340000</td>\n",
              "      <td>15778.020000</td>\n",
              "      <td>7772.200000</td>\n",
              "      <td>41.000000</td>\n",
              "      <td>719.700000</td>\n",
              "      <td>126258.593905</td>\n",
              "      <td>2113.100000</td>\n",
              "    </tr>\n",
              "    <tr>\n",
              "      <th>1</th>\n",
              "      <td>131.216216</td>\n",
              "      <td>3.921105e+06</td>\n",
              "      <td>20974.135135</td>\n",
              "      <td>238682.270270</td>\n",
              "      <td>225595.351351</td>\n",
              "      <td>31361.540541</td>\n",
              "      <td>29788.567568</td>\n",
              "      <td>32446.675676</td>\n",
              "      <td>33543.351351</td>\n",
              "      <td>38314.810811</td>\n",
              "      <td>39059.324324</td>\n",
              "      <td>34168.000000</td>\n",
              "      <td>67231.432432</td>\n",
              "      <td>168334.675676</td>\n",
              "      <td>3116.162162</td>\n",
              "      <td>238682.270270</td>\n",
              "      <td>19367.864865</td>\n",
              "      <td>17418.378378</td>\n",
              "      <td>507.513514</td>\n",
              "      <td>5719.567568</td>\n",
              "      <td>57321.511272</td>\n",
              "      <td>7693.837838</td>\n",
              "    </tr>\n",
              "    <tr>\n",
              "      <th>2</th>\n",
              "      <td>93.916667</td>\n",
              "      <td>7.145393e+06</td>\n",
              "      <td>38327.083333</td>\n",
              "      <td>414233.750000</td>\n",
              "      <td>397428.166667</td>\n",
              "      <td>54301.416667</td>\n",
              "      <td>51708.083333</td>\n",
              "      <td>56124.500000</td>\n",
              "      <td>58217.333333</td>\n",
              "      <td>66073.083333</td>\n",
              "      <td>67906.083333</td>\n",
              "      <td>59903.250000</td>\n",
              "      <td>131138.500000</td>\n",
              "      <td>276687.583333</td>\n",
              "      <td>6407.666667</td>\n",
              "      <td>414233.750000</td>\n",
              "      <td>18556.500000</td>\n",
              "      <td>25647.000000</td>\n",
              "      <td>826.250000</td>\n",
              "      <td>8174.083333</td>\n",
              "      <td>51630.766314</td>\n",
              "      <td>10350.000000</td>\n",
              "    </tr>\n",
              "    <tr>\n",
              "      <th>3</th>\n",
              "      <td>136.206897</td>\n",
              "      <td>1.965210e+06</td>\n",
              "      <td>10147.551724</td>\n",
              "      <td>112258.741379</td>\n",
              "      <td>108737.689655</td>\n",
              "      <td>16674.224138</td>\n",
              "      <td>15699.344828</td>\n",
              "      <td>16824.724138</td>\n",
              "      <td>17209.068966</td>\n",
              "      <td>19147.620690</td>\n",
              "      <td>18631.741379</td>\n",
              "      <td>16606.879310</td>\n",
              "      <td>32632.500000</td>\n",
              "      <td>87307.224138</td>\n",
              "      <td>853.879310</td>\n",
              "      <td>120793.603448</td>\n",
              "      <td>16524.672414</td>\n",
              "      <td>10613.379310</td>\n",
              "      <td>383.793103</td>\n",
              "      <td>5310.965517</td>\n",
              "      <td>57832.465456</td>\n",
              "      <td>5832.586207</td>\n",
              "    </tr>\n",
              "    <tr>\n",
              "      <th>4</th>\n",
              "      <td>125.786408</td>\n",
              "      <td>5.721935e+05</td>\n",
              "      <td>2503.951456</td>\n",
              "      <td>23969.485437</td>\n",
              "      <td>25720.786408</td>\n",
              "      <td>4553.737864</td>\n",
              "      <td>4262.165049</td>\n",
              "      <td>4606.368932</td>\n",
              "      <td>4756.757282</td>\n",
              "      <td>5277.368932</td>\n",
              "      <td>5323.844660</td>\n",
              "      <td>4646.932039</td>\n",
              "      <td>9666.864078</td>\n",
              "      <td>23393.495146</td>\n",
              "      <td>366.815534</td>\n",
              "      <td>33427.174757</td>\n",
              "      <td>8840.737864</td>\n",
              "      <td>3059.961165</td>\n",
              "      <td>75.058252</td>\n",
              "      <td>1627.854369</td>\n",
              "      <td>66661.366819</td>\n",
              "      <td>1704.524272</td>\n",
              "    </tr>\n",
              "  </tbody>\n",
              "</table>\n",
              "</div>"
            ],
            "text/plain": [
              "            PULocationID      Duration  ...  hh_median_income  essential_workers\n",
              "PU_cluster                              ...                                     \n",
              "0             156.060000  2.653044e+06  ...     126258.593905        2113.100000\n",
              "1             131.216216  3.921105e+06  ...      57321.511272        7693.837838\n",
              "2              93.916667  7.145393e+06  ...      51630.766314       10350.000000\n",
              "3             136.206897  1.965210e+06  ...      57832.465456        5832.586207\n",
              "4             125.786408  5.721935e+05  ...      66661.366819        1704.524272\n",
              "\n",
              "[5 rows x 22 columns]"
            ]
          },
          "metadata": {
            "tags": []
          },
          "execution_count": 24
        }
      ]
    },
    {
      "cell_type": "markdown",
      "metadata": {
        "id": "GfO3ui4eEbUn"
      },
      "source": [
        "#### Dropoff Locations"
      ]
    },
    {
      "cell_type": "code",
      "metadata": {
        "id": "w4LDK2eQ9GgQ"
      },
      "source": [
        "FHV_DOLoc1 = FHV.groupby('DOLocationID').sum().iloc[:,1:]\n",
        "FHV_DOLoc1['trip_count'] = FHV[['DOLocationID','Duration']].groupby('DOLocationID').count()"
      ],
      "execution_count": null,
      "outputs": []
    },
    {
      "cell_type": "code",
      "metadata": {
        "id": "HuDB9jR7ExQv"
      },
      "source": [
        "DOLocations = FHV_DOLoc1.reset_index().merge(acs, left_on='DOLocationID', right_on='LocationID', how='left')"
      ],
      "execution_count": null,
      "outputs": []
    },
    {
      "cell_type": "code",
      "metadata": {
        "id": "Uul3q-4_FA7v"
      },
      "source": [
        "DOLocations = DOLocations.drop(columns=['LocationID','acs_cluster'])"
      ],
      "execution_count": null,
      "outputs": []
    },
    {
      "cell_type": "code",
      "metadata": {
        "colab": {
          "base_uri": "https://localhost:8080/",
          "height": 439
        },
        "id": "CI1FSrR8FYgt",
        "outputId": "395f7dc8-13d0-4c2f-b820-3d2a9cd7b3ab"
      },
      "source": [
        "DOLocations = DOLocations.fillna(0)\n",
        "DOLocations"
      ],
      "execution_count": null,
      "outputs": [
        {
          "output_type": "execute_result",
          "data": {
            "text/html": [
              "<div>\n",
              "<style scoped>\n",
              "    .dataframe tbody tr th:only-of-type {\n",
              "        vertical-align: middle;\n",
              "    }\n",
              "\n",
              "    .dataframe tbody tr th {\n",
              "        vertical-align: top;\n",
              "    }\n",
              "\n",
              "    .dataframe thead th {\n",
              "        text-align: right;\n",
              "    }\n",
              "</style>\n",
              "<table border=\"1\" class=\"dataframe\">\n",
              "  <thead>\n",
              "    <tr style=\"text-align: right;\">\n",
              "      <th></th>\n",
              "      <th>DOLocationID</th>\n",
              "      <th>Duration</th>\n",
              "      <th>overnight</th>\n",
              "      <th>subway_x</th>\n",
              "      <th>subway_y</th>\n",
              "      <th>0</th>\n",
              "      <th>1</th>\n",
              "      <th>2</th>\n",
              "      <th>3</th>\n",
              "      <th>4</th>\n",
              "      <th>5</th>\n",
              "      <th>6</th>\n",
              "      <th>Lyft</th>\n",
              "      <th>Uber</th>\n",
              "      <th>Via</th>\n",
              "      <th>trip_count</th>\n",
              "      <th>race_white</th>\n",
              "      <th>transit_commute</th>\n",
              "      <th>transit_12_5</th>\n",
              "      <th>transit_60min+</th>\n",
              "      <th>hh_median_income</th>\n",
              "      <th>essential_workers</th>\n",
              "    </tr>\n",
              "  </thead>\n",
              "  <tbody>\n",
              "    <tr>\n",
              "      <th>0</th>\n",
              "      <td>2</td>\n",
              "      <td>4.871017e+03</td>\n",
              "      <td>27</td>\n",
              "      <td>185.0</td>\n",
              "      <td>203.0</td>\n",
              "      <td>25</td>\n",
              "      <td>20</td>\n",
              "      <td>26</td>\n",
              "      <td>23</td>\n",
              "      <td>29</td>\n",
              "      <td>36</td>\n",
              "      <td>44</td>\n",
              "      <td>75</td>\n",
              "      <td>124</td>\n",
              "      <td>4</td>\n",
              "      <td>203</td>\n",
              "      <td>0.0</td>\n",
              "      <td>0.0</td>\n",
              "      <td>0.0</td>\n",
              "      <td>0.0</td>\n",
              "      <td>0.000000</td>\n",
              "      <td>0.0</td>\n",
              "    </tr>\n",
              "    <tr>\n",
              "      <th>1</th>\n",
              "      <td>3</td>\n",
              "      <td>1.299787e+06</td>\n",
              "      <td>6985</td>\n",
              "      <td>85666.0</td>\n",
              "      <td>86697.0</td>\n",
              "      <td>11547</td>\n",
              "      <td>11427</td>\n",
              "      <td>12190</td>\n",
              "      <td>12486</td>\n",
              "      <td>13762</td>\n",
              "      <td>13796</td>\n",
              "      <td>11489</td>\n",
              "      <td>22918</td>\n",
              "      <td>63022</td>\n",
              "      <td>757</td>\n",
              "      <td>86697</td>\n",
              "      <td>9220.0</td>\n",
              "      <td>5752.0</td>\n",
              "      <td>198.0</td>\n",
              "      <td>3922.0</td>\n",
              "      <td>78678.545455</td>\n",
              "      <td>3205.0</td>\n",
              "    </tr>\n",
              "    <tr>\n",
              "      <th>2</th>\n",
              "      <td>4</td>\n",
              "      <td>1.604348e+06</td>\n",
              "      <td>7980</td>\n",
              "      <td>94782.0</td>\n",
              "      <td>96676.0</td>\n",
              "      <td>11966</td>\n",
              "      <td>11226</td>\n",
              "      <td>12358</td>\n",
              "      <td>12910</td>\n",
              "      <td>15420</td>\n",
              "      <td>17655</td>\n",
              "      <td>15141</td>\n",
              "      <td>30428</td>\n",
              "      <td>61420</td>\n",
              "      <td>4828</td>\n",
              "      <td>96676</td>\n",
              "      <td>10121.0</td>\n",
              "      <td>7346.0</td>\n",
              "      <td>158.0</td>\n",
              "      <td>1255.0</td>\n",
              "      <td>48225.166667</td>\n",
              "      <td>2906.0</td>\n",
              "    </tr>\n",
              "    <tr>\n",
              "      <th>3</th>\n",
              "      <td>5</td>\n",
              "      <td>1.268784e+05</td>\n",
              "      <td>663</td>\n",
              "      <td>1299.0</td>\n",
              "      <td>0.0</td>\n",
              "      <td>974</td>\n",
              "      <td>1000</td>\n",
              "      <td>972</td>\n",
              "      <td>1145</td>\n",
              "      <td>1199</td>\n",
              "      <td>1283</td>\n",
              "      <td>1021</td>\n",
              "      <td>1496</td>\n",
              "      <td>6066</td>\n",
              "      <td>32</td>\n",
              "      <td>7594</td>\n",
              "      <td>24498.0</td>\n",
              "      <td>2602.0</td>\n",
              "      <td>28.0</td>\n",
              "      <td>2322.0</td>\n",
              "      <td>91298.500000</td>\n",
              "      <td>2364.0</td>\n",
              "    </tr>\n",
              "    <tr>\n",
              "      <th>4</th>\n",
              "      <td>6</td>\n",
              "      <td>2.597085e+05</td>\n",
              "      <td>1332</td>\n",
              "      <td>9838.0</td>\n",
              "      <td>0.0</td>\n",
              "      <td>2449</td>\n",
              "      <td>2470</td>\n",
              "      <td>2636</td>\n",
              "      <td>2698</td>\n",
              "      <td>2860</td>\n",
              "      <td>2538</td>\n",
              "      <td>2086</td>\n",
              "      <td>4445</td>\n",
              "      <td>13171</td>\n",
              "      <td>121</td>\n",
              "      <td>17737</td>\n",
              "      <td>11378.0</td>\n",
              "      <td>2640.0</td>\n",
              "      <td>36.0</td>\n",
              "      <td>1767.0</td>\n",
              "      <td>78611.000000</td>\n",
              "      <td>1490.0</td>\n",
              "    </tr>\n",
              "    <tr>\n",
              "      <th>...</th>\n",
              "      <td>...</td>\n",
              "      <td>...</td>\n",
              "      <td>...</td>\n",
              "      <td>...</td>\n",
              "      <td>...</td>\n",
              "      <td>...</td>\n",
              "      <td>...</td>\n",
              "      <td>...</td>\n",
              "      <td>...</td>\n",
              "      <td>...</td>\n",
              "      <td>...</td>\n",
              "      <td>...</td>\n",
              "      <td>...</td>\n",
              "      <td>...</td>\n",
              "      <td>...</td>\n",
              "      <td>...</td>\n",
              "      <td>...</td>\n",
              "      <td>...</td>\n",
              "      <td>...</td>\n",
              "      <td>...</td>\n",
              "      <td>...</td>\n",
              "      <td>...</td>\n",
              "    </tr>\n",
              "    <tr>\n",
              "      <th>256</th>\n",
              "      <td>261</td>\n",
              "      <td>1.214763e+06</td>\n",
              "      <td>5128</td>\n",
              "      <td>62646.0</td>\n",
              "      <td>64288.0</td>\n",
              "      <td>9072</td>\n",
              "      <td>8604</td>\n",
              "      <td>9197</td>\n",
              "      <td>9574</td>\n",
              "      <td>10315</td>\n",
              "      <td>9620</td>\n",
              "      <td>7906</td>\n",
              "      <td>17445</td>\n",
              "      <td>45229</td>\n",
              "      <td>1614</td>\n",
              "      <td>64288</td>\n",
              "      <td>3110.0</td>\n",
              "      <td>1903.0</td>\n",
              "      <td>30.0</td>\n",
              "      <td>175.0</td>\n",
              "      <td>171173.000000</td>\n",
              "      <td>366.0</td>\n",
              "    </tr>\n",
              "    <tr>\n",
              "      <th>257</th>\n",
              "      <td>262</td>\n",
              "      <td>1.641266e+06</td>\n",
              "      <td>5467</td>\n",
              "      <td>94997.0</td>\n",
              "      <td>0.0</td>\n",
              "      <td>12895</td>\n",
              "      <td>12557</td>\n",
              "      <td>13765</td>\n",
              "      <td>14150</td>\n",
              "      <td>15074</td>\n",
              "      <td>14886</td>\n",
              "      <td>14175</td>\n",
              "      <td>27342</td>\n",
              "      <td>63599</td>\n",
              "      <td>6561</td>\n",
              "      <td>97502</td>\n",
              "      <td>28931.0</td>\n",
              "      <td>13515.0</td>\n",
              "      <td>114.0</td>\n",
              "      <td>1176.0</td>\n",
              "      <td>113722.000000</td>\n",
              "      <td>3052.0</td>\n",
              "    </tr>\n",
              "    <tr>\n",
              "      <th>258</th>\n",
              "      <td>263</td>\n",
              "      <td>2.505227e+06</td>\n",
              "      <td>8752</td>\n",
              "      <td>149211.0</td>\n",
              "      <td>152989.0</td>\n",
              "      <td>19956</td>\n",
              "      <td>19576</td>\n",
              "      <td>21555</td>\n",
              "      <td>21731</td>\n",
              "      <td>24344</td>\n",
              "      <td>24167</td>\n",
              "      <td>21660</td>\n",
              "      <td>44636</td>\n",
              "      <td>100650</td>\n",
              "      <td>7703</td>\n",
              "      <td>152989</td>\n",
              "      <td>34746.0</td>\n",
              "      <td>20104.0</td>\n",
              "      <td>45.0</td>\n",
              "      <td>1643.0</td>\n",
              "      <td>116937.800000</td>\n",
              "      <td>4079.0</td>\n",
              "    </tr>\n",
              "    <tr>\n",
              "      <th>259</th>\n",
              "      <td>264</td>\n",
              "      <td>1.821667e+01</td>\n",
              "      <td>0</td>\n",
              "      <td>1.0</td>\n",
              "      <td>0.0</td>\n",
              "      <td>0</td>\n",
              "      <td>0</td>\n",
              "      <td>0</td>\n",
              "      <td>1</td>\n",
              "      <td>0</td>\n",
              "      <td>0</td>\n",
              "      <td>0</td>\n",
              "      <td>1</td>\n",
              "      <td>0</td>\n",
              "      <td>0</td>\n",
              "      <td>1</td>\n",
              "      <td>0.0</td>\n",
              "      <td>0.0</td>\n",
              "      <td>0.0</td>\n",
              "      <td>0.0</td>\n",
              "      <td>0.000000</td>\n",
              "      <td>0.0</td>\n",
              "    </tr>\n",
              "    <tr>\n",
              "      <th>260</th>\n",
              "      <td>265</td>\n",
              "      <td>3.099907e+07</td>\n",
              "      <td>76020</td>\n",
              "      <td>847007.0</td>\n",
              "      <td>0.0</td>\n",
              "      <td>130798</td>\n",
              "      <td>123635</td>\n",
              "      <td>131166</td>\n",
              "      <td>140668</td>\n",
              "      <td>161360</td>\n",
              "      <td>171233</td>\n",
              "      <td>143774</td>\n",
              "      <td>388359</td>\n",
              "      <td>613809</td>\n",
              "      <td>466</td>\n",
              "      <td>1002634</td>\n",
              "      <td>0.0</td>\n",
              "      <td>0.0</td>\n",
              "      <td>0.0</td>\n",
              "      <td>0.0</td>\n",
              "      <td>0.000000</td>\n",
              "      <td>0.0</td>\n",
              "    </tr>\n",
              "  </tbody>\n",
              "</table>\n",
              "<p>261 rows × 22 columns</p>\n",
              "</div>"
            ],
            "text/plain": [
              "     DOLocationID      Duration  ...  hh_median_income  essential_workers\n",
              "0               2  4.871017e+03  ...          0.000000                0.0\n",
              "1               3  1.299787e+06  ...      78678.545455             3205.0\n",
              "2               4  1.604348e+06  ...      48225.166667             2906.0\n",
              "3               5  1.268784e+05  ...      91298.500000             2364.0\n",
              "4               6  2.597085e+05  ...      78611.000000             1490.0\n",
              "..            ...           ...  ...               ...                ...\n",
              "256           261  1.214763e+06  ...     171173.000000              366.0\n",
              "257           262  1.641266e+06  ...     113722.000000             3052.0\n",
              "258           263  2.505227e+06  ...     116937.800000             4079.0\n",
              "259           264  1.821667e+01  ...          0.000000                0.0\n",
              "260           265  3.099907e+07  ...          0.000000                0.0\n",
              "\n",
              "[261 rows x 22 columns]"
            ]
          },
          "metadata": {
            "tags": []
          },
          "execution_count": 28
        }
      ]
    },
    {
      "cell_type": "code",
      "metadata": {
        "id": "st4unyXf9__E"
      },
      "source": [
        "scaled_DO = scaler.fit_transform(DOLocations)"
      ],
      "execution_count": null,
      "outputs": []
    },
    {
      "cell_type": "code",
      "metadata": {
        "colab": {
          "base_uri": "https://localhost:8080/"
        },
        "id": "JlvF3Q50FH0z",
        "outputId": "89f90048-c14b-4fd1-e16b-3260750aec9a"
      },
      "source": [
        "##  KMeans Clustering for ACS + Trip Data\n",
        "\n",
        "for n_clusters in range(2,13):\n",
        "    km = KMeans(random_state=1234 ,n_clusters=n_clusters)\n",
        "    res= km.fit(scaled_DO)   \n",
        "    cluster_labels = res.labels_\n",
        "    silhouette_avg = silhouette_score(scaled_DO, cluster_labels)\n",
        "    print(\"For n_clusters = {},\".format(n_clusters)+\" the average silhouette_score is : {}\".format(silhouette_avg))"
      ],
      "execution_count": null,
      "outputs": [
        {
          "output_type": "stream",
          "text": [
            "For n_clusters = 2, the average silhouette_score is : 0.45146056182575456\n",
            "For n_clusters = 3, the average silhouette_score is : 0.328630606566722\n",
            "For n_clusters = 4, the average silhouette_score is : 0.3095321318862465\n",
            "For n_clusters = 5, the average silhouette_score is : 0.3187518988459459\n",
            "For n_clusters = 6, the average silhouette_score is : 0.28423089035004884\n",
            "For n_clusters = 7, the average silhouette_score is : 0.2477561298727325\n",
            "For n_clusters = 8, the average silhouette_score is : 0.24702983621597938\n",
            "For n_clusters = 9, the average silhouette_score is : 0.23531643552815962\n",
            "For n_clusters = 10, the average silhouette_score is : 0.24070919914869784\n",
            "For n_clusters = 11, the average silhouette_score is : 0.2389772490744592\n",
            "For n_clusters = 12, the average silhouette_score is : 0.2334210977274703\n"
          ],
          "name": "stdout"
        }
      ]
    },
    {
      "cell_type": "code",
      "metadata": {
        "id": "a0RNHTko-Hxw"
      },
      "source": [
        "km = KMeans(random_state=1234 ,n_clusters=5)\n",
        "res= km.fit(scaled_DO)   \n",
        "DOLocations['DO_cluster'] = res.labels_"
      ],
      "execution_count": null,
      "outputs": []
    },
    {
      "cell_type": "markdown",
      "metadata": {
        "id": "2AvGHd7qCSpQ"
      },
      "source": [
        "# Split Dataset into smaller random samples for testing\n"
      ]
    },
    {
      "cell_type": "code",
      "metadata": {
        "id": "jcTur7eGEKbT"
      },
      "source": [
        "FHV_sub1, FHV_sub2 = train_test_split(FHV ,random_state=1234,test_size=0.4)"
      ],
      "execution_count": null,
      "outputs": []
    },
    {
      "cell_type": "markdown",
      "metadata": {
        "id": "b5YFvWbQFEK2"
      },
      "source": [
        "#### Using only ACS Clusters intead of individual ACS info for PU and DO Zones"
      ]
    },
    {
      "cell_type": "code",
      "metadata": {
        "id": "ZfBMYBJR-Kxj"
      },
      "source": [
        "# Merge ACS clusters with FHV ride data\n",
        "\n",
        "FHV_merged = FHV_sub2.merge(acs[['LocationID','acs_cluster']], left_on='PULocationID', right_on='LocationID', how='left').drop(columns='LocationID')\\\n",
        "    .merge(acs[['LocationID','acs_cluster']], left_on='DOLocationID', right_on='LocationID', how='left').drop(columns='LocationID')"
      ],
      "execution_count": null,
      "outputs": []
    },
    {
      "cell_type": "code",
      "metadata": {
        "id": "FGMmaVWf-94O"
      },
      "source": [
        "# Merge Taxi Zone clusters with FHV ride data\n",
        "\n",
        "FHV_merged = FHV_merged.merge(PULocations[['PULocationID','PU_cluster']], on='PULocationID', how='left')\\\n",
        "    .merge(DOLocations[['DOLocationID','DO_cluster']], on='DOLocationID', how='left')"
      ],
      "execution_count": null,
      "outputs": []
    },
    {
      "cell_type": "code",
      "metadata": {
        "id": "hNFVG9aYDaC-"
      },
      "source": [
        "FHV_merged.dropna(inplace=True)"
      ],
      "execution_count": null,
      "outputs": []
    },
    {
      "cell_type": "code",
      "metadata": {
        "id": "GHrVG5EiDlzo"
      },
      "source": [
        "FHV_merged = FHV_merged.rename(columns={'acs_cluster_x':'PU_acs','acs_cluster_y':'DO_acs'})"
      ],
      "execution_count": null,
      "outputs": []
    },
    {
      "cell_type": "code",
      "metadata": {
        "id": "Njo2Ax5Jbrtu"
      },
      "source": [
        ""
      ],
      "execution_count": null,
      "outputs": []
    },
    {
      "cell_type": "markdown",
      "metadata": {
        "id": "b8taRSuebu9z"
      },
      "source": [
        "## Feature Selection and Modelling"
      ]
    },
    {
      "cell_type": "code",
      "metadata": {
        "id": "sxOQAoV4BLgf"
      },
      "source": [
        "# Train-Test Split\n",
        "\n",
        "X = FHV_merged.drop(columns=['overnight','PULocationID','DOLocationID'])\n",
        "y = FHV_merged['overnight']\n",
        "\n",
        "X_train, X_test, y_train, y_test = train_test_split(X,y,random_state=1234,test_size=0.4)"
      ],
      "execution_count": null,
      "outputs": []
    },
    {
      "cell_type": "code",
      "metadata": {
        "id": "JyU5odpdDOUi"
      },
      "source": [
        "## Standardizing the Data\n",
        "scaler = StandardScaler()\n",
        "scale = scaler.fit(X_train)\n",
        "XS_train = scale.transform(X_train)\n",
        "XS_test = scale.transform(X_test)"
      ],
      "execution_count": null,
      "outputs": []
    },
    {
      "cell_type": "code",
      "metadata": {
        "colab": {
          "base_uri": "https://localhost:8080/"
        },
        "id": "Ouu5xw2hXOlk",
        "outputId": "ae293c90-6084-477a-d198-d5efc8e9e92b"
      },
      "source": [
        "## First train the model using only \"Duration\" variable\n",
        "\n",
        "X_train_Duration = np.array(X_train['Duration']).reshape(-1,1)\n",
        "X_test_Duration = np.array(X_test['Duration']).reshape(-1,1)\n",
        "\n",
        "dt=DecisionTreeClassifier()\n",
        "dt.fit(X_train_Duration,y_train)\n",
        "print('In Sample Accuracy:',dt.score(X_train_Duration,y_train))\n",
        "print('Out Of Sample Accuracy:',dt.score(X_test_Duration,y_test))"
      ],
      "execution_count": null,
      "outputs": [
        {
          "output_type": "stream",
          "text": [
            "In Sample Accuracy: 0.9208318913303852\n",
            "Out Of Sample Accuracy: 0.9207427580679458\n"
          ],
          "name": "stdout"
        }
      ]
    },
    {
      "cell_type": "code",
      "metadata": {
        "colab": {
          "base_uri": "https://localhost:8080/"
        },
        "id": "iipyFUB3DU0w",
        "outputId": "a17c5cfd-b662-4320-8711-e20b65dd4a05"
      },
      "source": [
        "# Decision Tree Classifier\n",
        "\n",
        "dt=DecisionTreeClassifier()\n",
        "dt.fit(X_train,y_train)\n",
        "print('In Sample Accuracy:',dt.score(XS_train,y_train))\n",
        "print('Out Of Sample Accuracy:',dt.score(XS_test,y_test))"
      ],
      "execution_count": null,
      "outputs": [
        {
          "output_type": "stream",
          "text": [
            "IS R2: 0.8412027960704096\n",
            "OS R2: 0.8411935489147325\n"
          ],
          "name": "stdout"
        }
      ]
    },
    {
      "cell_type": "code",
      "metadata": {
        "colab": {
          "base_uri": "https://localhost:8080/"
        },
        "id": "pMs6v7diFZaz",
        "outputId": "410dd529-1d7b-48b7-c433-6966a8f919b1"
      },
      "source": [
        "# Random Forest Classifier\n",
        "\n",
        "rf = RandomForestClassifier(n_estimators=50, oob_score=True)\n",
        "rf.fit(X_train,y_train)\n",
        "print('In Sample Accuracy:',rf.score(XS_train,y_train))\n",
        "print('Out Of Sample Accuracy:',rf.score(XS_test,y_test))"
      ],
      "execution_count": null,
      "outputs": [
        {
          "output_type": "stream",
          "text": [
            "In Sample Accuracy: 0.9191464687432145\n",
            "Out Of Sample Accuracy: 0.9191027937255671\n"
          ],
          "name": "stdout"
        }
      ]
    },
    {
      "cell_type": "code",
      "metadata": {
        "colab": {
          "base_uri": "https://localhost:8080/",
          "height": 282
        },
        "id": "TrCqqGZgE8ou",
        "outputId": "d36b669e-ce01-45a4-fb2c-bd70743607de"
      },
      "source": [
        "plt.barh(X_train.columns, rf.feature_importances_)"
      ],
      "execution_count": null,
      "outputs": [
        {
          "output_type": "execute_result",
          "data": {
            "text/plain": [
              "<BarContainer object of 17 artists>"
            ]
          },
          "metadata": {
            "tags": []
          },
          "execution_count": 84
        },
        {
          "output_type": "display_data",
          "data": {
            "image/png": "[encoded data removed]",
            "text/plain": [
              "<Figure size 432x288 with 1 Axes>"
            ]
          },
          "metadata": {
            "tags": [],
            "needs_background": "light"
          }
        }
      ]
    },
    {
      "cell_type": "markdown",
      "metadata": {
        "id": "pQBz2ibmZtHh"
      },
      "source": [
        "### Train Model With ONLY \"Duration\" Variable"
      ]
    },
    {
      "cell_type": "code",
      "metadata": {
        "colab": {
          "base_uri": "https://localhost:8080/"
        },
        "id": "ptddOtZMZqtY",
        "outputId": "9247df58-d809-414c-dcaa-97cd21696a95"
      },
      "source": [
        "## train the model using only \"Duration\" variable\n",
        "\n",
        "X_train_Duration = np.array(X_train['Duration']).reshape(-1,1)\n",
        "X_test_Duration = np.array(X_test['Duration']).reshape(-1,1)\n",
        "\n",
        "dt=DecisionTreeClassifier()\n",
        "dt.fit(X_train_Duration,y_train)\n",
        "print('In Sample Accuracy:',dt.score(X_train_Duration,y_train))\n",
        "print('Out Of Sample Accuracy:',dt.score(X_test_Duration,y_test))"
      ],
      "execution_count": null,
      "outputs": [
        {
          "output_type": "stream",
          "text": [
            "In Sample Accuracy: 0.9208318913303852\n",
            "Out Of Sample Accuracy: 0.9207427580679458\n"
          ],
          "name": "stdout"
        }
      ]
    },
    {
      "cell_type": "markdown",
      "metadata": {
        "id": "bJZwNvu7ZjDI"
      },
      "source": [
        "### Train Model Without \"Duration\" Variable"
      ]
    },
    {
      "cell_type": "code",
      "metadata": {
        "id": "R5CpHJIRYl6l"
      },
      "source": [
        "# Train-Test Split Without \"Duration\" Variable\n",
        "\n",
        "X = FHV_merged.drop(columns=['overnight','PULocationID','DOLocationID','Duration'])\n",
        "y = FHV_merged['overnight']\n",
        "\n",
        "X_train_no_dur, X_test_no_dur, y_train, y_test = train_test_split(X,y,random_state=1234,test_size=0.4)"
      ],
      "execution_count": null,
      "outputs": []
    },
    {
      "cell_type": "code",
      "metadata": {
        "colab": {
          "base_uri": "https://localhost:8080/"
        },
        "id": "2L9LctOMY5tZ",
        "outputId": "bf5762a4-5788-4286-aa37-4b7a0c3c634a"
      },
      "source": [
        "# Decision Tree Classifier w/o Duration\n",
        "\n",
        "dt=DecisionTreeClassifier()\n",
        "dt.fit(X_train_no_dur,y_train)\n",
        "print('In Sample Accuracy:',dt.score(X_train_no_dur,y_train))\n",
        "print('Out Of Sample Accuracy:',dt.score(X_test_no_dur,y_test))"
      ],
      "execution_count": null,
      "outputs": [
        {
          "output_type": "stream",
          "text": [
            "In Sample Accuracy: 0.9208290289062582\n",
            "Out Of Sample Accuracy: 0.9207480739977427\n"
          ],
          "name": "stdout"
        }
      ]
    },
    {
      "cell_type": "code",
      "metadata": {
        "colab": {
          "base_uri": "https://localhost:8080/",
          "height": 282
        },
        "id": "bA2cfYt8ZOYj",
        "outputId": "94599a84-9ceb-48cc-d00f-0b3822788876"
      },
      "source": [
        "plt.barh(X_train_no_dur.columns, dt.feature_importances_)"
      ],
      "execution_count": null,
      "outputs": [
        {
          "output_type": "execute_result",
          "data": {
            "text/plain": [
              "<BarContainer object of 16 artists>"
            ]
          },
          "metadata": {
            "tags": []
          },
          "execution_count": 98
        },
        {
          "output_type": "display_data",
          "data": {
            "image/png": "[encoded data removed]",
            "text/plain": [
              "<Figure size 432x288 with 1 Axes>"
            ]
          },
          "metadata": {
            "tags": [],
            "needs_background": "light"
          }
        }
      ]
    },
    {
      "cell_type": "markdown",
      "metadata": {
        "id": "Yoy4IgGVbHxC"
      },
      "source": [
        "### Train Model With Clusters Only"
      ]
    },
    {
      "cell_type": "code",
      "metadata": {
        "id": "RlOeWeRmZfRe"
      },
      "source": [
        "# Train-Test Split With Clusters Only\n",
        "\n",
        "X = FHV_merged[['DO_cluster','PU_cluster','PU_acs','DO_acs']]\n",
        "y = FHV_merged['overnight']\n",
        "\n",
        "X_train_clusts, X_test_clusts, y_train, y_test = train_test_split(X,y,random_state=1234,test_size=0.4)"
      ],
      "execution_count": null,
      "outputs": []
    },
    {
      "cell_type": "code",
      "metadata": {
        "colab": {
          "base_uri": "https://localhost:8080/",
          "height": 316
        },
        "id": "W3__4JOeZgo0",
        "outputId": "d13d6fb8-0fb6-4685-edc7-1f636ff8783f"
      },
      "source": [
        "# Decision Tree Classifier w/o Duration\n",
        "\n",
        "dt=DecisionTreeClassifier()\n",
        "dt.fit(X_train_clusts,y_train)\n",
        "print('In Sample Accuracy:',dt.score(X_train_clusts,y_train))\n",
        "print('Out Of Sample Accuracy:',dt.score(X_test_clusts,y_test))\n",
        "\n",
        "plt.barh(X_train_clusts.columns, dt.feature_importances_)"
      ],
      "execution_count": null,
      "outputs": [
        {
          "output_type": "stream",
          "text": [
            "In Sample Accuracy: 0.9208267117057745\n",
            "Out Of Sample Accuracy: 0.9207503230449646\n"
          ],
          "name": "stdout"
        },
        {
          "output_type": "execute_result",
          "data": {
            "text/plain": [
              "<BarContainer object of 4 artists>"
            ]
          },
          "metadata": {
            "tags": []
          },
          "execution_count": 102
        },
        {
          "output_type": "display_data",
          "data": {
            "image/png": "[encoded data removed]",
            "text/plain": [
              "<Figure size 432x288 with 1 Axes>"
            ]
          },
          "metadata": {
            "tags": [],
            "needs_background": "light"
          }
        }
      ]
    },
    {
      "cell_type": "code",
      "metadata": {
        "id": "88qJOhdBZg1N"
      },
      "source": [
        ""
      ],
      "execution_count": null,
      "outputs": []
    },
    {
      "cell_type": "markdown",
      "metadata": {
        "id": "Qh-CQOSq5PxG"
      },
      "source": [
        "Split Dataset into smaller random samples for testing\n",
        "\n"
      ]
    },
    {
      "cell_type": "code",
      "metadata": {
        "colab": {
          "base_uri": "https://localhost:8080/",
          "height": 164
        },
        "id": "Q9RXCObW2TJQ",
        "outputId": "15bc26bb-a7cf-4b04-f56c-c3c3c0a931d7"
      },
      "source": [
        "FHV_samp1, FHV_samp2 = train_test_split(FHV_merged, test_size=0.4, random_state = 1234)"
      ],
      "execution_count": null,
      "outputs": [
        {
          "output_type": "error",
          "ename": "NameError",
          "evalue": "ignored",
          "traceback": [
            "\u001b[0;31m---------------------------------------------------------------------------\u001b[0m",
            "\u001b[0;31mNameError\u001b[0m                                 Traceback (most recent call last)",
            "\u001b[0;32m<ipython-input-2-70a7b86c9169>\u001b[0m in \u001b[0;36m<module>\u001b[0;34m()\u001b[0m\n\u001b[0;32m----> 1\u001b[0;31m \u001b[0mFHV_samp1\u001b[0m\u001b[0;34m,\u001b[0m \u001b[0mFHV_samp2\u001b[0m \u001b[0;34m=\u001b[0m \u001b[0mtrain_test_split\u001b[0m\u001b[0;34m(\u001b[0m\u001b[0mFHV\u001b[0m\u001b[0;34m,\u001b[0m \u001b[0mtest_size\u001b[0m\u001b[0;34m=\u001b[0m\u001b[0;36m0.4\u001b[0m\u001b[0;34m,\u001b[0m \u001b[0mrandom_state\u001b[0m \u001b[0;34m=\u001b[0m \u001b[0;36m1234\u001b[0m\u001b[0;34m)\u001b[0m\u001b[0;34m\u001b[0m\u001b[0;34m\u001b[0m\u001b[0m\n\u001b[0m",
            "\u001b[0;31mNameError\u001b[0m: name 'train_test_split' is not defined"
          ]
        }
      ]
    },
    {
      "cell_type": "code",
      "metadata": {
        "id": "QS3tAwnGeERX"
      },
      "source": [
        "FHV_clusters = pd.read_csv('/content/drive/My Drive/FHV_preprocessed_sample.csv')\n",
        "FHV_clusters = FHV_clusters"
      ],
      "execution_count": null,
      "outputs": []
    },
    {
      "cell_type": "code",
      "metadata": {
        "id": "2tY5lNgYhP8L"
      },
      "source": [
        "FHV_clusters = FHV_clusters.drop(columns='Unnamed: 0')"
      ],
      "execution_count": null,
      "outputs": []
    },
    {
      "cell_type": "code",
      "metadata": {
        "id": "yolBayUg20iz"
      },
      "source": [
        "# Train-Test Split\n",
        "\n",
        "X = FHV_clusters.drop(columns=['overnight','DOLocationID','PULocationID'])\n",
        "y = FHV_clusters['overnight']\n",
        "\n",
        "X_train, X_test, y_train, y_test = train_test_split(X,y,random_state=1234,test_size=0.4)"
      ],
      "execution_count": null,
      "outputs": []
    },
    {
      "cell_type": "code",
      "metadata": {
        "id": "aciutra16oIR"
      },
      "source": [
        "## Standardizing the Data\n",
        "scaler = StandardScaler()\n",
        "scale = scaler.fit(X_train)\n",
        "XS_train = scale.transform(X_train)\n",
        "XS_test = scale.transform(X_test)"
      ],
      "execution_count": null,
      "outputs": []
    },
    {
      "cell_type": "code",
      "metadata": {
        "colab": {
          "base_uri": "https://localhost:8080/"
        },
        "id": "Fh4prEhL7JXW",
        "outputId": "7782a596-70b5-40ce-84a1-158a5923bdaf"
      },
      "source": [
        "# Decision Tree Classifier\n",
        "\n",
        "dt=DecisionTreeClassifier()\n",
        "dt.fit(X_train,y_train)\n",
        "print('IS R2:',dt.score(XS_train,y_train))\n",
        "print('OS R2:',dt.score(XS_test,y_test))"
      ],
      "execution_count": null,
      "outputs": [
        {
          "output_type": "stream",
          "text": [
            "IS R2: 0.8567375229351141\n",
            "OS R2: 0.8559722484460712\n"
          ],
          "name": "stdout"
        }
      ]
    },
    {
      "cell_type": "code",
      "metadata": {
        "colab": {
          "base_uri": "https://localhost:8080/"
        },
        "id": "z7XxsLbAO-hv",
        "outputId": "1c45d773-b42c-41e7-c53b-821e36b99333"
      },
      "source": [
        "# Random Forest Classifier\n",
        "\n",
        "rf = RandomForestClassifier(n_estimators=50)\n",
        "rf.fit(X_train,y_train)\n",
        "print('IS R2:',dt.score(XS_train,y_train))\n",
        "print('OS R2:',dt.score(XS_test,y_test))"
      ],
      "execution_count": null,
      "outputs": [
        {
          "output_type": "stream",
          "text": [
            "IS R2: 0.8567375229351141\n",
            "OS R2: 0.8559722484460712\n"
          ],
          "name": "stdout"
        }
      ]
    },
    {
      "cell_type": "code",
      "metadata": {
        "colab": {
          "base_uri": "https://localhost:8080/"
        },
        "id": "dIQpjDpA7Nwg",
        "outputId": "33d4892d-a0a8-4910-e4a9-e67291bd886d"
      },
      "source": [
        "# GridSearch for best RF parameters\n",
        "\n",
        "param_grid = {'max_depth':range(2,30)}\n",
        "rf = RandomForestClassifier(n_estimators=20)\n",
        "gs = GridSearchCV(rf,param_grid=param_grid,scoring='accuracy')\n",
        "rs = gs.fit(XS_train,y_train)\n",
        "pred=rs.predict(XS_test)\n",
        "print(rs.best_params_)\n",
        "print(accuracy_score(np.array(y_test),pred))"
      ],
      "execution_count": null,
      "outputs": [
        {
          "output_type": "stream",
          "text": [
            "{'max_depth': 16}\n",
            "0.9212169521937953\n"
          ],
          "name": "stdout"
        }
      ]
    },
    {
      "cell_type": "code",
      "metadata": {
        "id": "J1dE6XP9LkpR"
      },
      "source": [
        ""
      ],
      "execution_count": null,
      "outputs": []
    }
  ]
}