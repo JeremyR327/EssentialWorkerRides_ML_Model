{
 "cells": [
  {
   "cell_type": "code",
   "execution_count": 1,
   "metadata": {},
   "outputs": [],
   "source": [
    "from datetime import datetime\n",
    "import pandas as pd\n",
    "import dask.dataframe as dd\n",
    "from dask.diagnostics import ProgressBar\n",
    "import numpy as np\n",
    "import matplotlib.pyplot as plt\n",
    "import geopandas as gpd\n",
    "from dateutil.parser import parse\n",
    "\n",
    "ProgressBar().register()"
   ]
  },
  {
   "cell_type": "code",
   "execution_count": 2,
   "metadata": {
    "scrolled": true
   },
   "outputs": [],
   "source": [
    "FHV = dd.read_csv('May_to_Aug_FHV_Data.csv')\n",
    "FHV = FHV.drop(columns='Unnamed: 0').reset_index(drop=True)"
   ]
  },
  {
   "cell_type": "code",
   "execution_count": 3,
   "metadata": {},
   "outputs": [],
   "source": [
    "FHV.PUTime = dd.to_datetime(FHV.PUTime)\n",
    "FHV.DOTime = dd.to_datetime(FHV.DOTime)"
   ]
  },
  {
   "cell_type": "code",
   "execution_count": 4,
   "metadata": {},
   "outputs": [],
   "source": [
    "FHV['Hour'] = FHV.PUTime.dt.hour\n",
    "FHV['DOW'] = FHV.PUTime.dt.dayofweek"
   ]
  },
  {
   "cell_type": "code",
   "execution_count": 5,
   "metadata": {},
   "outputs": [],
   "source": [
    "FHV['overnight'] = 0"
   ]
  },
  {
   "cell_type": "code",
   "execution_count": 6,
   "metadata": {},
   "outputs": [],
   "source": [
    "FHV['overnight'] = FHV['overnight'].mask(((FHV['Hour'] > 0) & (FHV['Hour'] < 6)), 1)"
   ]
  },
  {
   "cell_type": "code",
   "execution_count": 7,
   "metadata": {},
   "outputs": [
    {
     "name": "stdout",
     "output_type": "stream",
     "text": [
      "[########################################] | 100% Completed |  1min 23.4s\n"
     ]
    }
   ],
   "source": [
    "FHV = FHV[(FHV['Duration'] >= 5) & (FHV['Duration'] <= 150)].compute() # Only keep rides between 5 minutes and 2.5 hours"
   ]
  },
  {
   "cell_type": "code",
   "execution_count": 15,
   "metadata": {},
   "outputs": [
    {
     "data": {
      "text/html": [
       "<div>\n",
       "<style scoped>\n",
       "    .dataframe tbody tr th:only-of-type {\n",
       "        vertical-align: middle;\n",
       "    }\n",
       "\n",
       "    .dataframe tbody tr th {\n",
       "        vertical-align: top;\n",
       "    }\n",
       "\n",
       "    .dataframe thead th {\n",
       "        text-align: right;\n",
       "    }\n",
       "</style>\n",
       "<table border=\"1\" class=\"dataframe\">\n",
       "  <thead>\n",
       "    <tr style=\"text-align: right;\">\n",
       "      <th></th>\n",
       "      <th>OBJECTID</th>\n",
       "      <th>Shape_Leng</th>\n",
       "      <th>Shape_Area</th>\n",
       "      <th>zone</th>\n",
       "      <th>LocationID</th>\n",
       "      <th>borough</th>\n",
       "      <th>geometry</th>\n",
       "    </tr>\n",
       "  </thead>\n",
       "  <tbody>\n",
       "    <tr>\n",
       "      <th>131</th>\n",
       "      <td>132</td>\n",
       "      <td>0.245479</td>\n",
       "      <td>0.002038</td>\n",
       "      <td>JFK Airport</td>\n",
       "      <td>132</td>\n",
       "      <td>Queens</td>\n",
       "      <td>MULTIPOLYGON (((1032791.001 181085.006, 103283...</td>\n",
       "    </tr>\n",
       "  </tbody>\n",
       "</table>\n",
       "</div>"
      ],
      "text/plain": [
       "     OBJECTID  Shape_Leng  Shape_Area         zone  LocationID borough  \\\n",
       "131       132    0.245479    0.002038  JFK Airport         132  Queens   \n",
       "\n",
       "                                              geometry  \n",
       "131  MULTIPOLYGON (((1032791.001 181085.006, 103283...  "
      ]
     },
     "execution_count": 15,
     "metadata": {},
     "output_type": "execute_result"
    }
   ],
   "source": [
    "taxi_zones[taxi_zones['zone'] == 'JFK Airport']"
   ]
  },
  {
   "cell_type": "code",
   "execution_count": 8,
   "metadata": {},
   "outputs": [],
   "source": [
    "FHV = FHV[~((FHV['PULocationID'] == 1) | (FHV['DOLocationID'] == 1))] # Drop all trips to and from Newark\n",
    "FHV = FHV[~((FHV['PULocationID'] == 132) | (FHV['DOLocationID'] == 132))] # Drop all trips to and from JF"
   ]
  },
  {
   "cell_type": "code",
   "execution_count": 17,
   "metadata": {},
   "outputs": [
    {
     "data": {
      "text/html": [
       "<div>\n",
       "<style scoped>\n",
       "    .dataframe tbody tr th:only-of-type {\n",
       "        vertical-align: middle;\n",
       "    }\n",
       "\n",
       "    .dataframe tbody tr th {\n",
       "        vertical-align: top;\n",
       "    }\n",
       "\n",
       "    .dataframe thead th {\n",
       "        text-align: right;\n",
       "    }\n",
       "</style>\n",
       "<table border=\"1\" class=\"dataframe\">\n",
       "  <thead>\n",
       "    <tr style=\"text-align: right;\">\n",
       "      <th></th>\n",
       "      <th>Company</th>\n",
       "      <th>PULocationID</th>\n",
       "      <th>DOLocationID</th>\n",
       "      <th>PUTime</th>\n",
       "      <th>DOTime</th>\n",
       "      <th>Duration</th>\n",
       "      <th>Hour</th>\n",
       "      <th>DOW</th>\n",
       "      <th>overnight</th>\n",
       "    </tr>\n",
       "  </thead>\n",
       "  <tbody>\n",
       "    <tr>\n",
       "      <th>0</th>\n",
       "      <td>Uber</td>\n",
       "      <td>151</td>\n",
       "      <td>244</td>\n",
       "      <td>2020-05-06 00:01:26</td>\n",
       "      <td>2020-05-06 00:10:14</td>\n",
       "      <td>8.800000</td>\n",
       "      <td>0</td>\n",
       "      <td>2</td>\n",
       "      <td>0</td>\n",
       "    </tr>\n",
       "    <tr>\n",
       "      <th>1</th>\n",
       "      <td>Uber</td>\n",
       "      <td>74</td>\n",
       "      <td>32</td>\n",
       "      <td>2020-05-06 00:43:42</td>\n",
       "      <td>2020-05-06 00:59:27</td>\n",
       "      <td>15.750000</td>\n",
       "      <td>0</td>\n",
       "      <td>2</td>\n",
       "      <td>0</td>\n",
       "    </tr>\n",
       "    <tr>\n",
       "      <th>2</th>\n",
       "      <td>Via</td>\n",
       "      <td>35</td>\n",
       "      <td>177</td>\n",
       "      <td>2020-05-06 00:27:39</td>\n",
       "      <td>2020-05-06 00:35:04</td>\n",
       "      <td>7.416667</td>\n",
       "      <td>0</td>\n",
       "      <td>2</td>\n",
       "      <td>0</td>\n",
       "    </tr>\n",
       "    <tr>\n",
       "      <th>3</th>\n",
       "      <td>Via</td>\n",
       "      <td>188</td>\n",
       "      <td>61</td>\n",
       "      <td>2020-05-06 00:52:35</td>\n",
       "      <td>2020-05-06 00:58:13</td>\n",
       "      <td>5.633333</td>\n",
       "      <td>0</td>\n",
       "      <td>2</td>\n",
       "      <td>0</td>\n",
       "    </tr>\n",
       "    <tr>\n",
       "      <th>4</th>\n",
       "      <td>Uber</td>\n",
       "      <td>225</td>\n",
       "      <td>35</td>\n",
       "      <td>2020-05-06 00:19:59</td>\n",
       "      <td>2020-05-06 00:28:43</td>\n",
       "      <td>8.733333</td>\n",
       "      <td>0</td>\n",
       "      <td>2</td>\n",
       "      <td>0</td>\n",
       "    </tr>\n",
       "  </tbody>\n",
       "</table>\n",
       "</div>"
      ],
      "text/plain": [
       "  Company  PULocationID  DOLocationID              PUTime              DOTime  \\\n",
       "0    Uber           151           244 2020-05-06 00:01:26 2020-05-06 00:10:14   \n",
       "1    Uber            74            32 2020-05-06 00:43:42 2020-05-06 00:59:27   \n",
       "2     Via            35           177 2020-05-06 00:27:39 2020-05-06 00:35:04   \n",
       "3     Via           188            61 2020-05-06 00:52:35 2020-05-06 00:58:13   \n",
       "4    Uber           225            35 2020-05-06 00:19:59 2020-05-06 00:28:43   \n",
       "\n",
       "    Duration  Hour  DOW  overnight  \n",
       "0   8.800000     0    2          0  \n",
       "1  15.750000     0    2          0  \n",
       "2   7.416667     0    2          0  \n",
       "3   5.633333     0    2          0  \n",
       "4   8.733333     0    2          0  "
      ]
     },
     "execution_count": 17,
     "metadata": {},
     "output_type": "execute_result"
    }
   ],
   "source": [
    "FHV.head()"
   ]
  },
  {
   "cell_type": "code",
   "execution_count": 9,
   "metadata": {},
   "outputs": [
    {
     "data": {
      "text/plain": [
       "15.039382406779183"
      ]
     },
     "execution_count": 9,
     "metadata": {},
     "output_type": "execute_result"
    }
   ],
   "source": [
    "FHV[FHV['overnight']==1]['Duration'].mean()"
   ]
  },
  {
   "cell_type": "code",
   "execution_count": 20,
   "metadata": {
    "scrolled": true
   },
   "outputs": [
    {
     "data": {
      "text/plain": [
       "Text(0.5, 1.0, 'Total Log Distribution of Ride Duration')"
      ]
     },
     "execution_count": 20,
     "metadata": {},
     "output_type": "execute_result"
    },
    {
     "data": {
      "image/png": "[encoded data removed]",
      "text/plain": [
       "<Figure size 432x288 with 1 Axes>"
      ]
     },
     "metadata": {
      "needs_background": "light"
     },
     "output_type": "display_data"
    }
   ],
   "source": [
    "np.log(FHV['Duration']).plot.hist(bins=60)\n",
    "plt.title('Total Log Distribution of Ride Duration')"
   ]
  },
  {
   "cell_type": "code",
   "execution_count": 21,
   "metadata": {
    "scrolled": true
   },
   "outputs": [
    {
     "data": {
      "text/plain": [
       "Text(0.5, 1.0, 'Log Distribution of Overnight Ride Duration')"
      ]
     },
     "execution_count": 21,
     "metadata": {},
     "output_type": "execute_result"
    },
    {
     "data": {
      "image/png": "[encoded data removed]",
      "text/plain": [
       "<Figure size 432x288 with 1 Axes>"
      ]
     },
     "metadata": {
      "needs_background": "light"
     },
     "output_type": "display_data"
    }
   ],
   "source": [
    "np.log(FHV[(FHV['overnight'] == 1)]['Duration']).plot.hist(bins=60)\n",
    "plt.title('Log Distribution of Overnight Ride Duration')"
   ]
  },
  {
   "cell_type": "code",
   "execution_count": 22,
   "metadata": {},
   "outputs": [
    {
     "data": {
      "text/plain": [
       "Ttest_indResult(statistic=-285.1842211516354, pvalue=0.0)"
      ]
     },
     "execution_count": 22,
     "metadata": {},
     "output_type": "execute_result"
    }
   ],
   "source": [
    "from scipy import stats\n",
    "stats.ttest_ind((FHV[(FHV['overnight'] == 1)]['Duration']), FHV['Duration'])"
   ]
  },
  {
   "cell_type": "code",
   "execution_count": 23,
   "metadata": {
    "scrolled": true
   },
   "outputs": [
    {
     "name": "stdout",
     "output_type": "stream",
     "text": [
      "Uber total ride percentage: 0.6985586370510346\n",
      "Uber overnight percentage: 0.6834960077390664\n",
      "\n",
      "\n",
      "Via total ride percentage: 0.01677074023527234\n",
      "Via overnight percentage: 0.010449905427453473\n",
      "\n",
      "\n",
      "Lyft total ride percentage: 0.2846706227136931\n",
      "Lyft overnight percentage: 0.3060540868334801\n",
      "\n",
      "\n"
     ]
    }
   ],
   "source": [
    "for c in FHV['Company'].unique():\n",
    "    print(c,'total ride percentage:', len(FHV[FHV['Company']==c]) / len(FHV))\n",
    "    print(c,'overnight percentage:', len(FHV[(FHV['overnight']==1) & (FHV['Company']==c)]) / len(FHV[(FHV['overnight']==1)]))\n",
    "    print('\\n')\n"
   ]
  },
  {
   "cell_type": "code",
   "execution_count": 24,
   "metadata": {},
   "outputs": [
    {
     "data": {
      "text/plain": [
       "PULocationID  DOLocationID\n",
       "76            76              6699\n",
       "61            61              4857\n",
       "35            76              4620\n",
       "76            35              3909\n",
       "39            76              3670\n",
       "                              ... \n",
       "150           209                1\n",
       "              208                1\n",
       "              203                1\n",
       "              192                1\n",
       "2             28                 1\n",
       "Name: Company, Length: 48641, dtype: int64"
      ]
     },
     "execution_count": 24,
     "metadata": {},
     "output_type": "execute_result"
    }
   ],
   "source": [
    "FHV[FHV['overnight']==1].groupby(['PULocationID','DOLocationID'])['Company'].count().sort_values(ascending=False)"
   ]
  },
  {
   "cell_type": "code",
   "execution_count": 25,
   "metadata": {},
   "outputs": [
    {
     "data": {
      "text/plain": [
       "Text(0.5, 1.0, 'All Rides By Hour')"
      ]
     },
     "execution_count": 25,
     "metadata": {},
     "output_type": "execute_result"
    },
    {
     "data": {
      "image/png": "[encoded data removed]",
      "text/plain": [
       "<Figure size 432x288 with 1 Axes>"
      ]
     },
     "metadata": {
      "needs_background": "light"
     },
     "output_type": "display_data"
    }
   ],
   "source": [
    "FHV.groupby('Hour')['DOW'].count().plot.bar()\n",
    "plt.title('All Rides By Hour')"
   ]
  },
  {
   "cell_type": "code",
   "execution_count": 26,
   "metadata": {},
   "outputs": [
    {
     "ename": "IndexError",
     "evalue": "index 0 is out of bounds for axis 0 with size 0",
     "output_type": "error",
     "traceback": [
      "\u001b[0;31m---------------------------------------------------------------------------\u001b[0m",
      "\u001b[0;31mIndexError\u001b[0m                                Traceback (most recent call last)",
      "\u001b[0;32m<ipython-input-26-7ef6db29feab>\u001b[0m in \u001b[0;36m<module>\u001b[0;34m\u001b[0m\n\u001b[1;32m      2\u001b[0m \u001b[0mplt\u001b[0m\u001b[0;34m.\u001b[0m\u001b[0msuptitle\u001b[0m\u001b[0;34m(\u001b[0m\u001b[0;34m'Airport Rides By Hour'\u001b[0m\u001b[0;34m)\u001b[0m\u001b[0;34m\u001b[0m\u001b[0;34m\u001b[0m\u001b[0m\n\u001b[1;32m      3\u001b[0m \u001b[0;34m\u001b[0m\u001b[0m\n\u001b[0;32m----> 4\u001b[0;31m \u001b[0mFHV\u001b[0m\u001b[0;34m[\u001b[0m\u001b[0;34m(\u001b[0m\u001b[0mFHV\u001b[0m\u001b[0;34m[\u001b[0m\u001b[0;34m'PULocationID'\u001b[0m\u001b[0;34m]\u001b[0m \u001b[0;34m==\u001b[0m \u001b[0;36m1\u001b[0m\u001b[0;34m)\u001b[0m \u001b[0;34m|\u001b[0m \u001b[0;34m(\u001b[0m\u001b[0mFHV\u001b[0m\u001b[0;34m[\u001b[0m\u001b[0;34m'DOLocationID'\u001b[0m\u001b[0;34m]\u001b[0m \u001b[0;34m==\u001b[0m \u001b[0;36m1\u001b[0m\u001b[0;34m)\u001b[0m\u001b[0;34m]\u001b[0m\u001b[0;34m.\u001b[0m\u001b[0mgroupby\u001b[0m\u001b[0;34m(\u001b[0m\u001b[0;34m'Hour'\u001b[0m\u001b[0;34m)\u001b[0m\u001b[0;34m[\u001b[0m\u001b[0;34m'DOW'\u001b[0m\u001b[0;34m]\u001b[0m\u001b[0;34m.\u001b[0m\u001b[0mcount\u001b[0m\u001b[0;34m(\u001b[0m\u001b[0;34m)\u001b[0m\u001b[0;34m.\u001b[0m\u001b[0mplot\u001b[0m\u001b[0;34m.\u001b[0m\u001b[0mbar\u001b[0m\u001b[0;34m(\u001b[0m\u001b[0max\u001b[0m\u001b[0;34m=\u001b[0m\u001b[0max\u001b[0m\u001b[0;34m[\u001b[0m\u001b[0;36m0\u001b[0m\u001b[0;34m]\u001b[0m\u001b[0;34m)\u001b[0m\u001b[0;34m\u001b[0m\u001b[0;34m\u001b[0m\u001b[0m\n\u001b[0m\u001b[1;32m      5\u001b[0m \u001b[0mFHV\u001b[0m\u001b[0;34m[\u001b[0m\u001b[0;34m(\u001b[0m\u001b[0mFHV\u001b[0m\u001b[0;34m[\u001b[0m\u001b[0;34m'PULocationID'\u001b[0m\u001b[0;34m]\u001b[0m \u001b[0;34m==\u001b[0m \u001b[0;36m132\u001b[0m\u001b[0;34m)\u001b[0m \u001b[0;34m|\u001b[0m \u001b[0;34m(\u001b[0m\u001b[0mFHV\u001b[0m\u001b[0;34m[\u001b[0m\u001b[0;34m'DOLocationID'\u001b[0m\u001b[0;34m]\u001b[0m \u001b[0;34m==\u001b[0m \u001b[0;36m132\u001b[0m\u001b[0;34m)\u001b[0m\u001b[0;34m]\u001b[0m\u001b[0;34m.\u001b[0m\u001b[0mgroupby\u001b[0m\u001b[0;34m(\u001b[0m\u001b[0;34m'Hour'\u001b[0m\u001b[0;34m)\u001b[0m\u001b[0;34m[\u001b[0m\u001b[0;34m'DOW'\u001b[0m\u001b[0;34m]\u001b[0m\u001b[0;34m.\u001b[0m\u001b[0mcount\u001b[0m\u001b[0;34m(\u001b[0m\u001b[0;34m)\u001b[0m\u001b[0;34m.\u001b[0m\u001b[0mplot\u001b[0m\u001b[0;34m.\u001b[0m\u001b[0mbar\u001b[0m\u001b[0;34m(\u001b[0m\u001b[0max\u001b[0m\u001b[0;34m=\u001b[0m\u001b[0max\u001b[0m\u001b[0;34m[\u001b[0m\u001b[0;36m1\u001b[0m\u001b[0;34m]\u001b[0m\u001b[0;34m)\u001b[0m\u001b[0;34m\u001b[0m\u001b[0;34m\u001b[0m\u001b[0m\n\u001b[1;32m      6\u001b[0m \u001b[0max\u001b[0m\u001b[0;34m[\u001b[0m\u001b[0;36m0\u001b[0m\u001b[0;34m]\u001b[0m\u001b[0;34m.\u001b[0m\u001b[0mset_title\u001b[0m\u001b[0;34m(\u001b[0m\u001b[0;34m'Newark'\u001b[0m\u001b[0;34m)\u001b[0m\u001b[0;34m\u001b[0m\u001b[0;34m\u001b[0m\u001b[0m\n",
      "\u001b[0;32m//anaconda3/lib/python3.7/site-packages/pandas/plotting/_core.py\u001b[0m in \u001b[0;36mbar\u001b[0;34m(self, x, y, **kwargs)\u001b[0m\n\u001b[1;32m   1105\u001b[0m         \u001b[0mother\u001b[0m \u001b[0maxis\u001b[0m \u001b[0mrepresents\u001b[0m \u001b[0ma\u001b[0m \u001b[0mmeasured\u001b[0m \u001b[0mvalue\u001b[0m\u001b[0;34m.\u001b[0m\u001b[0;34m\u001b[0m\u001b[0;34m\u001b[0m\u001b[0m\n\u001b[1;32m   1106\u001b[0m         \"\"\"\n\u001b[0;32m-> 1107\u001b[0;31m         \u001b[0;32mreturn\u001b[0m \u001b[0mself\u001b[0m\u001b[0;34m(\u001b[0m\u001b[0mkind\u001b[0m\u001b[0;34m=\u001b[0m\u001b[0;34m\"bar\"\u001b[0m\u001b[0;34m,\u001b[0m \u001b[0mx\u001b[0m\u001b[0;34m=\u001b[0m\u001b[0mx\u001b[0m\u001b[0;34m,\u001b[0m \u001b[0my\u001b[0m\u001b[0;34m=\u001b[0m\u001b[0my\u001b[0m\u001b[0;34m,\u001b[0m \u001b[0;34m**\u001b[0m\u001b[0mkwargs\u001b[0m\u001b[0;34m)\u001b[0m\u001b[0;34m\u001b[0m\u001b[0;34m\u001b[0m\u001b[0m\n\u001b[0m\u001b[1;32m   1108\u001b[0m \u001b[0;34m\u001b[0m\u001b[0m\n\u001b[1;32m   1109\u001b[0m     @Appender(\n",
      "\u001b[0;32m//anaconda3/lib/python3.7/site-packages/pandas/plotting/_core.py\u001b[0m in \u001b[0;36m__call__\u001b[0;34m(self, *args, **kwargs)\u001b[0m\n\u001b[1;32m    947\u001b[0m                     \u001b[0mdata\u001b[0m\u001b[0;34m.\u001b[0m\u001b[0mcolumns\u001b[0m \u001b[0;34m=\u001b[0m \u001b[0mlabel_name\u001b[0m\u001b[0;34m\u001b[0m\u001b[0;34m\u001b[0m\u001b[0m\n\u001b[1;32m    948\u001b[0m \u001b[0;34m\u001b[0m\u001b[0m\n\u001b[0;32m--> 949\u001b[0;31m         \u001b[0;32mreturn\u001b[0m \u001b[0mplot_backend\u001b[0m\u001b[0;34m.\u001b[0m\u001b[0mplot\u001b[0m\u001b[0;34m(\u001b[0m\u001b[0mdata\u001b[0m\u001b[0;34m,\u001b[0m \u001b[0mkind\u001b[0m\u001b[0;34m=\u001b[0m\u001b[0mkind\u001b[0m\u001b[0;34m,\u001b[0m \u001b[0;34m**\u001b[0m\u001b[0mkwargs\u001b[0m\u001b[0;34m)\u001b[0m\u001b[0;34m\u001b[0m\u001b[0;34m\u001b[0m\u001b[0m\n\u001b[0m\u001b[1;32m    950\u001b[0m \u001b[0;34m\u001b[0m\u001b[0m\n\u001b[1;32m    951\u001b[0m     \u001b[0m__call__\u001b[0m\u001b[0;34m.\u001b[0m\u001b[0m__doc__\u001b[0m \u001b[0;34m=\u001b[0m \u001b[0m__doc__\u001b[0m\u001b[0;34m\u001b[0m\u001b[0;34m\u001b[0m\u001b[0m\n",
      "\u001b[0;32m//anaconda3/lib/python3.7/site-packages/pandas/plotting/_matplotlib/__init__.py\u001b[0m in \u001b[0;36mplot\u001b[0;34m(data, kind, **kwargs)\u001b[0m\n\u001b[1;32m     59\u001b[0m             \u001b[0mkwargs\u001b[0m\u001b[0;34m[\u001b[0m\u001b[0;34m\"ax\"\u001b[0m\u001b[0;34m]\u001b[0m \u001b[0;34m=\u001b[0m \u001b[0mgetattr\u001b[0m\u001b[0;34m(\u001b[0m\u001b[0max\u001b[0m\u001b[0;34m,\u001b[0m \u001b[0;34m\"left_ax\"\u001b[0m\u001b[0;34m,\u001b[0m \u001b[0max\u001b[0m\u001b[0;34m)\u001b[0m\u001b[0;34m\u001b[0m\u001b[0;34m\u001b[0m\u001b[0m\n\u001b[1;32m     60\u001b[0m     \u001b[0mplot_obj\u001b[0m \u001b[0;34m=\u001b[0m \u001b[0mPLOT_CLASSES\u001b[0m\u001b[0;34m[\u001b[0m\u001b[0mkind\u001b[0m\u001b[0;34m]\u001b[0m\u001b[0;34m(\u001b[0m\u001b[0mdata\u001b[0m\u001b[0;34m,\u001b[0m \u001b[0;34m**\u001b[0m\u001b[0mkwargs\u001b[0m\u001b[0;34m)\u001b[0m\u001b[0;34m\u001b[0m\u001b[0;34m\u001b[0m\u001b[0m\n\u001b[0;32m---> 61\u001b[0;31m     \u001b[0mplot_obj\u001b[0m\u001b[0;34m.\u001b[0m\u001b[0mgenerate\u001b[0m\u001b[0;34m(\u001b[0m\u001b[0;34m)\u001b[0m\u001b[0;34m\u001b[0m\u001b[0;34m\u001b[0m\u001b[0m\n\u001b[0m\u001b[1;32m     62\u001b[0m     \u001b[0mplot_obj\u001b[0m\u001b[0;34m.\u001b[0m\u001b[0mdraw\u001b[0m\u001b[0;34m(\u001b[0m\u001b[0;34m)\u001b[0m\u001b[0;34m\u001b[0m\u001b[0;34m\u001b[0m\u001b[0m\n\u001b[1;32m     63\u001b[0m     \u001b[0;32mreturn\u001b[0m \u001b[0mplot_obj\u001b[0m\u001b[0;34m.\u001b[0m\u001b[0mresult\u001b[0m\u001b[0;34m\u001b[0m\u001b[0;34m\u001b[0m\u001b[0m\n",
      "\u001b[0;32m//anaconda3/lib/python3.7/site-packages/pandas/plotting/_matplotlib/core.py\u001b[0m in \u001b[0;36mgenerate\u001b[0;34m(self)\u001b[0m\n\u001b[1;32m    276\u001b[0m         \u001b[0;32mfor\u001b[0m \u001b[0max\u001b[0m \u001b[0;32min\u001b[0m \u001b[0mself\u001b[0m\u001b[0;34m.\u001b[0m\u001b[0maxes\u001b[0m\u001b[0;34m:\u001b[0m\u001b[0;34m\u001b[0m\u001b[0;34m\u001b[0m\u001b[0m\n\u001b[1;32m    277\u001b[0m             \u001b[0mself\u001b[0m\u001b[0;34m.\u001b[0m\u001b[0m_post_plot_logic_common\u001b[0m\u001b[0;34m(\u001b[0m\u001b[0max\u001b[0m\u001b[0;34m,\u001b[0m \u001b[0mself\u001b[0m\u001b[0;34m.\u001b[0m\u001b[0mdata\u001b[0m\u001b[0;34m)\u001b[0m\u001b[0;34m\u001b[0m\u001b[0;34m\u001b[0m\u001b[0m\n\u001b[0;32m--> 278\u001b[0;31m             \u001b[0mself\u001b[0m\u001b[0;34m.\u001b[0m\u001b[0m_post_plot_logic\u001b[0m\u001b[0;34m(\u001b[0m\u001b[0max\u001b[0m\u001b[0;34m,\u001b[0m \u001b[0mself\u001b[0m\u001b[0;34m.\u001b[0m\u001b[0mdata\u001b[0m\u001b[0;34m)\u001b[0m\u001b[0;34m\u001b[0m\u001b[0;34m\u001b[0m\u001b[0m\n\u001b[0m\u001b[1;32m    279\u001b[0m \u001b[0;34m\u001b[0m\u001b[0m\n\u001b[1;32m    280\u001b[0m     \u001b[0;32mdef\u001b[0m \u001b[0m_args_adjust\u001b[0m\u001b[0;34m(\u001b[0m\u001b[0mself\u001b[0m\u001b[0;34m)\u001b[0m\u001b[0;34m:\u001b[0m\u001b[0;34m\u001b[0m\u001b[0;34m\u001b[0m\u001b[0m\n",
      "\u001b[0;32m//anaconda3/lib/python3.7/site-packages/pandas/plotting/_matplotlib/core.py\u001b[0m in \u001b[0;36m_post_plot_logic\u001b[0;34m(self, ax, data)\u001b[0m\n\u001b[1;32m   1459\u001b[0m         \u001b[0mname\u001b[0m \u001b[0;34m=\u001b[0m \u001b[0mself\u001b[0m\u001b[0;34m.\u001b[0m\u001b[0m_get_index_name\u001b[0m\u001b[0;34m(\u001b[0m\u001b[0;34m)\u001b[0m\u001b[0;34m\u001b[0m\u001b[0;34m\u001b[0m\u001b[0m\n\u001b[1;32m   1460\u001b[0m \u001b[0;34m\u001b[0m\u001b[0m\n\u001b[0;32m-> 1461\u001b[0;31m         \u001b[0ms_edge\u001b[0m \u001b[0;34m=\u001b[0m \u001b[0mself\u001b[0m\u001b[0;34m.\u001b[0m\u001b[0max_pos\u001b[0m\u001b[0;34m[\u001b[0m\u001b[0;36m0\u001b[0m\u001b[0;34m]\u001b[0m \u001b[0;34m-\u001b[0m \u001b[0;36m0.25\u001b[0m \u001b[0;34m+\u001b[0m \u001b[0mself\u001b[0m\u001b[0;34m.\u001b[0m\u001b[0mlim_offset\u001b[0m\u001b[0;34m\u001b[0m\u001b[0;34m\u001b[0m\u001b[0m\n\u001b[0m\u001b[1;32m   1462\u001b[0m         \u001b[0me_edge\u001b[0m \u001b[0;34m=\u001b[0m \u001b[0mself\u001b[0m\u001b[0;34m.\u001b[0m\u001b[0max_pos\u001b[0m\u001b[0;34m[\u001b[0m\u001b[0;34m-\u001b[0m\u001b[0;36m1\u001b[0m\u001b[0;34m]\u001b[0m \u001b[0;34m+\u001b[0m \u001b[0;36m0.25\u001b[0m \u001b[0;34m+\u001b[0m \u001b[0mself\u001b[0m\u001b[0;34m.\u001b[0m\u001b[0mbar_width\u001b[0m \u001b[0;34m+\u001b[0m \u001b[0mself\u001b[0m\u001b[0;34m.\u001b[0m\u001b[0mlim_offset\u001b[0m\u001b[0;34m\u001b[0m\u001b[0;34m\u001b[0m\u001b[0m\n\u001b[1;32m   1463\u001b[0m \u001b[0;34m\u001b[0m\u001b[0m\n",
      "\u001b[0;31mIndexError\u001b[0m: index 0 is out of bounds for axis 0 with size 0"
     ]
    },
    {
     "data": {
      "image/png": "[encoded data removed]",
      "text/plain": [
       "<Figure size 720x288 with 2 Axes>"
      ]
     },
     "metadata": {
      "needs_background": "light"
     },
     "output_type": "display_data"
    }
   ],
   "source": [
    "figure, ax = plt.subplots(1,2, figsize=(10,4))\n",
    "plt.suptitle('Airport Rides By Hour')\n",
    "\n",
    "FHV[(FHV['PULocationID'] == 1) | (FHV['DOLocationID'] == 1)].groupby('Hour')['DOW'].count().plot.bar(ax=ax[0])\n",
    "FHV[(FHV['PULocationID'] == 132) | (FHV['DOLocationID'] == 132)].groupby('Hour')['DOW'].count().plot.bar(ax=ax[1])\n",
    "ax[0].set_title('Newark')\n",
    "ax[1].set_title('JFK')\n",
    "plt.show()"
   ]
  },
  {
   "cell_type": "code",
   "execution_count": null,
   "metadata": {},
   "outputs": [],
   "source": [
    "pd.get_dummies(FHV['PULocationID']).join(pd.get_dummies(FHV['DOLocationID']), lsuffix='PU', rsuffix='DO')"
   ]
  },
  {
   "cell_type": "code",
   "execution_count": 159,
   "metadata": {},
   "outputs": [],
   "source": [
    "non_overnight_pickups = FHV[FHV['overnight']==0].PULocationID.value_counts().compute()"
   ]
  },
  {
   "cell_type": "code",
   "execution_count": 160,
   "metadata": {
    "scrolled": true
   },
   "outputs": [],
   "source": [
    "overnight_pickups = FHV[FHV['overnight']==1].PULocationID.value_counts().compute()"
   ]
  },
  {
   "cell_type": "code",
   "execution_count": 14,
   "metadata": {},
   "outputs": [],
   "source": [
    "taxi_zones = gpd.read_file('./taxi_zones__7_/taxi_zones.shp')"
   ]
  },
  {
   "cell_type": "code",
   "execution_count": 89,
   "metadata": {
    "scrolled": true
   },
   "outputs": [],
   "source": [
    "ride_pct_change = ((FHV[FHV['overnight']==1].PULocationID.value_counts() \\\n",
    "                    - FHV[FHV['overnight']==0].PULocationID.value_counts())/\\\n",
    "                   FHV[FHV['overnight']==0].PULocationID.value_counts()).compute()"
   ]
  },
  {
   "cell_type": "code",
   "execution_count": 118,
   "metadata": {
    "scrolled": true
   },
   "outputs": [
    {
     "data": {
      "text/plain": [
       "207   -0.529016\n",
       "30    -0.805679\n",
       "126   -0.848193\n",
       "2     -0.861635\n",
       "57    -0.862991\n",
       "37    -0.867701\n",
       "99    -0.868657\n",
       "36    -0.870975\n",
       "58    -0.871403\n",
       "120   -0.871784\n",
       "173   -0.872243\n",
       "77    -0.873824\n",
       "10    -0.875806\n",
       "152   -0.876772\n",
       "150   -0.876915\n",
       "177   -0.877290\n",
       "147   -0.879774\n",
       "235   -0.879969\n",
       "169   -0.880068\n",
       "78    -0.880545\n",
       "Name: PULocationID, dtype: float64"
      ]
     },
     "execution_count": 118,
     "metadata": {},
     "output_type": "execute_result"
    }
   ],
   "source": [
    "pd.Series(ride_pct_change.sort_values(ascending=False)).iloc[:20]"
   ]
  },
  {
   "cell_type": "markdown",
   "metadata": {},
   "source": [
    "### Merging ACS and subway ridership data with FHV Data"
   ]
  },
  {
   "cell_type": "code",
   "execution_count": 10,
   "metadata": {},
   "outputs": [],
   "source": [
    "# Import pct_change in subway ridership from May through August between 2019 and 2020\n",
    "\n",
    "subway = pd.read_csv('MLC_data-main 3/data/ridership_by_taxizone/ridership_by_taxizone.csv')\n",
    "subway = subway.drop(columns=['Unnamed: 0', '2019_entries', '2019_exits','2020_entries','2020_exits'])\n",
    "subway['mean_pct_change'] = (subway['entries__pct_change'] + subway['exits_pct_change']) / 2"
   ]
  },
  {
   "cell_type": "code",
   "execution_count": 11,
   "metadata": {},
   "outputs": [],
   "source": [
    "subway = subway.drop(columns=['entries__pct_change','exits_pct_change'])"
   ]
  },
  {
   "cell_type": "code",
   "execution_count": 12,
   "metadata": {},
   "outputs": [],
   "source": [
    "# Import 2019 ACS variables for census_tracts and taxi\n",
    "\n",
    "acs = pd.read_csv('MLC_data-main 3/data/census_zones/census_zones.csv')"
   ]
  },
  {
   "cell_type": "code",
   "execution_count": 13,
   "metadata": {},
   "outputs": [],
   "source": [
    "# select relevant variables from ACS table\n",
    "\n",
    "acs_var_names = {'healthcare':'SE_B17008_004','food_service':'SE_B17008_006','maintenance':'SE_B17008_007',\\\n",
    "                 'retail_sales':'SE_B17008_009', 'race_white':'SE_A03001_002', 'hh_median_income':'SE_A14006_001',\\\n",
    "                 'transit_commute':'SE_A09005_003','transit_12_5':'ACS19_5yr_B08132047','transit_60min+':'ACS19_5yr_B08134070'}\n",
    "\n",
    "acs_var_names = {v: k for k, v in acs_var_names.items()}\n",
    "\n",
    "acs_vars = [s.strip() for s in list(acs_var_names.keys())]"
   ]
  },
  {
   "cell_type": "code",
   "execution_count": 14,
   "metadata": {},
   "outputs": [
    {
     "data": {
      "text/html": [
       "<div>\n",
       "<style scoped>\n",
       "    .dataframe tbody tr th:only-of-type {\n",
       "        vertical-align: middle;\n",
       "    }\n",
       "\n",
       "    .dataframe tbody tr th {\n",
       "        vertical-align: top;\n",
       "    }\n",
       "\n",
       "    .dataframe thead th {\n",
       "        text-align: right;\n",
       "    }\n",
       "</style>\n",
       "<table border=\"1\" class=\"dataframe\">\n",
       "  <thead>\n",
       "    <tr style=\"text-align: right;\">\n",
       "      <th></th>\n",
       "      <th>0</th>\n",
       "    </tr>\n",
       "  </thead>\n",
       "  <tbody>\n",
       "    <tr>\n",
       "      <th>SE_B17008_004</th>\n",
       "      <td>healthcare</td>\n",
       "    </tr>\n",
       "    <tr>\n",
       "      <th>SE_B17008_006</th>\n",
       "      <td>food_service</td>\n",
       "    </tr>\n",
       "    <tr>\n",
       "      <th>SE_B17008_007</th>\n",
       "      <td>maintenance</td>\n",
       "    </tr>\n",
       "    <tr>\n",
       "      <th>SE_B17008_009</th>\n",
       "      <td>retail_sales</td>\n",
       "    </tr>\n",
       "    <tr>\n",
       "      <th>SE_A03001_002</th>\n",
       "      <td>race_white</td>\n",
       "    </tr>\n",
       "    <tr>\n",
       "      <th>SE_A14006_001</th>\n",
       "      <td>hh_median_income</td>\n",
       "    </tr>\n",
       "    <tr>\n",
       "      <th>SE_A09005_003</th>\n",
       "      <td>transit_commute</td>\n",
       "    </tr>\n",
       "    <tr>\n",
       "      <th>ACS19_5yr_B08132047</th>\n",
       "      <td>transit_12_5</td>\n",
       "    </tr>\n",
       "    <tr>\n",
       "      <th>ACS19_5yr_B08134070</th>\n",
       "      <td>transit_60min+</td>\n",
       "    </tr>\n",
       "  </tbody>\n",
       "</table>\n",
       "</div>"
      ],
      "text/plain": [
       "                                    0\n",
       "SE_B17008_004              healthcare\n",
       "SE_B17008_006            food_service\n",
       "SE_B17008_007             maintenance\n",
       "SE_B17008_009            retail_sales\n",
       "SE_A03001_002              race_white\n",
       "SE_A14006_001        hh_median_income\n",
       "SE_A09005_003         transit_commute\n",
       "ACS19_5yr_B08132047      transit_12_5\n",
       "ACS19_5yr_B08134070    transit_60min+"
      ]
     },
     "execution_count": 14,
     "metadata": {},
     "output_type": "execute_result"
    }
   ],
   "source": [
    "pd.DataFrame.from_dict(acs_var_names, orient='index')"
   ]
  },
  {
   "cell_type": "code",
   "execution_count": 15,
   "metadata": {},
   "outputs": [],
   "source": [
    "zone_acs1 = acs[['LocationID'] + acs_vars].groupby('LocationID').sum().drop(columns='SE_A14006_001')\n",
    "zone_acs2 = acs[['LocationID','SE_A14006_001']].groupby('LocationID').mean()\n",
    "zone_acs = zone_acs1.merge(zone_acs2, on='LocationID')"
   ]
  },
  {
   "cell_type": "code",
   "execution_count": 16,
   "metadata": {},
   "outputs": [
    {
     "data": {
      "text/html": [
       "<div>\n",
       "<style scoped>\n",
       "    .dataframe tbody tr th:only-of-type {\n",
       "        vertical-align: middle;\n",
       "    }\n",
       "\n",
       "    .dataframe tbody tr th {\n",
       "        vertical-align: top;\n",
       "    }\n",
       "\n",
       "    .dataframe thead th {\n",
       "        text-align: right;\n",
       "    }\n",
       "</style>\n",
       "<table border=\"1\" class=\"dataframe\">\n",
       "  <thead>\n",
       "    <tr style=\"text-align: right;\">\n",
       "      <th></th>\n",
       "      <th>SE_B17008_004</th>\n",
       "      <th>SE_B17008_006</th>\n",
       "      <th>SE_B17008_007</th>\n",
       "      <th>SE_B17008_009</th>\n",
       "      <th>SE_A03001_002</th>\n",
       "      <th>SE_A09005_003</th>\n",
       "      <th>ACS19_5yr_B08132047</th>\n",
       "      <th>ACS19_5yr_B08134070</th>\n",
       "      <th>SE_A14006_001</th>\n",
       "    </tr>\n",
       "    <tr>\n",
       "      <th>LocationID</th>\n",
       "      <th></th>\n",
       "      <th></th>\n",
       "      <th></th>\n",
       "      <th></th>\n",
       "      <th></th>\n",
       "      <th></th>\n",
       "      <th></th>\n",
       "      <th></th>\n",
       "      <th></th>\n",
       "    </tr>\n",
       "  </thead>\n",
       "  <tbody>\n",
       "    <tr>\n",
       "      <th>2.0</th>\n",
       "      <td>0</td>\n",
       "      <td>0</td>\n",
       "      <td>0</td>\n",
       "      <td>0</td>\n",
       "      <td>0</td>\n",
       "      <td>0</td>\n",
       "      <td>0</td>\n",
       "      <td>0</td>\n",
       "      <td>NaN</td>\n",
       "    </tr>\n",
       "    <tr>\n",
       "      <th>3.0</th>\n",
       "      <td>794</td>\n",
       "      <td>531</td>\n",
       "      <td>697</td>\n",
       "      <td>1183</td>\n",
       "      <td>9220</td>\n",
       "      <td>5752</td>\n",
       "      <td>198</td>\n",
       "      <td>3922</td>\n",
       "      <td>78678.545455</td>\n",
       "    </tr>\n",
       "    <tr>\n",
       "      <th>4.0</th>\n",
       "      <td>643</td>\n",
       "      <td>512</td>\n",
       "      <td>394</td>\n",
       "      <td>1357</td>\n",
       "      <td>10121</td>\n",
       "      <td>7346</td>\n",
       "      <td>158</td>\n",
       "      <td>1255</td>\n",
       "      <td>48225.166667</td>\n",
       "    </tr>\n",
       "    <tr>\n",
       "      <th>5.0</th>\n",
       "      <td>361</td>\n",
       "      <td>290</td>\n",
       "      <td>258</td>\n",
       "      <td>1455</td>\n",
       "      <td>24498</td>\n",
       "      <td>2602</td>\n",
       "      <td>28</td>\n",
       "      <td>2322</td>\n",
       "      <td>91298.500000</td>\n",
       "    </tr>\n",
       "    <tr>\n",
       "      <th>6.0</th>\n",
       "      <td>334</td>\n",
       "      <td>409</td>\n",
       "      <td>182</td>\n",
       "      <td>565</td>\n",
       "      <td>11378</td>\n",
       "      <td>2640</td>\n",
       "      <td>36</td>\n",
       "      <td>1767</td>\n",
       "      <td>78611.000000</td>\n",
       "    </tr>\n",
       "  </tbody>\n",
       "</table>\n",
       "</div>"
      ],
      "text/plain": [
       "            SE_B17008_004  SE_B17008_006  SE_B17008_007  SE_B17008_009  \\\n",
       "LocationID                                                               \n",
       "2.0                     0              0              0              0   \n",
       "3.0                   794            531            697           1183   \n",
       "4.0                   643            512            394           1357   \n",
       "5.0                   361            290            258           1455   \n",
       "6.0                   334            409            182            565   \n",
       "\n",
       "            SE_A03001_002  SE_A09005_003  ACS19_5yr_B08132047  \\\n",
       "LocationID                                                      \n",
       "2.0                     0              0                    0   \n",
       "3.0                  9220           5752                  198   \n",
       "4.0                 10121           7346                  158   \n",
       "5.0                 24498           2602                   28   \n",
       "6.0                 11378           2640                   36   \n",
       "\n",
       "            ACS19_5yr_B08134070  SE_A14006_001  \n",
       "LocationID                                      \n",
       "2.0                           0            NaN  \n",
       "3.0                        3922   78678.545455  \n",
       "4.0                        1255   48225.166667  \n",
       "5.0                        2322   91298.500000  \n",
       "6.0                        1767   78611.000000  "
      ]
     },
     "execution_count": 16,
     "metadata": {},
     "output_type": "execute_result"
    }
   ],
   "source": [
    "zone_acs.head()"
   ]
  },
  {
   "cell_type": "code",
   "execution_count": 17,
   "metadata": {},
   "outputs": [],
   "source": [
    "zone_acs.columns = [acs_var_names[x] for x in zone_acs.columns]"
   ]
  },
  {
   "cell_type": "code",
   "execution_count": 18,
   "metadata": {
    "scrolled": true
   },
   "outputs": [],
   "source": [
    "zone_acs['essential_workers'] = zone_acs.iloc[:,:4].sum(axis=1)"
   ]
  },
  {
   "cell_type": "code",
   "execution_count": 19,
   "metadata": {},
   "outputs": [],
   "source": [
    "zone_acs = zone_acs.reset_index().drop(columns=['healthcare','food_service','maintenance','retail_sales'])"
   ]
  },
  {
   "cell_type": "code",
   "execution_count": 191,
   "metadata": {},
   "outputs": [],
   "source": [
    "#essential_by_zone = pd.DataFrame(acs.groupby('LocationID')['SE_A17004_011'].mean())\n",
    "#essential_by_zone = essential_by_zone.rename(columns={'SE_A17004_011':'essential_count'}).reset_index()\n",
    "#essential_by_zone.head()"
   ]
  },
  {
   "cell_type": "code",
   "execution_count": 20,
   "metadata": {},
   "outputs": [],
   "source": [
    "#merge FHV_test data with ACS and subway variables by Taxi Zone\n",
    "\n",
    "FHV_merged = FHV.merge(zone_acs, left_on='PULocationID', right_on='LocationID', how='left').drop(columns='LocationID')\\\n",
    "    .merge(zone_acs, left_on='DOLocationID', right_on='LocationID', how='left').drop(columns='LocationID')\n",
    "\n",
    "FHV_merged = FHV_merged.merge(subway, left_on='PULocationID', right_on='LocationID', how='left').drop(columns='LocationID')\\\n",
    "    .merge(subway, left_on='DOLocationID', right_on='LocationID', how='left').dropna()\n",
    "\n"
   ]
  },
  {
   "cell_type": "code",
   "execution_count": 21,
   "metadata": {},
   "outputs": [
    {
     "data": {
      "text/html": [
       "<div>\n",
       "<style scoped>\n",
       "    .dataframe tbody tr th:only-of-type {\n",
       "        vertical-align: middle;\n",
       "    }\n",
       "\n",
       "    .dataframe tbody tr th {\n",
       "        vertical-align: top;\n",
       "    }\n",
       "\n",
       "    .dataframe thead th {\n",
       "        text-align: right;\n",
       "    }\n",
       "</style>\n",
       "<table border=\"1\" class=\"dataframe\">\n",
       "  <thead>\n",
       "    <tr style=\"text-align: right;\">\n",
       "      <th></th>\n",
       "      <th>Company</th>\n",
       "      <th>PULocationID</th>\n",
       "      <th>DOLocationID</th>\n",
       "      <th>PUTime</th>\n",
       "      <th>DOTime</th>\n",
       "      <th>Duration</th>\n",
       "      <th>Hour</th>\n",
       "      <th>DOW</th>\n",
       "      <th>overnight</th>\n",
       "      <th>race_white_x</th>\n",
       "      <th>...</th>\n",
       "      <th>essential_workers_x</th>\n",
       "      <th>race_white_y</th>\n",
       "      <th>transit_commute_y</th>\n",
       "      <th>transit_12_5_y</th>\n",
       "      <th>transit_60min+_y</th>\n",
       "      <th>hh_median_income_y</th>\n",
       "      <th>essential_workers_y</th>\n",
       "      <th>mean_pct_change_x</th>\n",
       "      <th>LocationID</th>\n",
       "      <th>mean_pct_change_y</th>\n",
       "    </tr>\n",
       "  </thead>\n",
       "  <tbody>\n",
       "    <tr>\n",
       "      <th>0</th>\n",
       "      <td>Uber</td>\n",
       "      <td>151</td>\n",
       "      <td>244</td>\n",
       "      <td>2020-05-06 00:01:26</td>\n",
       "      <td>2020-05-06 00:10:14</td>\n",
       "      <td>8.800000</td>\n",
       "      <td>0</td>\n",
       "      <td>2</td>\n",
       "      <td>0</td>\n",
       "      <td>21999.0</td>\n",
       "      <td>...</td>\n",
       "      <td>2610.0</td>\n",
       "      <td>28021.0</td>\n",
       "      <td>32802.0</td>\n",
       "      <td>515.0</td>\n",
       "      <td>9551.0</td>\n",
       "      <td>54295.666667</td>\n",
       "      <td>15013.0</td>\n",
       "      <td>-0.669249</td>\n",
       "      <td>244.0</td>\n",
       "      <td>-0.637957</td>\n",
       "    </tr>\n",
       "    <tr>\n",
       "      <th>1</th>\n",
       "      <td>Uber</td>\n",
       "      <td>74</td>\n",
       "      <td>32</td>\n",
       "      <td>2020-05-06 00:43:42</td>\n",
       "      <td>2020-05-06 00:59:27</td>\n",
       "      <td>15.750000</td>\n",
       "      <td>0</td>\n",
       "      <td>2</td>\n",
       "      <td>0</td>\n",
       "      <td>11740.0</td>\n",
       "      <td>...</td>\n",
       "      <td>7489.0</td>\n",
       "      <td>11322.0</td>\n",
       "      <td>10153.0</td>\n",
       "      <td>500.0</td>\n",
       "      <td>5815.0</td>\n",
       "      <td>40033.125000</td>\n",
       "      <td>4909.0</td>\n",
       "      <td>-0.633493</td>\n",
       "      <td>32.0</td>\n",
       "      <td>-0.540503</td>\n",
       "    </tr>\n",
       "    <tr>\n",
       "      <th>2</th>\n",
       "      <td>Via</td>\n",
       "      <td>35</td>\n",
       "      <td>177</td>\n",
       "      <td>2020-05-06 00:27:39</td>\n",
       "      <td>2020-05-06 00:35:04</td>\n",
       "      <td>7.416667</td>\n",
       "      <td>0</td>\n",
       "      <td>2</td>\n",
       "      <td>0</td>\n",
       "      <td>4790.0</td>\n",
       "      <td>...</td>\n",
       "      <td>6169.0</td>\n",
       "      <td>3427.0</td>\n",
       "      <td>11260.0</td>\n",
       "      <td>316.0</td>\n",
       "      <td>4129.0</td>\n",
       "      <td>43324.800000</td>\n",
       "      <td>4365.0</td>\n",
       "      <td>-0.583125</td>\n",
       "      <td>177.0</td>\n",
       "      <td>-0.575419</td>\n",
       "    </tr>\n",
       "    <tr>\n",
       "      <th>3</th>\n",
       "      <td>Via</td>\n",
       "      <td>188</td>\n",
       "      <td>61</td>\n",
       "      <td>2020-05-06 00:52:35</td>\n",
       "      <td>2020-05-06 00:58:13</td>\n",
       "      <td>5.633333</td>\n",
       "      <td>0</td>\n",
       "      <td>2</td>\n",
       "      <td>0</td>\n",
       "      <td>13762.0</td>\n",
       "      <td>...</td>\n",
       "      <td>9320.0</td>\n",
       "      <td>24225.0</td>\n",
       "      <td>39830.0</td>\n",
       "      <td>1379.0</td>\n",
       "      <td>11391.0</td>\n",
       "      <td>51373.629630</td>\n",
       "      <td>12958.0</td>\n",
       "      <td>-0.582923</td>\n",
       "      <td>61.0</td>\n",
       "      <td>-0.626409</td>\n",
       "    </tr>\n",
       "    <tr>\n",
       "      <th>4</th>\n",
       "      <td>Uber</td>\n",
       "      <td>225</td>\n",
       "      <td>35</td>\n",
       "      <td>2020-05-06 00:19:59</td>\n",
       "      <td>2020-05-06 00:28:43</td>\n",
       "      <td>8.733333</td>\n",
       "      <td>0</td>\n",
       "      <td>2</td>\n",
       "      <td>0</td>\n",
       "      <td>13131.0</td>\n",
       "      <td>...</td>\n",
       "      <td>8365.0</td>\n",
       "      <td>4790.0</td>\n",
       "      <td>11784.0</td>\n",
       "      <td>506.0</td>\n",
       "      <td>5603.0</td>\n",
       "      <td>27391.666667</td>\n",
       "      <td>6169.0</td>\n",
       "      <td>-0.610063</td>\n",
       "      <td>35.0</td>\n",
       "      <td>-0.583125</td>\n",
       "    </tr>\n",
       "  </tbody>\n",
       "</table>\n",
       "<p>5 rows × 24 columns</p>\n",
       "</div>"
      ],
      "text/plain": [
       "  Company  PULocationID  DOLocationID              PUTime              DOTime  \\\n",
       "0    Uber           151           244 2020-05-06 00:01:26 2020-05-06 00:10:14   \n",
       "1    Uber            74            32 2020-05-06 00:43:42 2020-05-06 00:59:27   \n",
       "2     Via            35           177 2020-05-06 00:27:39 2020-05-06 00:35:04   \n",
       "3     Via           188            61 2020-05-06 00:52:35 2020-05-06 00:58:13   \n",
       "4    Uber           225            35 2020-05-06 00:19:59 2020-05-06 00:28:43   \n",
       "\n",
       "    Duration  Hour  DOW  overnight  race_white_x  ...  essential_workers_x  \\\n",
       "0   8.800000     0    2          0       21999.0  ...               2610.0   \n",
       "1  15.750000     0    2          0       11740.0  ...               7489.0   \n",
       "2   7.416667     0    2          0        4790.0  ...               6169.0   \n",
       "3   5.633333     0    2          0       13762.0  ...               9320.0   \n",
       "4   8.733333     0    2          0       13131.0  ...               8365.0   \n",
       "\n",
       "   race_white_y  transit_commute_y  transit_12_5_y  transit_60min+_y  \\\n",
       "0       28021.0            32802.0           515.0            9551.0   \n",
       "1       11322.0            10153.0           500.0            5815.0   \n",
       "2        3427.0            11260.0           316.0            4129.0   \n",
       "3       24225.0            39830.0          1379.0           11391.0   \n",
       "4        4790.0            11784.0           506.0            5603.0   \n",
       "\n",
       "   hh_median_income_y  essential_workers_y  mean_pct_change_x  LocationID  \\\n",
       "0        54295.666667              15013.0          -0.669249       244.0   \n",
       "1        40033.125000               4909.0          -0.633493        32.0   \n",
       "2        43324.800000               4365.0          -0.583125       177.0   \n",
       "3        51373.629630              12958.0          -0.582923        61.0   \n",
       "4        27391.666667               6169.0          -0.610063        35.0   \n",
       "\n",
       "   mean_pct_change_y  \n",
       "0          -0.637957  \n",
       "1          -0.540503  \n",
       "2          -0.575419  \n",
       "3          -0.626409  \n",
       "4          -0.583125  \n",
       "\n",
       "[5 rows x 24 columns]"
      ]
     },
     "execution_count": 21,
     "metadata": {},
     "output_type": "execute_result"
    }
   ],
   "source": [
    "FHV_merged.head()"
   ]
  },
  {
   "cell_type": "code",
   "execution_count": 22,
   "metadata": {},
   "outputs": [],
   "source": [
    "FHV_merged = FHV_merged.rename(columns={'essential_count_x':'PU_essential_count','essential_count_y':'DO_essential_count',\\\n",
    "                          'mean_pct_change_x':'PU_subway_decrease','mean_pct_change_y':'DO_subway_decrease'}).drop(columns='LocationID')\n",
    "\n"
   ]
  },
  {
   "cell_type": "markdown",
   "metadata": {},
   "source": [
    "### Exploratory Data Analysis\n"
   ]
  },
  {
   "cell_type": "code",
   "execution_count": 23,
   "metadata": {},
   "outputs": [],
   "source": [
    "def green_over_one(val):\n",
    "    color = '' if val < 1 else 'honeydew'\n",
    "    return 'background-color: %s' % color"
   ]
  },
  {
   "cell_type": "code",
   "execution_count": 24,
   "metadata": {},
   "outputs": [
    {
     "data": {
      "text/html": [
       "<style  type=\"text/css\" >\n",
       "#T_31d56874_9db9_11eb_82d4_d4619d00d3a6row0_col0,#T_31d56874_9db9_11eb_82d4_d4619d00d3a6row1_col0,#T_31d56874_9db9_11eb_82d4_d4619d00d3a6row2_col1,#T_31d56874_9db9_11eb_82d4_d4619d00d3a6row3_col1,#T_31d56874_9db9_11eb_82d4_d4619d00d3a6row4_col0,#T_31d56874_9db9_11eb_82d4_d4619d00d3a6row5_col0,#T_31d56874_9db9_11eb_82d4_d4619d00d3a6row6_col0,#T_31d56874_9db9_11eb_82d4_d4619d00d3a6row7_col0,#T_31d56874_9db9_11eb_82d4_d4619d00d3a6row8_col1,#T_31d56874_9db9_11eb_82d4_d4619d00d3a6row9_col1,#T_31d56874_9db9_11eb_82d4_d4619d00d3a6row10_col1,#T_31d56874_9db9_11eb_82d4_d4619d00d3a6row11_col1,#T_31d56874_9db9_11eb_82d4_d4619d00d3a6row12_col1,#T_31d56874_9db9_11eb_82d4_d4619d00d3a6row13_col1{\n",
       "            background-color:  honeydew;\n",
       "        }#T_31d56874_9db9_11eb_82d4_d4619d00d3a6row0_col1,#T_31d56874_9db9_11eb_82d4_d4619d00d3a6row1_col1,#T_31d56874_9db9_11eb_82d4_d4619d00d3a6row2_col0,#T_31d56874_9db9_11eb_82d4_d4619d00d3a6row3_col0,#T_31d56874_9db9_11eb_82d4_d4619d00d3a6row4_col1,#T_31d56874_9db9_11eb_82d4_d4619d00d3a6row5_col1,#T_31d56874_9db9_11eb_82d4_d4619d00d3a6row6_col1,#T_31d56874_9db9_11eb_82d4_d4619d00d3a6row7_col1,#T_31d56874_9db9_11eb_82d4_d4619d00d3a6row8_col0,#T_31d56874_9db9_11eb_82d4_d4619d00d3a6row9_col0,#T_31d56874_9db9_11eb_82d4_d4619d00d3a6row10_col0,#T_31d56874_9db9_11eb_82d4_d4619d00d3a6row11_col0,#T_31d56874_9db9_11eb_82d4_d4619d00d3a6row12_col0,#T_31d56874_9db9_11eb_82d4_d4619d00d3a6row13_col0{\n",
       "            background-color:  ;\n",
       "        }</style><table id=\"T_31d56874_9db9_11eb_82d4_d4619d00d3a6\" ><thead>    <tr>        <th class=\"index_name level0\" >overnight</th>        <th class=\"col_heading level0 col0\" >no</th>        <th class=\"col_heading level0 col1\" >yes</th>    </tr></thead><tbody>\n",
       "                <tr>\n",
       "                        <th id=\"T_31d56874_9db9_11eb_82d4_d4619d00d3a6level0_row0\" class=\"row_heading level0 row0\" >DO_subway_decrease</th>\n",
       "                        <td id=\"T_31d56874_9db9_11eb_82d4_d4619d00d3a6row0_col0\" class=\"data row0 col0\" >1.001739</td>\n",
       "                        <td id=\"T_31d56874_9db9_11eb_82d4_d4619d00d3a6row0_col1\" class=\"data row0 col1\" >0.979534</td>\n",
       "            </tr>\n",
       "            <tr>\n",
       "                        <th id=\"T_31d56874_9db9_11eb_82d4_d4619d00d3a6level0_row1\" class=\"row_heading level0 row1\" >PU_subway_decrease</th>\n",
       "                        <td id=\"T_31d56874_9db9_11eb_82d4_d4619d00d3a6row1_col0\" class=\"data row1 col0\" >1.001563</td>\n",
       "                        <td id=\"T_31d56874_9db9_11eb_82d4_d4619d00d3a6row1_col1\" class=\"data row1 col1\" >0.981608</td>\n",
       "            </tr>\n",
       "            <tr>\n",
       "                        <th id=\"T_31d56874_9db9_11eb_82d4_d4619d00d3a6level0_row2\" class=\"row_heading level0 row2\" >essential_workers_x</th>\n",
       "                        <td id=\"T_31d56874_9db9_11eb_82d4_d4619d00d3a6row2_col0\" class=\"data row2 col0\" >0.993465</td>\n",
       "                        <td id=\"T_31d56874_9db9_11eb_82d4_d4619d00d3a6row2_col1\" class=\"data row2 col1\" >1.076906</td>\n",
       "            </tr>\n",
       "            <tr>\n",
       "                        <th id=\"T_31d56874_9db9_11eb_82d4_d4619d00d3a6level0_row3\" class=\"row_heading level0 row3\" >essential_workers_y</th>\n",
       "                        <td id=\"T_31d56874_9db9_11eb_82d4_d4619d00d3a6row3_col0\" class=\"data row3 col0\" >0.992876</td>\n",
       "                        <td id=\"T_31d56874_9db9_11eb_82d4_d4619d00d3a6row3_col1\" class=\"data row3 col1\" >1.083840</td>\n",
       "            </tr>\n",
       "            <tr>\n",
       "                        <th id=\"T_31d56874_9db9_11eb_82d4_d4619d00d3a6level0_row4\" class=\"row_heading level0 row4\" >hh_median_income_x</th>\n",
       "                        <td id=\"T_31d56874_9db9_11eb_82d4_d4619d00d3a6row4_col0\" class=\"data row4 col0\" >1.008868</td>\n",
       "                        <td id=\"T_31d56874_9db9_11eb_82d4_d4619d00d3a6row4_col1\" class=\"data row4 col1\" >0.895634</td>\n",
       "            </tr>\n",
       "            <tr>\n",
       "                        <th id=\"T_31d56874_9db9_11eb_82d4_d4619d00d3a6level0_row5\" class=\"row_heading level0 row5\" >hh_median_income_y</th>\n",
       "                        <td id=\"T_31d56874_9db9_11eb_82d4_d4619d00d3a6row5_col0\" class=\"data row5 col0\" >1.009659</td>\n",
       "                        <td id=\"T_31d56874_9db9_11eb_82d4_d4619d00d3a6row5_col1\" class=\"data row5 col1\" >0.886333</td>\n",
       "            </tr>\n",
       "            <tr>\n",
       "                        <th id=\"T_31d56874_9db9_11eb_82d4_d4619d00d3a6level0_row6\" class=\"row_heading level0 row6\" >race_white_x</th>\n",
       "                        <td id=\"T_31d56874_9db9_11eb_82d4_d4619d00d3a6row6_col0\" class=\"data row6 col0\" >1.005129</td>\n",
       "                        <td id=\"T_31d56874_9db9_11eb_82d4_d4619d00d3a6row6_col1\" class=\"data row6 col1\" >0.939644</td>\n",
       "            </tr>\n",
       "            <tr>\n",
       "                        <th id=\"T_31d56874_9db9_11eb_82d4_d4619d00d3a6level0_row7\" class=\"row_heading level0 row7\" >race_white_y</th>\n",
       "                        <td id=\"T_31d56874_9db9_11eb_82d4_d4619d00d3a6row7_col0\" class=\"data row7 col0\" >1.004962</td>\n",
       "                        <td id=\"T_31d56874_9db9_11eb_82d4_d4619d00d3a6row7_col1\" class=\"data row7 col1\" >0.941601</td>\n",
       "            </tr>\n",
       "            <tr>\n",
       "                        <th id=\"T_31d56874_9db9_11eb_82d4_d4619d00d3a6level0_row8\" class=\"row_heading level0 row8\" >transit_12_5_x</th>\n",
       "                        <td id=\"T_31d56874_9db9_11eb_82d4_d4619d00d3a6row8_col0\" class=\"data row8 col0\" >0.988893</td>\n",
       "                        <td id=\"T_31d56874_9db9_11eb_82d4_d4619d00d3a6row8_col1\" class=\"data row8 col1\" >1.130715</td>\n",
       "            </tr>\n",
       "            <tr>\n",
       "                        <th id=\"T_31d56874_9db9_11eb_82d4_d4619d00d3a6level0_row9\" class=\"row_heading level0 row9\" >transit_12_5_y</th>\n",
       "                        <td id=\"T_31d56874_9db9_11eb_82d4_d4619d00d3a6row9_col0\" class=\"data row9 col0\" >0.988699</td>\n",
       "                        <td id=\"T_31d56874_9db9_11eb_82d4_d4619d00d3a6row9_col1\" class=\"data row9 col1\" >1.132999</td>\n",
       "            </tr>\n",
       "            <tr>\n",
       "                        <th id=\"T_31d56874_9db9_11eb_82d4_d4619d00d3a6level0_row10\" class=\"row_heading level0 row10\" >transit_60min+_x</th>\n",
       "                        <td id=\"T_31d56874_9db9_11eb_82d4_d4619d00d3a6row10_col0\" class=\"data row10 col0\" >0.992478</td>\n",
       "                        <td id=\"T_31d56874_9db9_11eb_82d4_d4619d00d3a6row10_col1\" class=\"data row10 col1\" >1.088528</td>\n",
       "            </tr>\n",
       "            <tr>\n",
       "                        <th id=\"T_31d56874_9db9_11eb_82d4_d4619d00d3a6level0_row11\" class=\"row_heading level0 row11\" >transit_60min+_y</th>\n",
       "                        <td id=\"T_31d56874_9db9_11eb_82d4_d4619d00d3a6row11_col0\" class=\"data row11 col0\" >0.991913</td>\n",
       "                        <td id=\"T_31d56874_9db9_11eb_82d4_d4619d00d3a6row11_col1\" class=\"data row11 col1\" >1.095178</td>\n",
       "            </tr>\n",
       "            <tr>\n",
       "                        <th id=\"T_31d56874_9db9_11eb_82d4_d4619d00d3a6level0_row12\" class=\"row_heading level0 row12\" >transit_commute_x</th>\n",
       "                        <td id=\"T_31d56874_9db9_11eb_82d4_d4619d00d3a6row12_col0\" class=\"data row12 col0\" >0.995881</td>\n",
       "                        <td id=\"T_31d56874_9db9_11eb_82d4_d4619d00d3a6row12_col1\" class=\"data row12 col1\" >1.048474</td>\n",
       "            </tr>\n",
       "            <tr>\n",
       "                        <th id=\"T_31d56874_9db9_11eb_82d4_d4619d00d3a6level0_row13\" class=\"row_heading level0 row13\" >transit_commute_y</th>\n",
       "                        <td id=\"T_31d56874_9db9_11eb_82d4_d4619d00d3a6row13_col0\" class=\"data row13 col0\" >0.995921</td>\n",
       "                        <td id=\"T_31d56874_9db9_11eb_82d4_d4619d00d3a6row13_col1\" class=\"data row13 col1\" >1.048008</td>\n",
       "            </tr>\n",
       "    </tbody></table>"
      ],
      "text/plain": [
       "<pandas.io.formats.style.Styler at 0x1205d4908>"
      ]
     },
     "execution_count": 24,
     "metadata": {},
     "output_type": "execute_result"
    }
   ],
   "source": [
    "(FHV_merged.iloc[:,7:].groupby('overnight').mean() / FHV_merged.iloc[:,7:].mean())\\\n",
    "    .drop(columns=['overnight','DOW']).transpose().rename(columns={0:'no', 1:'yes'}).style.applymap(green_over_one)"
   ]
  },
  {
   "cell_type": "code",
   "execution_count": 27,
   "metadata": {},
   "outputs": [],
   "source": [
    "def highlight_max(s):\n",
    "    is_max = s == s.max()\n",
    "    return ['background-color: honeydew' if v else '' for v in is_max]"
   ]
  },
  {
   "cell_type": "code",
   "execution_count": 28,
   "metadata": {
    "scrolled": true
   },
   "outputs": [
    {
     "data": {
      "text/html": [
       "<style  type=\"text/css\" >\n",
       "#T_7ed8e8da_9db9_11eb_82d4_d4619d00d3a6row0_col0,#T_7ed8e8da_9db9_11eb_82d4_d4619d00d3a6row0_col4,#T_7ed8e8da_9db9_11eb_82d4_d4619d00d3a6row0_col6,#T_7ed8e8da_9db9_11eb_82d4_d4619d00d3a6row0_col10,#T_7ed8e8da_9db9_11eb_82d4_d4619d00d3a6row1_col1,#T_7ed8e8da_9db9_11eb_82d4_d4619d00d3a6row1_col2,#T_7ed8e8da_9db9_11eb_82d4_d4619d00d3a6row1_col3,#T_7ed8e8da_9db9_11eb_82d4_d4619d00d3a6row1_col5,#T_7ed8e8da_9db9_11eb_82d4_d4619d00d3a6row1_col7,#T_7ed8e8da_9db9_11eb_82d4_d4619d00d3a6row1_col8,#T_7ed8e8da_9db9_11eb_82d4_d4619d00d3a6row1_col9,#T_7ed8e8da_9db9_11eb_82d4_d4619d00d3a6row1_col11,#T_7ed8e8da_9db9_11eb_82d4_d4619d00d3a6row1_col12,#T_7ed8e8da_9db9_11eb_82d4_d4619d00d3a6row1_col13{\n",
       "            background-color:  honeydew;\n",
       "        }</style><table id=\"T_7ed8e8da_9db9_11eb_82d4_d4619d00d3a6\" ><thead>    <tr>        <th class=\"blank level0\" ></th>        <th class=\"col_heading level0 col0\" >race_white_x</th>        <th class=\"col_heading level0 col1\" >transit_commute_x</th>        <th class=\"col_heading level0 col2\" >transit_12_5_x</th>        <th class=\"col_heading level0 col3\" >transit_60min+_x</th>        <th class=\"col_heading level0 col4\" >hh_median_income_x</th>        <th class=\"col_heading level0 col5\" >essential_workers_x</th>        <th class=\"col_heading level0 col6\" >race_white_y</th>        <th class=\"col_heading level0 col7\" >transit_commute_y</th>        <th class=\"col_heading level0 col8\" >transit_12_5_y</th>        <th class=\"col_heading level0 col9\" >transit_60min+_y</th>        <th class=\"col_heading level0 col10\" >hh_median_income_y</th>        <th class=\"col_heading level0 col11\" >essential_workers_y</th>        <th class=\"col_heading level0 col12\" >PU_subway_decrease</th>        <th class=\"col_heading level0 col13\" >DO_subway_decrease</th>    </tr>    <tr>        <th class=\"index_name level0\" >overnight</th>        <th class=\"blank\" ></th>        <th class=\"blank\" ></th>        <th class=\"blank\" ></th>        <th class=\"blank\" ></th>        <th class=\"blank\" ></th>        <th class=\"blank\" ></th>        <th class=\"blank\" ></th>        <th class=\"blank\" ></th>        <th class=\"blank\" ></th>        <th class=\"blank\" ></th>        <th class=\"blank\" ></th>        <th class=\"blank\" ></th>        <th class=\"blank\" ></th>        <th class=\"blank\" ></th>    </tr></thead><tbody>\n",
       "                <tr>\n",
       "                        <th id=\"T_7ed8e8da_9db9_11eb_82d4_d4619d00d3a6level0_row0\" class=\"row_heading level0 row0\" >0</th>\n",
       "                        <td id=\"T_7ed8e8da_9db9_11eb_82d4_d4619d00d3a6row0_col0\" class=\"data row0 col0\" >17369.079957</td>\n",
       "                        <td id=\"T_7ed8e8da_9db9_11eb_82d4_d4619d00d3a6row0_col1\" class=\"data row0 col1\" >14395.191822</td>\n",
       "                        <td id=\"T_7ed8e8da_9db9_11eb_82d4_d4619d00d3a6row0_col2\" class=\"data row0 col2\" >396.140011</td>\n",
       "                        <td id=\"T_7ed8e8da_9db9_11eb_82d4_d4619d00d3a6row0_col3\" class=\"data row0 col3\" >4495.116887</td>\n",
       "                        <td id=\"T_7ed8e8da_9db9_11eb_82d4_d4619d00d3a6row0_col4\" class=\"data row0 col4\" >75056.597929</td>\n",
       "                        <td id=\"T_7ed8e8da_9db9_11eb_82d4_d4619d00d3a6row0_col5\" class=\"data row0 col5\" >6033.633454</td>\n",
       "                        <td id=\"T_7ed8e8da_9db9_11eb_82d4_d4619d00d3a6row0_col6\" class=\"data row0 col6\" >17368.741893</td>\n",
       "                        <td id=\"T_7ed8e8da_9db9_11eb_82d4_d4619d00d3a6row0_col7\" class=\"data row0 col7\" >14338.894087</td>\n",
       "                        <td id=\"T_7ed8e8da_9db9_11eb_82d4_d4619d00d3a6row0_col8\" class=\"data row0 col8\" >394.178728</td>\n",
       "                        <td id=\"T_7ed8e8da_9db9_11eb_82d4_d4619d00d3a6row0_col9\" class=\"data row0 col9\" >4487.964693</td>\n",
       "                        <td id=\"T_7ed8e8da_9db9_11eb_82d4_d4619d00d3a6row0_col10\" class=\"data row0 col10\" >75444.121915</td>\n",
       "                        <td id=\"T_7ed8e8da_9db9_11eb_82d4_d4619d00d3a6row0_col11\" class=\"data row0 col11\" >6012.934114</td>\n",
       "                        <td id=\"T_7ed8e8da_9db9_11eb_82d4_d4619d00d3a6row0_col12\" class=\"data row0 col12\" >-0.622445</td>\n",
       "                        <td id=\"T_7ed8e8da_9db9_11eb_82d4_d4619d00d3a6row0_col13\" class=\"data row0 col13\" >-0.622435</td>\n",
       "            </tr>\n",
       "            <tr>\n",
       "                        <th id=\"T_7ed8e8da_9db9_11eb_82d4_d4619d00d3a6level0_row1\" class=\"row_heading level0 row1\" >1</th>\n",
       "                        <td id=\"T_7ed8e8da_9db9_11eb_82d4_d4619d00d3a6row1_col0\" class=\"data row1 col0\" >16237.476170</td>\n",
       "                        <td id=\"T_7ed8e8da_9db9_11eb_82d4_d4619d00d3a6row1_col1\" class=\"data row1 col1\" >15155.413177</td>\n",
       "                        <td id=\"T_7ed8e8da_9db9_11eb_82d4_d4619d00d3a6row1_col2\" class=\"data row1 col2\" >452.952665</td>\n",
       "                        <td id=\"T_7ed8e8da_9db9_11eb_82d4_d4619d00d3a6row1_col3\" class=\"data row1 col3\" >4930.146954</td>\n",
       "                        <td id=\"T_7ed8e8da_9db9_11eb_82d4_d4619d00d3a6row1_col4\" class=\"data row1 col4\" >66632.324298</td>\n",
       "                        <td id=\"T_7ed8e8da_9db9_11eb_82d4_d4619d00d3a6row1_col5\" class=\"data row1 col5\" >6540.398088</td>\n",
       "                        <td id=\"T_7ed8e8da_9db9_11eb_82d4_d4619d00d3a6row1_col6\" class=\"data row1 col6\" >16273.667607</td>\n",
       "                        <td id=\"T_7ed8e8da_9db9_11eb_82d4_d4619d00d3a6row1_col7\" class=\"data row1 col7\" >15088.833971</td>\n",
       "                        <td id=\"T_7ed8e8da_9db9_11eb_82d4_d4619d00d3a6row1_col8\" class=\"data row1 col8\" >451.708951</td>\n",
       "                        <td id=\"T_7ed8e8da_9db9_11eb_82d4_d4619d00d3a6row1_col9\" class=\"data row1 col9\" >4955.193199</td>\n",
       "                        <td id=\"T_7ed8e8da_9db9_11eb_82d4_d4619d00d3a6row1_col10\" class=\"data row1 col10\" >66228.963902</td>\n",
       "                        <td id=\"T_7ed8e8da_9db9_11eb_82d4_d4619d00d3a6row1_col11\" class=\"data row1 col11\" >6563.818107</td>\n",
       "                        <td id=\"T_7ed8e8da_9db9_11eb_82d4_d4619d00d3a6row1_col12\" class=\"data row1 col12\" >-0.610043</td>\n",
       "                        <td id=\"T_7ed8e8da_9db9_11eb_82d4_d4619d00d3a6row1_col13\" class=\"data row1 col13\" >-0.608638</td>\n",
       "            </tr>\n",
       "    </tbody></table>"
      ],
      "text/plain": [
       "<pandas.io.formats.style.Styler at 0x1284b09b0>"
      ]
     },
     "execution_count": 28,
     "metadata": {},
     "output_type": "execute_result"
    }
   ],
   "source": [
    "overnight_means = FHV_merged.iloc[:,7:].groupby('overnight').mean().drop(columns='DOW').rename(columns={0:'no', 1:'yes'}).style.apply(highlight_max)\n",
    "overnight_means"
   ]
  },
  {
   "cell_type": "code",
   "execution_count": 718,
   "metadata": {
    "scrolled": false
   },
   "outputs": [
    {
     "data": {
      "text/plain": [
       "pct_white_x              16760.857125\n",
       "pct_transit_commute_x    15034.838875\n",
       "transit_12_5_x             432.712749\n",
       "transit_60min+_x          4760.663858\n",
       "hh_median_income_x       70871.312334\n",
       "essential_workers_x       6308.321230\n",
       "pct_white_y              16868.007536\n",
       "pct_transit_commute_y    14856.445071\n",
       "transit_12_5_y             425.826427\n",
       "transit_60min+_y          4760.834645\n",
       "hh_median_income_y       70702.399080\n",
       "essential_workers_y       6293.211836\n",
       "PU_subway_change            -0.619228\n",
       "DO_subway_change            -0.615850\n",
       "dtype: float64"
      ]
     },
     "execution_count": 718,
     "metadata": {},
     "output_type": "execute_result"
    }
   ],
   "source": [
    "FHV_merged[FHV_merged['overnight']==1].iloc[:,9:].mean()"
   ]
  },
  {
   "cell_type": "markdown",
   "metadata": {},
   "source": [
    "### Classification Tests"
   ]
  },
  {
   "cell_type": "code",
   "execution_count": 29,
   "metadata": {},
   "outputs": [],
   "source": [
    "from sklearn.model_selection import train_test_split\n",
    "from sklearn.linear_model import LogisticRegression\n",
    "from sklearn.tree import DecisionTreeClassifier\n",
    "from sklearn.ensemble import RandomForestClassifier\n",
    "from sklearn.model_selection import GridSearchCV\n",
    "from sklearn.metrics import roc_auc_score\n",
    "from sklearn.metrics import accuracy_score"
   ]
  },
  {
   "cell_type": "code",
   "execution_count": 30,
   "metadata": {
    "scrolled": true
   },
   "outputs": [],
   "source": [
    "FHV_merged = FHV_merged.join(pd.get_dummies(FHV_merged['DOW'])).drop(columns=['DOW','Hour'])"
   ]
  },
  {
   "cell_type": "code",
   "execution_count": 31,
   "metadata": {},
   "outputs": [],
   "source": [
    "FHV_merged = FHV_merged.join(pd.get_dummies(FHV_merged['Company'])).drop(columns='Company')"
   ]
  },
  {
   "cell_type": "code",
   "execution_count": 587,
   "metadata": {},
   "outputs": [
    {
     "data": {
      "text/html": [
       "<div>\n",
       "<style scoped>\n",
       "    .dataframe tbody tr th:only-of-type {\n",
       "        vertical-align: middle;\n",
       "    }\n",
       "\n",
       "    .dataframe tbody tr th {\n",
       "        vertical-align: top;\n",
       "    }\n",
       "\n",
       "    .dataframe thead th {\n",
       "        text-align: right;\n",
       "    }\n",
       "</style>\n",
       "<table border=\"1\" class=\"dataframe\">\n",
       "  <thead>\n",
       "    <tr style=\"text-align: right;\">\n",
       "      <th></th>\n",
       "      <th>PULocationID</th>\n",
       "      <th>DOLocationID</th>\n",
       "      <th>Duration</th>\n",
       "      <th>pct_white_x</th>\n",
       "      <th>pct_transit_commute_x</th>\n",
       "      <th>transit_12_5_x</th>\n",
       "      <th>transit_60min+_x</th>\n",
       "      <th>hh_median_income_x</th>\n",
       "      <th>essential_workers_x</th>\n",
       "      <th>pct_white_y</th>\n",
       "      <th>...</th>\n",
       "      <th>0</th>\n",
       "      <th>1</th>\n",
       "      <th>2</th>\n",
       "      <th>3</th>\n",
       "      <th>4</th>\n",
       "      <th>5</th>\n",
       "      <th>6</th>\n",
       "      <th>Lyft</th>\n",
       "      <th>Uber</th>\n",
       "      <th>Via</th>\n",
       "    </tr>\n",
       "  </thead>\n",
       "  <tbody>\n",
       "    <tr>\n",
       "      <th>0</th>\n",
       "      <td>260</td>\n",
       "      <td>129</td>\n",
       "      <td>10.700000</td>\n",
       "      <td>18985.0</td>\n",
       "      <td>15002.0</td>\n",
       "      <td>385.0</td>\n",
       "      <td>2996.0</td>\n",
       "      <td>64765.833333</td>\n",
       "      <td>6166.0</td>\n",
       "      <td>46445.0</td>\n",
       "      <td>...</td>\n",
       "      <td>0</td>\n",
       "      <td>0</td>\n",
       "      <td>1</td>\n",
       "      <td>0</td>\n",
       "      <td>0</td>\n",
       "      <td>0</td>\n",
       "      <td>0</td>\n",
       "      <td>0</td>\n",
       "      <td>1</td>\n",
       "      <td>0</td>\n",
       "    </tr>\n",
       "    <tr>\n",
       "      <th>1</th>\n",
       "      <td>146</td>\n",
       "      <td>74</td>\n",
       "      <td>18.816667</td>\n",
       "      <td>2927.0</td>\n",
       "      <td>3140.0</td>\n",
       "      <td>68.0</td>\n",
       "      <td>489.0</td>\n",
       "      <td>73450.000000</td>\n",
       "      <td>1179.0</td>\n",
       "      <td>11740.0</td>\n",
       "      <td>...</td>\n",
       "      <td>0</td>\n",
       "      <td>0</td>\n",
       "      <td>1</td>\n",
       "      <td>0</td>\n",
       "      <td>0</td>\n",
       "      <td>0</td>\n",
       "      <td>0</td>\n",
       "      <td>0</td>\n",
       "      <td>1</td>\n",
       "      <td>0</td>\n",
       "    </tr>\n",
       "    <tr>\n",
       "      <th>2</th>\n",
       "      <td>74</td>\n",
       "      <td>42</td>\n",
       "      <td>4.200000</td>\n",
       "      <td>11740.0</td>\n",
       "      <td>17396.0</td>\n",
       "      <td>311.0</td>\n",
       "      <td>2752.0</td>\n",
       "      <td>33484.090909</td>\n",
       "      <td>7489.0</td>\n",
       "      <td>13339.0</td>\n",
       "      <td>...</td>\n",
       "      <td>0</td>\n",
       "      <td>0</td>\n",
       "      <td>1</td>\n",
       "      <td>0</td>\n",
       "      <td>0</td>\n",
       "      <td>0</td>\n",
       "      <td>0</td>\n",
       "      <td>0</td>\n",
       "      <td>1</td>\n",
       "      <td>0</td>\n",
       "    </tr>\n",
       "    <tr>\n",
       "      <th>3</th>\n",
       "      <td>42</td>\n",
       "      <td>235</td>\n",
       "      <td>11.933333</td>\n",
       "      <td>13339.0</td>\n",
       "      <td>28784.0</td>\n",
       "      <td>848.0</td>\n",
       "      <td>4921.0</td>\n",
       "      <td>52185.187500</td>\n",
       "      <td>9446.0</td>\n",
       "      <td>5382.0</td>\n",
       "      <td>...</td>\n",
       "      <td>0</td>\n",
       "      <td>0</td>\n",
       "      <td>1</td>\n",
       "      <td>0</td>\n",
       "      <td>0</td>\n",
       "      <td>0</td>\n",
       "      <td>0</td>\n",
       "      <td>0</td>\n",
       "      <td>1</td>\n",
       "      <td>0</td>\n",
       "    </tr>\n",
       "    <tr>\n",
       "      <th>4</th>\n",
       "      <td>37</td>\n",
       "      <td>17</td>\n",
       "      <td>8.200000</td>\n",
       "      <td>25825.0</td>\n",
       "      <td>25923.0</td>\n",
       "      <td>814.0</td>\n",
       "      <td>7703.0</td>\n",
       "      <td>59154.333333</td>\n",
       "      <td>10271.0</td>\n",
       "      <td>35888.0</td>\n",
       "      <td>...</td>\n",
       "      <td>0</td>\n",
       "      <td>0</td>\n",
       "      <td>1</td>\n",
       "      <td>0</td>\n",
       "      <td>0</td>\n",
       "      <td>0</td>\n",
       "      <td>0</td>\n",
       "      <td>1</td>\n",
       "      <td>0</td>\n",
       "      <td>0</td>\n",
       "    </tr>\n",
       "    <tr>\n",
       "      <th>...</th>\n",
       "      <td>...</td>\n",
       "      <td>...</td>\n",
       "      <td>...</td>\n",
       "      <td>...</td>\n",
       "      <td>...</td>\n",
       "      <td>...</td>\n",
       "      <td>...</td>\n",
       "      <td>...</td>\n",
       "      <td>...</td>\n",
       "      <td>...</td>\n",
       "      <td>...</td>\n",
       "      <td>...</td>\n",
       "      <td>...</td>\n",
       "      <td>...</td>\n",
       "      <td>...</td>\n",
       "      <td>...</td>\n",
       "      <td>...</td>\n",
       "      <td>...</td>\n",
       "      <td>...</td>\n",
       "      <td>...</td>\n",
       "      <td>...</td>\n",
       "    </tr>\n",
       "    <tr>\n",
       "      <th>1791813</th>\n",
       "      <td>75</td>\n",
       "      <td>237</td>\n",
       "      <td>7.900000</td>\n",
       "      <td>23479.0</td>\n",
       "      <td>16858.0</td>\n",
       "      <td>367.0</td>\n",
       "      <td>2400.0</td>\n",
       "      <td>50623.818182</td>\n",
       "      <td>5960.0</td>\n",
       "      <td>15803.0</td>\n",
       "      <td>...</td>\n",
       "      <td>1</td>\n",
       "      <td>0</td>\n",
       "      <td>0</td>\n",
       "      <td>0</td>\n",
       "      <td>0</td>\n",
       "      <td>0</td>\n",
       "      <td>0</td>\n",
       "      <td>0</td>\n",
       "      <td>1</td>\n",
       "      <td>0</td>\n",
       "    </tr>\n",
       "    <tr>\n",
       "      <th>1791814</th>\n",
       "      <td>236</td>\n",
       "      <td>113</td>\n",
       "      <td>15.166667</td>\n",
       "      <td>32246.0</td>\n",
       "      <td>11968.0</td>\n",
       "      <td>27.0</td>\n",
       "      <td>599.0</td>\n",
       "      <td>177116.125000</td>\n",
       "      <td>2915.0</td>\n",
       "      <td>16269.0</td>\n",
       "      <td>...</td>\n",
       "      <td>1</td>\n",
       "      <td>0</td>\n",
       "      <td>0</td>\n",
       "      <td>0</td>\n",
       "      <td>0</td>\n",
       "      <td>0</td>\n",
       "      <td>0</td>\n",
       "      <td>0</td>\n",
       "      <td>1</td>\n",
       "      <td>0</td>\n",
       "    </tr>\n",
       "    <tr>\n",
       "      <th>1791815</th>\n",
       "      <td>69</td>\n",
       "      <td>137</td>\n",
       "      <td>28.183333</td>\n",
       "      <td>8405.0</td>\n",
       "      <td>17493.0</td>\n",
       "      <td>906.0</td>\n",
       "      <td>6858.0</td>\n",
       "      <td>33030.307692</td>\n",
       "      <td>10351.0</td>\n",
       "      <td>15913.0</td>\n",
       "      <td>...</td>\n",
       "      <td>1</td>\n",
       "      <td>0</td>\n",
       "      <td>0</td>\n",
       "      <td>0</td>\n",
       "      <td>0</td>\n",
       "      <td>0</td>\n",
       "      <td>0</td>\n",
       "      <td>0</td>\n",
       "      <td>1</td>\n",
       "      <td>0</td>\n",
       "    </tr>\n",
       "    <tr>\n",
       "      <th>1791816</th>\n",
       "      <td>181</td>\n",
       "      <td>140</td>\n",
       "      <td>21.450000</td>\n",
       "      <td>52345.0</td>\n",
       "      <td>28187.0</td>\n",
       "      <td>179.0</td>\n",
       "      <td>4473.0</td>\n",
       "      <td>142617.000000</td>\n",
       "      <td>3852.0</td>\n",
       "      <td>22657.0</td>\n",
       "      <td>...</td>\n",
       "      <td>1</td>\n",
       "      <td>0</td>\n",
       "      <td>0</td>\n",
       "      <td>0</td>\n",
       "      <td>0</td>\n",
       "      <td>0</td>\n",
       "      <td>0</td>\n",
       "      <td>0</td>\n",
       "      <td>1</td>\n",
       "      <td>0</td>\n",
       "    </tr>\n",
       "    <tr>\n",
       "      <th>1791818</th>\n",
       "      <td>212</td>\n",
       "      <td>168</td>\n",
       "      <td>14.566667</td>\n",
       "      <td>4207.0</td>\n",
       "      <td>8685.0</td>\n",
       "      <td>506.0</td>\n",
       "      <td>4947.0</td>\n",
       "      <td>37067.111111</td>\n",
       "      <td>5599.0</td>\n",
       "      <td>8321.0</td>\n",
       "      <td>...</td>\n",
       "      <td>1</td>\n",
       "      <td>0</td>\n",
       "      <td>0</td>\n",
       "      <td>0</td>\n",
       "      <td>0</td>\n",
       "      <td>0</td>\n",
       "      <td>0</td>\n",
       "      <td>0</td>\n",
       "      <td>1</td>\n",
       "      <td>0</td>\n",
       "    </tr>\n",
       "  </tbody>\n",
       "</table>\n",
       "<p>1437542 rows × 28 columns</p>\n",
       "</div>"
      ],
      "text/plain": [
       "         PULocationID  DOLocationID   Duration  pct_white_x  \\\n",
       "0                 260           129  10.700000      18985.0   \n",
       "1                 146            74  18.816667       2927.0   \n",
       "2                  74            42   4.200000      11740.0   \n",
       "3                  42           235  11.933333      13339.0   \n",
       "4                  37            17   8.200000      25825.0   \n",
       "...               ...           ...        ...          ...   \n",
       "1791813            75           237   7.900000      23479.0   \n",
       "1791814           236           113  15.166667      32246.0   \n",
       "1791815            69           137  28.183333       8405.0   \n",
       "1791816           181           140  21.450000      52345.0   \n",
       "1791818           212           168  14.566667       4207.0   \n",
       "\n",
       "         pct_transit_commute_x  transit_12_5_x  transit_60min+_x  \\\n",
       "0                      15002.0           385.0            2996.0   \n",
       "1                       3140.0            68.0             489.0   \n",
       "2                      17396.0           311.0            2752.0   \n",
       "3                      28784.0           848.0            4921.0   \n",
       "4                      25923.0           814.0            7703.0   \n",
       "...                        ...             ...               ...   \n",
       "1791813                16858.0           367.0            2400.0   \n",
       "1791814                11968.0            27.0             599.0   \n",
       "1791815                17493.0           906.0            6858.0   \n",
       "1791816                28187.0           179.0            4473.0   \n",
       "1791818                 8685.0           506.0            4947.0   \n",
       "\n",
       "         hh_median_income_x  essential_workers_x  pct_white_y  ...  0  1  2  \\\n",
       "0              64765.833333               6166.0      46445.0  ...  0  0  1   \n",
       "1              73450.000000               1179.0      11740.0  ...  0  0  1   \n",
       "2              33484.090909               7489.0      13339.0  ...  0  0  1   \n",
       "3              52185.187500               9446.0       5382.0  ...  0  0  1   \n",
       "4              59154.333333              10271.0      35888.0  ...  0  0  1   \n",
       "...                     ...                  ...          ...  ... .. .. ..   \n",
       "1791813        50623.818182               5960.0      15803.0  ...  1  0  0   \n",
       "1791814       177116.125000               2915.0      16269.0  ...  1  0  0   \n",
       "1791815        33030.307692              10351.0      15913.0  ...  1  0  0   \n",
       "1791816       142617.000000               3852.0      22657.0  ...  1  0  0   \n",
       "1791818        37067.111111               5599.0       8321.0  ...  1  0  0   \n",
       "\n",
       "         3  4  5  6  Lyft  Uber  Via  \n",
       "0        0  0  0  0     0     1    0  \n",
       "1        0  0  0  0     0     1    0  \n",
       "2        0  0  0  0     0     1    0  \n",
       "3        0  0  0  0     0     1    0  \n",
       "4        0  0  0  0     1     0    0  \n",
       "...     .. .. .. ..   ...   ...  ...  \n",
       "1791813  0  0  0  0     0     1    0  \n",
       "1791814  0  0  0  0     0     1    0  \n",
       "1791815  0  0  0  0     0     1    0  \n",
       "1791816  0  0  0  0     0     1    0  \n",
       "1791818  0  0  0  0     0     1    0  \n",
       "\n",
       "[1437542 rows x 28 columns]"
      ]
     },
     "execution_count": 587,
     "metadata": {},
     "output_type": "execute_result"
    }
   ],
   "source": [
    "FHV_merged.drop(columns=['PUTime','DOTime','overnight'])"
   ]
  },
  {
   "cell_type": "code",
   "execution_count": 32,
   "metadata": {},
   "outputs": [],
   "source": [
    "X = FHV_merged.drop(columns=['PUTime','DOTime','overnight'])\n",
    "y = FHV_merged['overnight']\n",
    "\n",
    "X_train, X_test, y_train, y_test = train_test_split(X,y,random_state=9,test_size=0.4)"
   ]
  },
  {
   "cell_type": "code",
   "execution_count": 589,
   "metadata": {},
   "outputs": [
    {
     "name": "stderr",
     "output_type": "stream",
     "text": [
      "//anaconda3/lib/python3.7/site-packages/sklearn/linear_model/_logistic.py:765: ConvergenceWarning: lbfgs failed to converge (status=1):\n",
      "STOP: TOTAL NO. of ITERATIONS REACHED LIMIT.\n",
      "\n",
      "Increase the number of iterations (max_iter) or scale the data as shown in:\n",
      "    https://scikit-learn.org/stable/modules/preprocessing.html\n",
      "Please also refer to the documentation for alternative solver options:\n",
      "    https://scikit-learn.org/stable/modules/linear_model.html#logistic-regression\n",
      "  extra_warning_msg=_LOGISTIC_SOLVER_CONVERGENCE_MSG)\n"
     ]
    },
    {
     "data": {
      "text/plain": [
       "0.5605901278223819"
      ]
     },
     "execution_count": 589,
     "metadata": {},
     "output_type": "execute_result"
    }
   ],
   "source": [
    "lm = LogisticRegression()\n",
    "lm.fit(X_train,y_train)\n",
    "lm.score(X_train,y_train)"
   ]
  },
  {
   "cell_type": "code",
   "execution_count": 33,
   "metadata": {},
   "outputs": [
    {
     "name": "stdout",
     "output_type": "stream",
     "text": [
      "IS R2: 0.9795896916187908\n",
      "OS R2: 0.8749423355396914\n"
     ]
    }
   ],
   "source": [
    "dt=DecisionTreeClassifier()\n",
    "dt.fit(X_train,y_train)\n",
    "print('IS R2:',dt.score(X_train,y_train))\n",
    "print('OS R2:',dt.score(X_test,y_test))"
   ]
  },
  {
   "cell_type": "code",
   "execution_count": null,
   "metadata": {},
   "outputs": [],
   "source": []
  },
  {
   "cell_type": "code",
   "execution_count": 623,
   "metadata": {},
   "outputs": [
    {
     "name": "stdout",
     "output_type": "stream",
     "text": [
      "IS R2: 0.9867586446769658\n",
      "OS R2: 0.6318039292751345\n"
     ]
    }
   ],
   "source": [
    "rf = RandomForestClassifier(n_estimators=30)\n",
    "rf.fit(X_train,y_train)\n",
    "print('IS R2:',rf.score(X_train,y_train))\n",
    "print('OS R2:',rf.score(X_test,y_test))"
   ]
  },
  {
   "cell_type": "code",
   "execution_count": 34,
   "metadata": {},
   "outputs": [
    {
     "ename": "KeyboardInterrupt",
     "evalue": "",
     "output_type": "error",
     "traceback": [
      "\u001b[0;31m---------------------------------------------------------------------------\u001b[0m",
      "\u001b[0;31mKeyboardInterrupt\u001b[0m                         Traceback (most recent call last)",
      "\u001b[0;32m<ipython-input-34-03e616dbe07d>\u001b[0m in \u001b[0;36m<module>\u001b[0;34m\u001b[0m\n\u001b[1;32m      2\u001b[0m \u001b[0mrf\u001b[0m \u001b[0;34m=\u001b[0m \u001b[0mRandomForestClassifier\u001b[0m\u001b[0;34m(\u001b[0m\u001b[0mn_estimators\u001b[0m\u001b[0;34m=\u001b[0m\u001b[0;36m30\u001b[0m\u001b[0;34m)\u001b[0m\u001b[0;34m\u001b[0m\u001b[0;34m\u001b[0m\u001b[0m\n\u001b[1;32m      3\u001b[0m \u001b[0mgs\u001b[0m \u001b[0;34m=\u001b[0m \u001b[0mGridSearchCV\u001b[0m\u001b[0;34m(\u001b[0m\u001b[0mrf\u001b[0m\u001b[0;34m,\u001b[0m\u001b[0mparam_grid\u001b[0m\u001b[0;34m=\u001b[0m\u001b[0mparam_grid\u001b[0m\u001b[0;34m,\u001b[0m\u001b[0mscoring\u001b[0m\u001b[0;34m=\u001b[0m\u001b[0;34m'accuracy'\u001b[0m\u001b[0;34m)\u001b[0m\u001b[0;34m\u001b[0m\u001b[0;34m\u001b[0m\u001b[0m\n\u001b[0;32m----> 4\u001b[0;31m \u001b[0mrs\u001b[0m \u001b[0;34m=\u001b[0m \u001b[0mgs\u001b[0m\u001b[0;34m.\u001b[0m\u001b[0mfit\u001b[0m\u001b[0;34m(\u001b[0m\u001b[0mX_train\u001b[0m\u001b[0;34m,\u001b[0m\u001b[0my_train\u001b[0m\u001b[0;34m)\u001b[0m\u001b[0;34m\u001b[0m\u001b[0;34m\u001b[0m\u001b[0m\n\u001b[0m\u001b[1;32m      5\u001b[0m \u001b[0mpred\u001b[0m\u001b[0;34m=\u001b[0m\u001b[0mrs\u001b[0m\u001b[0;34m.\u001b[0m\u001b[0mpredict\u001b[0m\u001b[0;34m(\u001b[0m\u001b[0mX_test\u001b[0m\u001b[0;34m)\u001b[0m\u001b[0;34m\u001b[0m\u001b[0;34m\u001b[0m\u001b[0m\n\u001b[1;32m      6\u001b[0m \u001b[0mprint\u001b[0m\u001b[0;34m(\u001b[0m\u001b[0mrs\u001b[0m\u001b[0;34m.\u001b[0m\u001b[0mbest_params_\u001b[0m\u001b[0;34m)\u001b[0m\u001b[0;34m\u001b[0m\u001b[0;34m\u001b[0m\u001b[0m\n",
      "\u001b[0;32m//anaconda3/lib/python3.7/site-packages/sklearn/utils/validation.py\u001b[0m in \u001b[0;36minner_f\u001b[0;34m(*args, **kwargs)\u001b[0m\n\u001b[1;32m     61\u001b[0m             \u001b[0mextra_args\u001b[0m \u001b[0;34m=\u001b[0m \u001b[0mlen\u001b[0m\u001b[0;34m(\u001b[0m\u001b[0margs\u001b[0m\u001b[0;34m)\u001b[0m \u001b[0;34m-\u001b[0m \u001b[0mlen\u001b[0m\u001b[0;34m(\u001b[0m\u001b[0mall_args\u001b[0m\u001b[0;34m)\u001b[0m\u001b[0;34m\u001b[0m\u001b[0;34m\u001b[0m\u001b[0m\n\u001b[1;32m     62\u001b[0m             \u001b[0;32mif\u001b[0m \u001b[0mextra_args\u001b[0m \u001b[0;34m<=\u001b[0m \u001b[0;36m0\u001b[0m\u001b[0;34m:\u001b[0m\u001b[0;34m\u001b[0m\u001b[0;34m\u001b[0m\u001b[0m\n\u001b[0;32m---> 63\u001b[0;31m                 \u001b[0;32mreturn\u001b[0m \u001b[0mf\u001b[0m\u001b[0;34m(\u001b[0m\u001b[0;34m*\u001b[0m\u001b[0margs\u001b[0m\u001b[0;34m,\u001b[0m \u001b[0;34m**\u001b[0m\u001b[0mkwargs\u001b[0m\u001b[0;34m)\u001b[0m\u001b[0;34m\u001b[0m\u001b[0;34m\u001b[0m\u001b[0m\n\u001b[0m\u001b[1;32m     64\u001b[0m \u001b[0;34m\u001b[0m\u001b[0m\n\u001b[1;32m     65\u001b[0m             \u001b[0;31m# extra_args > 0\u001b[0m\u001b[0;34m\u001b[0m\u001b[0;34m\u001b[0m\u001b[0;34m\u001b[0m\u001b[0m\n",
      "\u001b[0;32m//anaconda3/lib/python3.7/site-packages/sklearn/model_selection/_search.py\u001b[0m in \u001b[0;36mfit\u001b[0;34m(self, X, y, groups, **fit_params)\u001b[0m\n\u001b[1;32m    839\u001b[0m                 \u001b[0;32mreturn\u001b[0m \u001b[0mresults\u001b[0m\u001b[0;34m\u001b[0m\u001b[0;34m\u001b[0m\u001b[0m\n\u001b[1;32m    840\u001b[0m \u001b[0;34m\u001b[0m\u001b[0m\n\u001b[0;32m--> 841\u001b[0;31m             \u001b[0mself\u001b[0m\u001b[0;34m.\u001b[0m\u001b[0m_run_search\u001b[0m\u001b[0;34m(\u001b[0m\u001b[0mevaluate_candidates\u001b[0m\u001b[0;34m)\u001b[0m\u001b[0;34m\u001b[0m\u001b[0;34m\u001b[0m\u001b[0m\n\u001b[0m\u001b[1;32m    842\u001b[0m \u001b[0;34m\u001b[0m\u001b[0m\n\u001b[1;32m    843\u001b[0m             \u001b[0;31m# multimetric is determined here because in the case of a callable\u001b[0m\u001b[0;34m\u001b[0m\u001b[0;34m\u001b[0m\u001b[0;34m\u001b[0m\u001b[0m\n",
      "\u001b[0;32m//anaconda3/lib/python3.7/site-packages/sklearn/model_selection/_search.py\u001b[0m in \u001b[0;36m_run_search\u001b[0;34m(self, evaluate_candidates)\u001b[0m\n\u001b[1;32m   1286\u001b[0m     \u001b[0;32mdef\u001b[0m \u001b[0m_run_search\u001b[0m\u001b[0;34m(\u001b[0m\u001b[0mself\u001b[0m\u001b[0;34m,\u001b[0m \u001b[0mevaluate_candidates\u001b[0m\u001b[0;34m)\u001b[0m\u001b[0;34m:\u001b[0m\u001b[0;34m\u001b[0m\u001b[0;34m\u001b[0m\u001b[0m\n\u001b[1;32m   1287\u001b[0m         \u001b[0;34m\"\"\"Search all candidates in param_grid\"\"\"\u001b[0m\u001b[0;34m\u001b[0m\u001b[0;34m\u001b[0m\u001b[0m\n\u001b[0;32m-> 1288\u001b[0;31m         \u001b[0mevaluate_candidates\u001b[0m\u001b[0;34m(\u001b[0m\u001b[0mParameterGrid\u001b[0m\u001b[0;34m(\u001b[0m\u001b[0mself\u001b[0m\u001b[0;34m.\u001b[0m\u001b[0mparam_grid\u001b[0m\u001b[0;34m)\u001b[0m\u001b[0;34m)\u001b[0m\u001b[0;34m\u001b[0m\u001b[0;34m\u001b[0m\u001b[0m\n\u001b[0m\u001b[1;32m   1289\u001b[0m \u001b[0;34m\u001b[0m\u001b[0m\n\u001b[1;32m   1290\u001b[0m \u001b[0;34m\u001b[0m\u001b[0m\n",
      "\u001b[0;32m//anaconda3/lib/python3.7/site-packages/sklearn/model_selection/_search.py\u001b[0m in \u001b[0;36mevaluate_candidates\u001b[0;34m(candidate_params, cv, more_results)\u001b[0m\n\u001b[1;32m    807\u001b[0m                                    (split_idx, (train, test)) in product(\n\u001b[1;32m    808\u001b[0m                                    \u001b[0menumerate\u001b[0m\u001b[0;34m(\u001b[0m\u001b[0mcandidate_params\u001b[0m\u001b[0;34m)\u001b[0m\u001b[0;34m,\u001b[0m\u001b[0;34m\u001b[0m\u001b[0;34m\u001b[0m\u001b[0m\n\u001b[0;32m--> 809\u001b[0;31m                                    enumerate(cv.split(X, y, groups))))\n\u001b[0m\u001b[1;32m    810\u001b[0m \u001b[0;34m\u001b[0m\u001b[0m\n\u001b[1;32m    811\u001b[0m                 \u001b[0;32mif\u001b[0m \u001b[0mlen\u001b[0m\u001b[0;34m(\u001b[0m\u001b[0mout\u001b[0m\u001b[0;34m)\u001b[0m \u001b[0;34m<\u001b[0m \u001b[0;36m1\u001b[0m\u001b[0;34m:\u001b[0m\u001b[0;34m\u001b[0m\u001b[0;34m\u001b[0m\u001b[0m\n",
      "\u001b[0;32m//anaconda3/lib/python3.7/site-packages/joblib/parallel.py\u001b[0m in \u001b[0;36m__call__\u001b[0;34m(self, iterable)\u001b[0m\n\u001b[1;32m   1030\u001b[0m                 \u001b[0mself\u001b[0m\u001b[0;34m.\u001b[0m\u001b[0m_iterating\u001b[0m \u001b[0;34m=\u001b[0m \u001b[0mself\u001b[0m\u001b[0;34m.\u001b[0m\u001b[0m_original_iterator\u001b[0m \u001b[0;32mis\u001b[0m \u001b[0;32mnot\u001b[0m \u001b[0;32mNone\u001b[0m\u001b[0;34m\u001b[0m\u001b[0;34m\u001b[0m\u001b[0m\n\u001b[1;32m   1031\u001b[0m \u001b[0;34m\u001b[0m\u001b[0m\n\u001b[0;32m-> 1032\u001b[0;31m             \u001b[0;32mwhile\u001b[0m \u001b[0mself\u001b[0m\u001b[0;34m.\u001b[0m\u001b[0mdispatch_one_batch\u001b[0m\u001b[0;34m(\u001b[0m\u001b[0miterator\u001b[0m\u001b[0;34m)\u001b[0m\u001b[0;34m:\u001b[0m\u001b[0;34m\u001b[0m\u001b[0;34m\u001b[0m\u001b[0m\n\u001b[0m\u001b[1;32m   1033\u001b[0m                 \u001b[0;32mpass\u001b[0m\u001b[0;34m\u001b[0m\u001b[0;34m\u001b[0m\u001b[0m\n\u001b[1;32m   1034\u001b[0m \u001b[0;34m\u001b[0m\u001b[0m\n",
      "\u001b[0;32m//anaconda3/lib/python3.7/site-packages/joblib/parallel.py\u001b[0m in \u001b[0;36mdispatch_one_batch\u001b[0;34m(self, iterator)\u001b[0m\n\u001b[1;32m    845\u001b[0m                 \u001b[0;32mreturn\u001b[0m \u001b[0;32mFalse\u001b[0m\u001b[0;34m\u001b[0m\u001b[0;34m\u001b[0m\u001b[0m\n\u001b[1;32m    846\u001b[0m             \u001b[0;32melse\u001b[0m\u001b[0;34m:\u001b[0m\u001b[0;34m\u001b[0m\u001b[0;34m\u001b[0m\u001b[0m\n\u001b[0;32m--> 847\u001b[0;31m                 \u001b[0mself\u001b[0m\u001b[0;34m.\u001b[0m\u001b[0m_dispatch\u001b[0m\u001b[0;34m(\u001b[0m\u001b[0mtasks\u001b[0m\u001b[0;34m)\u001b[0m\u001b[0;34m\u001b[0m\u001b[0;34m\u001b[0m\u001b[0m\n\u001b[0m\u001b[1;32m    848\u001b[0m                 \u001b[0;32mreturn\u001b[0m \u001b[0;32mTrue\u001b[0m\u001b[0;34m\u001b[0m\u001b[0;34m\u001b[0m\u001b[0m\n\u001b[1;32m    849\u001b[0m \u001b[0;34m\u001b[0m\u001b[0m\n",
      "\u001b[0;32m//anaconda3/lib/python3.7/site-packages/joblib/parallel.py\u001b[0m in \u001b[0;36m_dispatch\u001b[0;34m(self, batch)\u001b[0m\n\u001b[1;32m    763\u001b[0m         \u001b[0;32mwith\u001b[0m \u001b[0mself\u001b[0m\u001b[0;34m.\u001b[0m\u001b[0m_lock\u001b[0m\u001b[0;34m:\u001b[0m\u001b[0;34m\u001b[0m\u001b[0;34m\u001b[0m\u001b[0m\n\u001b[1;32m    764\u001b[0m             \u001b[0mjob_idx\u001b[0m \u001b[0;34m=\u001b[0m \u001b[0mlen\u001b[0m\u001b[0;34m(\u001b[0m\u001b[0mself\u001b[0m\u001b[0;34m.\u001b[0m\u001b[0m_jobs\u001b[0m\u001b[0;34m)\u001b[0m\u001b[0;34m\u001b[0m\u001b[0;34m\u001b[0m\u001b[0m\n\u001b[0;32m--> 765\u001b[0;31m             \u001b[0mjob\u001b[0m \u001b[0;34m=\u001b[0m \u001b[0mself\u001b[0m\u001b[0;34m.\u001b[0m\u001b[0m_backend\u001b[0m\u001b[0;34m.\u001b[0m\u001b[0mapply_async\u001b[0m\u001b[0;34m(\u001b[0m\u001b[0mbatch\u001b[0m\u001b[0;34m,\u001b[0m \u001b[0mcallback\u001b[0m\u001b[0;34m=\u001b[0m\u001b[0mcb\u001b[0m\u001b[0;34m)\u001b[0m\u001b[0;34m\u001b[0m\u001b[0;34m\u001b[0m\u001b[0m\n\u001b[0m\u001b[1;32m    766\u001b[0m             \u001b[0;31m# A job can complete so quickly than its callback is\u001b[0m\u001b[0;34m\u001b[0m\u001b[0;34m\u001b[0m\u001b[0;34m\u001b[0m\u001b[0m\n\u001b[1;32m    767\u001b[0m             \u001b[0;31m# called before we get here, causing self._jobs to\u001b[0m\u001b[0;34m\u001b[0m\u001b[0;34m\u001b[0m\u001b[0;34m\u001b[0m\u001b[0m\n",
      "\u001b[0;32m//anaconda3/lib/python3.7/site-packages/joblib/_parallel_backends.py\u001b[0m in \u001b[0;36mapply_async\u001b[0;34m(self, func, callback)\u001b[0m\n\u001b[1;32m    206\u001b[0m     \u001b[0;32mdef\u001b[0m \u001b[0mapply_async\u001b[0m\u001b[0;34m(\u001b[0m\u001b[0mself\u001b[0m\u001b[0;34m,\u001b[0m \u001b[0mfunc\u001b[0m\u001b[0;34m,\u001b[0m \u001b[0mcallback\u001b[0m\u001b[0;34m=\u001b[0m\u001b[0;32mNone\u001b[0m\u001b[0;34m)\u001b[0m\u001b[0;34m:\u001b[0m\u001b[0;34m\u001b[0m\u001b[0;34m\u001b[0m\u001b[0m\n\u001b[1;32m    207\u001b[0m         \u001b[0;34m\"\"\"Schedule a func to be run\"\"\"\u001b[0m\u001b[0;34m\u001b[0m\u001b[0;34m\u001b[0m\u001b[0m\n\u001b[0;32m--> 208\u001b[0;31m         \u001b[0mresult\u001b[0m \u001b[0;34m=\u001b[0m \u001b[0mImmediateResult\u001b[0m\u001b[0;34m(\u001b[0m\u001b[0mfunc\u001b[0m\u001b[0;34m)\u001b[0m\u001b[0;34m\u001b[0m\u001b[0;34m\u001b[0m\u001b[0m\n\u001b[0m\u001b[1;32m    209\u001b[0m         \u001b[0;32mif\u001b[0m \u001b[0mcallback\u001b[0m\u001b[0;34m:\u001b[0m\u001b[0;34m\u001b[0m\u001b[0;34m\u001b[0m\u001b[0m\n\u001b[1;32m    210\u001b[0m             \u001b[0mcallback\u001b[0m\u001b[0;34m(\u001b[0m\u001b[0mresult\u001b[0m\u001b[0;34m)\u001b[0m\u001b[0;34m\u001b[0m\u001b[0;34m\u001b[0m\u001b[0m\n",
      "\u001b[0;32m//anaconda3/lib/python3.7/site-packages/joblib/_parallel_backends.py\u001b[0m in \u001b[0;36m__init__\u001b[0;34m(self, batch)\u001b[0m\n\u001b[1;32m    570\u001b[0m         \u001b[0;31m# Don't delay the application, to avoid keeping the input\u001b[0m\u001b[0;34m\u001b[0m\u001b[0;34m\u001b[0m\u001b[0;34m\u001b[0m\u001b[0m\n\u001b[1;32m    571\u001b[0m         \u001b[0;31m# arguments in memory\u001b[0m\u001b[0;34m\u001b[0m\u001b[0;34m\u001b[0m\u001b[0;34m\u001b[0m\u001b[0m\n\u001b[0;32m--> 572\u001b[0;31m         \u001b[0mself\u001b[0m\u001b[0;34m.\u001b[0m\u001b[0mresults\u001b[0m \u001b[0;34m=\u001b[0m \u001b[0mbatch\u001b[0m\u001b[0;34m(\u001b[0m\u001b[0;34m)\u001b[0m\u001b[0;34m\u001b[0m\u001b[0;34m\u001b[0m\u001b[0m\n\u001b[0m\u001b[1;32m    573\u001b[0m \u001b[0;34m\u001b[0m\u001b[0m\n\u001b[1;32m    574\u001b[0m     \u001b[0;32mdef\u001b[0m \u001b[0mget\u001b[0m\u001b[0;34m(\u001b[0m\u001b[0mself\u001b[0m\u001b[0;34m)\u001b[0m\u001b[0;34m:\u001b[0m\u001b[0;34m\u001b[0m\u001b[0;34m\u001b[0m\u001b[0m\n",
      "\u001b[0;32m//anaconda3/lib/python3.7/site-packages/joblib/parallel.py\u001b[0m in \u001b[0;36m__call__\u001b[0;34m(self)\u001b[0m\n\u001b[1;32m    251\u001b[0m         \u001b[0;32mwith\u001b[0m \u001b[0mparallel_backend\u001b[0m\u001b[0;34m(\u001b[0m\u001b[0mself\u001b[0m\u001b[0;34m.\u001b[0m\u001b[0m_backend\u001b[0m\u001b[0;34m,\u001b[0m \u001b[0mn_jobs\u001b[0m\u001b[0;34m=\u001b[0m\u001b[0mself\u001b[0m\u001b[0;34m.\u001b[0m\u001b[0m_n_jobs\u001b[0m\u001b[0;34m)\u001b[0m\u001b[0;34m:\u001b[0m\u001b[0;34m\u001b[0m\u001b[0;34m\u001b[0m\u001b[0m\n\u001b[1;32m    252\u001b[0m             return [func(*args, **kwargs)\n\u001b[0;32m--> 253\u001b[0;31m                     for func, args, kwargs in self.items]\n\u001b[0m\u001b[1;32m    254\u001b[0m \u001b[0;34m\u001b[0m\u001b[0m\n\u001b[1;32m    255\u001b[0m     \u001b[0;32mdef\u001b[0m \u001b[0m__reduce__\u001b[0m\u001b[0;34m(\u001b[0m\u001b[0mself\u001b[0m\u001b[0;34m)\u001b[0m\u001b[0;34m:\u001b[0m\u001b[0;34m\u001b[0m\u001b[0;34m\u001b[0m\u001b[0m\n",
      "\u001b[0;32m//anaconda3/lib/python3.7/site-packages/joblib/parallel.py\u001b[0m in \u001b[0;36m<listcomp>\u001b[0;34m(.0)\u001b[0m\n\u001b[1;32m    251\u001b[0m         \u001b[0;32mwith\u001b[0m \u001b[0mparallel_backend\u001b[0m\u001b[0;34m(\u001b[0m\u001b[0mself\u001b[0m\u001b[0;34m.\u001b[0m\u001b[0m_backend\u001b[0m\u001b[0;34m,\u001b[0m \u001b[0mn_jobs\u001b[0m\u001b[0;34m=\u001b[0m\u001b[0mself\u001b[0m\u001b[0;34m.\u001b[0m\u001b[0m_n_jobs\u001b[0m\u001b[0;34m)\u001b[0m\u001b[0;34m:\u001b[0m\u001b[0;34m\u001b[0m\u001b[0;34m\u001b[0m\u001b[0m\n\u001b[1;32m    252\u001b[0m             return [func(*args, **kwargs)\n\u001b[0;32m--> 253\u001b[0;31m                     for func, args, kwargs in self.items]\n\u001b[0m\u001b[1;32m    254\u001b[0m \u001b[0;34m\u001b[0m\u001b[0m\n\u001b[1;32m    255\u001b[0m     \u001b[0;32mdef\u001b[0m \u001b[0m__reduce__\u001b[0m\u001b[0;34m(\u001b[0m\u001b[0mself\u001b[0m\u001b[0;34m)\u001b[0m\u001b[0;34m:\u001b[0m\u001b[0;34m\u001b[0m\u001b[0;34m\u001b[0m\u001b[0m\n",
      "\u001b[0;32m//anaconda3/lib/python3.7/site-packages/sklearn/utils/fixes.py\u001b[0m in \u001b[0;36m__call__\u001b[0;34m(self, *args, **kwargs)\u001b[0m\n\u001b[1;32m    220\u001b[0m     \u001b[0;32mdef\u001b[0m \u001b[0m__call__\u001b[0m\u001b[0;34m(\u001b[0m\u001b[0mself\u001b[0m\u001b[0;34m,\u001b[0m \u001b[0;34m*\u001b[0m\u001b[0margs\u001b[0m\u001b[0;34m,\u001b[0m \u001b[0;34m**\u001b[0m\u001b[0mkwargs\u001b[0m\u001b[0;34m)\u001b[0m\u001b[0;34m:\u001b[0m\u001b[0;34m\u001b[0m\u001b[0;34m\u001b[0m\u001b[0m\n\u001b[1;32m    221\u001b[0m         \u001b[0;32mwith\u001b[0m \u001b[0mconfig_context\u001b[0m\u001b[0;34m(\u001b[0m\u001b[0;34m**\u001b[0m\u001b[0mself\u001b[0m\u001b[0;34m.\u001b[0m\u001b[0mconfig\u001b[0m\u001b[0;34m)\u001b[0m\u001b[0;34m:\u001b[0m\u001b[0;34m\u001b[0m\u001b[0;34m\u001b[0m\u001b[0m\n\u001b[0;32m--> 222\u001b[0;31m             \u001b[0;32mreturn\u001b[0m \u001b[0mself\u001b[0m\u001b[0;34m.\u001b[0m\u001b[0mfunction\u001b[0m\u001b[0;34m(\u001b[0m\u001b[0;34m*\u001b[0m\u001b[0margs\u001b[0m\u001b[0;34m,\u001b[0m \u001b[0;34m**\u001b[0m\u001b[0mkwargs\u001b[0m\u001b[0;34m)\u001b[0m\u001b[0;34m\u001b[0m\u001b[0;34m\u001b[0m\u001b[0m\n\u001b[0m",
      "\u001b[0;32m//anaconda3/lib/python3.7/site-packages/sklearn/model_selection/_validation.py\u001b[0m in \u001b[0;36m_fit_and_score\u001b[0;34m(estimator, X, y, scorer, train, test, verbose, parameters, fit_params, return_train_score, return_parameters, return_n_test_samples, return_times, return_estimator, split_progress, candidate_progress, error_score)\u001b[0m\n\u001b[1;32m    583\u001b[0m     \u001b[0mstart_time\u001b[0m \u001b[0;34m=\u001b[0m \u001b[0mtime\u001b[0m\u001b[0;34m.\u001b[0m\u001b[0mtime\u001b[0m\u001b[0;34m(\u001b[0m\u001b[0;34m)\u001b[0m\u001b[0;34m\u001b[0m\u001b[0;34m\u001b[0m\u001b[0m\n\u001b[1;32m    584\u001b[0m \u001b[0;34m\u001b[0m\u001b[0m\n\u001b[0;32m--> 585\u001b[0;31m     \u001b[0mX_train\u001b[0m\u001b[0;34m,\u001b[0m \u001b[0my_train\u001b[0m \u001b[0;34m=\u001b[0m \u001b[0m_safe_split\u001b[0m\u001b[0;34m(\u001b[0m\u001b[0mestimator\u001b[0m\u001b[0;34m,\u001b[0m \u001b[0mX\u001b[0m\u001b[0;34m,\u001b[0m \u001b[0my\u001b[0m\u001b[0;34m,\u001b[0m \u001b[0mtrain\u001b[0m\u001b[0;34m)\u001b[0m\u001b[0;34m\u001b[0m\u001b[0;34m\u001b[0m\u001b[0m\n\u001b[0m\u001b[1;32m    586\u001b[0m     \u001b[0mX_test\u001b[0m\u001b[0;34m,\u001b[0m \u001b[0my_test\u001b[0m \u001b[0;34m=\u001b[0m \u001b[0m_safe_split\u001b[0m\u001b[0;34m(\u001b[0m\u001b[0mestimator\u001b[0m\u001b[0;34m,\u001b[0m \u001b[0mX\u001b[0m\u001b[0;34m,\u001b[0m \u001b[0my\u001b[0m\u001b[0;34m,\u001b[0m \u001b[0mtest\u001b[0m\u001b[0;34m,\u001b[0m \u001b[0mtrain\u001b[0m\u001b[0;34m)\u001b[0m\u001b[0;34m\u001b[0m\u001b[0;34m\u001b[0m\u001b[0m\n\u001b[1;32m    587\u001b[0m \u001b[0;34m\u001b[0m\u001b[0m\n",
      "\u001b[0;32m//anaconda3/lib/python3.7/site-packages/sklearn/utils/metaestimators.py\u001b[0m in \u001b[0;36m_safe_split\u001b[0;34m(estimator, X, y, indices, train_indices)\u001b[0m\n\u001b[1;32m    209\u001b[0m             \u001b[0mX_subset\u001b[0m \u001b[0;34m=\u001b[0m \u001b[0mX\u001b[0m\u001b[0;34m[\u001b[0m\u001b[0mnp\u001b[0m\u001b[0;34m.\u001b[0m\u001b[0mix_\u001b[0m\u001b[0;34m(\u001b[0m\u001b[0mindices\u001b[0m\u001b[0;34m,\u001b[0m \u001b[0mtrain_indices\u001b[0m\u001b[0;34m)\u001b[0m\u001b[0;34m]\u001b[0m\u001b[0;34m\u001b[0m\u001b[0;34m\u001b[0m\u001b[0m\n\u001b[1;32m    210\u001b[0m     \u001b[0;32melse\u001b[0m\u001b[0;34m:\u001b[0m\u001b[0;34m\u001b[0m\u001b[0;34m\u001b[0m\u001b[0m\n\u001b[0;32m--> 211\u001b[0;31m         \u001b[0mX_subset\u001b[0m \u001b[0;34m=\u001b[0m \u001b[0m_safe_indexing\u001b[0m\u001b[0;34m(\u001b[0m\u001b[0mX\u001b[0m\u001b[0;34m,\u001b[0m \u001b[0mindices\u001b[0m\u001b[0;34m)\u001b[0m\u001b[0;34m\u001b[0m\u001b[0;34m\u001b[0m\u001b[0m\n\u001b[0m\u001b[1;32m    212\u001b[0m \u001b[0;34m\u001b[0m\u001b[0m\n\u001b[1;32m    213\u001b[0m     \u001b[0;32mif\u001b[0m \u001b[0my\u001b[0m \u001b[0;32mis\u001b[0m \u001b[0;32mnot\u001b[0m \u001b[0;32mNone\u001b[0m\u001b[0;34m:\u001b[0m\u001b[0;34m\u001b[0m\u001b[0;34m\u001b[0m\u001b[0m\n",
      "\u001b[0;32m//anaconda3/lib/python3.7/site-packages/sklearn/utils/__init__.py\u001b[0m in \u001b[0;36m_safe_indexing\u001b[0;34m(X, indices, axis)\u001b[0m\n\u001b[1;32m    340\u001b[0m \u001b[0;34m\u001b[0m\u001b[0m\n\u001b[1;32m    341\u001b[0m     \u001b[0;32mif\u001b[0m \u001b[0mhasattr\u001b[0m\u001b[0;34m(\u001b[0m\u001b[0mX\u001b[0m\u001b[0;34m,\u001b[0m \u001b[0;34m\"iloc\"\u001b[0m\u001b[0;34m)\u001b[0m\u001b[0;34m:\u001b[0m\u001b[0;34m\u001b[0m\u001b[0;34m\u001b[0m\u001b[0m\n\u001b[0;32m--> 342\u001b[0;31m         \u001b[0;32mreturn\u001b[0m \u001b[0m_pandas_indexing\u001b[0m\u001b[0;34m(\u001b[0m\u001b[0mX\u001b[0m\u001b[0;34m,\u001b[0m \u001b[0mindices\u001b[0m\u001b[0;34m,\u001b[0m \u001b[0mindices_dtype\u001b[0m\u001b[0;34m,\u001b[0m \u001b[0maxis\u001b[0m\u001b[0;34m=\u001b[0m\u001b[0maxis\u001b[0m\u001b[0;34m)\u001b[0m\u001b[0;34m\u001b[0m\u001b[0;34m\u001b[0m\u001b[0m\n\u001b[0m\u001b[1;32m    343\u001b[0m     \u001b[0;32melif\u001b[0m \u001b[0mhasattr\u001b[0m\u001b[0;34m(\u001b[0m\u001b[0mX\u001b[0m\u001b[0;34m,\u001b[0m \u001b[0;34m\"shape\"\u001b[0m\u001b[0;34m)\u001b[0m\u001b[0;34m:\u001b[0m\u001b[0;34m\u001b[0m\u001b[0;34m\u001b[0m\u001b[0m\n\u001b[1;32m    344\u001b[0m         \u001b[0;32mreturn\u001b[0m \u001b[0m_array_indexing\u001b[0m\u001b[0;34m(\u001b[0m\u001b[0mX\u001b[0m\u001b[0;34m,\u001b[0m \u001b[0mindices\u001b[0m\u001b[0;34m,\u001b[0m \u001b[0mindices_dtype\u001b[0m\u001b[0;34m,\u001b[0m \u001b[0maxis\u001b[0m\u001b[0;34m=\u001b[0m\u001b[0maxis\u001b[0m\u001b[0;34m)\u001b[0m\u001b[0;34m\u001b[0m\u001b[0;34m\u001b[0m\u001b[0m\n",
      "\u001b[0;32m//anaconda3/lib/python3.7/site-packages/sklearn/utils/__init__.py\u001b[0m in \u001b[0;36m_pandas_indexing\u001b[0;34m(X, key, key_dtype, axis)\u001b[0m\n\u001b[1;32m    191\u001b[0m     \u001b[0;31m# check whether we should index with loc or iloc\u001b[0m\u001b[0;34m\u001b[0m\u001b[0;34m\u001b[0m\u001b[0;34m\u001b[0m\u001b[0m\n\u001b[1;32m    192\u001b[0m     \u001b[0mindexer\u001b[0m \u001b[0;34m=\u001b[0m \u001b[0mX\u001b[0m\u001b[0;34m.\u001b[0m\u001b[0miloc\u001b[0m \u001b[0;32mif\u001b[0m \u001b[0mkey_dtype\u001b[0m \u001b[0;34m==\u001b[0m \u001b[0;34m'int'\u001b[0m \u001b[0;32melse\u001b[0m \u001b[0mX\u001b[0m\u001b[0;34m.\u001b[0m\u001b[0mloc\u001b[0m\u001b[0;34m\u001b[0m\u001b[0;34m\u001b[0m\u001b[0m\n\u001b[0;32m--> 193\u001b[0;31m     \u001b[0;32mreturn\u001b[0m \u001b[0mindexer\u001b[0m\u001b[0;34m[\u001b[0m\u001b[0;34m:\u001b[0m\u001b[0;34m,\u001b[0m \u001b[0mkey\u001b[0m\u001b[0;34m]\u001b[0m \u001b[0;32mif\u001b[0m \u001b[0maxis\u001b[0m \u001b[0;32melse\u001b[0m \u001b[0mindexer\u001b[0m\u001b[0;34m[\u001b[0m\u001b[0mkey\u001b[0m\u001b[0;34m]\u001b[0m\u001b[0;34m\u001b[0m\u001b[0;34m\u001b[0m\u001b[0m\n\u001b[0m\u001b[1;32m    194\u001b[0m \u001b[0;34m\u001b[0m\u001b[0m\n\u001b[1;32m    195\u001b[0m \u001b[0;34m\u001b[0m\u001b[0m\n",
      "\u001b[0;32m//anaconda3/lib/python3.7/site-packages/pandas/core/indexing.py\u001b[0m in \u001b[0;36m__getitem__\u001b[0;34m(self, key)\u001b[0m\n\u001b[1;32m    877\u001b[0m \u001b[0;34m\u001b[0m\u001b[0m\n\u001b[1;32m    878\u001b[0m             \u001b[0mmaybe_callable\u001b[0m \u001b[0;34m=\u001b[0m \u001b[0mcom\u001b[0m\u001b[0;34m.\u001b[0m\u001b[0mapply_if_callable\u001b[0m\u001b[0;34m(\u001b[0m\u001b[0mkey\u001b[0m\u001b[0;34m,\u001b[0m \u001b[0mself\u001b[0m\u001b[0;34m.\u001b[0m\u001b[0mobj\u001b[0m\u001b[0;34m)\u001b[0m\u001b[0;34m\u001b[0m\u001b[0;34m\u001b[0m\u001b[0m\n\u001b[0;32m--> 879\u001b[0;31m             \u001b[0;32mreturn\u001b[0m \u001b[0mself\u001b[0m\u001b[0;34m.\u001b[0m\u001b[0m_getitem_axis\u001b[0m\u001b[0;34m(\u001b[0m\u001b[0mmaybe_callable\u001b[0m\u001b[0;34m,\u001b[0m \u001b[0maxis\u001b[0m\u001b[0;34m=\u001b[0m\u001b[0maxis\u001b[0m\u001b[0;34m)\u001b[0m\u001b[0;34m\u001b[0m\u001b[0;34m\u001b[0m\u001b[0m\n\u001b[0m\u001b[1;32m    880\u001b[0m \u001b[0;34m\u001b[0m\u001b[0m\n\u001b[1;32m    881\u001b[0m     \u001b[0;32mdef\u001b[0m \u001b[0m_is_scalar_access\u001b[0m\u001b[0;34m(\u001b[0m\u001b[0mself\u001b[0m\u001b[0;34m,\u001b[0m \u001b[0mkey\u001b[0m\u001b[0;34m:\u001b[0m \u001b[0mTuple\u001b[0m\u001b[0;34m)\u001b[0m\u001b[0;34m:\u001b[0m\u001b[0;34m\u001b[0m\u001b[0;34m\u001b[0m\u001b[0m\n",
      "\u001b[0;32m//anaconda3/lib/python3.7/site-packages/pandas/core/indexing.py\u001b[0m in \u001b[0;36m_getitem_axis\u001b[0;34m(self, key, axis)\u001b[0m\n\u001b[1;32m   1485\u001b[0m         \u001b[0;31m# a list of integers\u001b[0m\u001b[0;34m\u001b[0m\u001b[0;34m\u001b[0m\u001b[0;34m\u001b[0m\u001b[0m\n\u001b[1;32m   1486\u001b[0m         \u001b[0;32melif\u001b[0m \u001b[0mis_list_like_indexer\u001b[0m\u001b[0;34m(\u001b[0m\u001b[0mkey\u001b[0m\u001b[0;34m)\u001b[0m\u001b[0;34m:\u001b[0m\u001b[0;34m\u001b[0m\u001b[0;34m\u001b[0m\u001b[0m\n\u001b[0;32m-> 1487\u001b[0;31m             \u001b[0;32mreturn\u001b[0m \u001b[0mself\u001b[0m\u001b[0;34m.\u001b[0m\u001b[0m_get_list_axis\u001b[0m\u001b[0;34m(\u001b[0m\u001b[0mkey\u001b[0m\u001b[0;34m,\u001b[0m \u001b[0maxis\u001b[0m\u001b[0;34m=\u001b[0m\u001b[0maxis\u001b[0m\u001b[0;34m)\u001b[0m\u001b[0;34m\u001b[0m\u001b[0;34m\u001b[0m\u001b[0m\n\u001b[0m\u001b[1;32m   1488\u001b[0m \u001b[0;34m\u001b[0m\u001b[0m\n\u001b[1;32m   1489\u001b[0m         \u001b[0;31m# a single integer\u001b[0m\u001b[0;34m\u001b[0m\u001b[0;34m\u001b[0m\u001b[0;34m\u001b[0m\u001b[0m\n",
      "\u001b[0;32m//anaconda3/lib/python3.7/site-packages/pandas/core/indexing.py\u001b[0m in \u001b[0;36m_get_list_axis\u001b[0;34m(self, key, axis)\u001b[0m\n\u001b[1;32m   1467\u001b[0m         \"\"\"\n\u001b[1;32m   1468\u001b[0m         \u001b[0;32mtry\u001b[0m\u001b[0;34m:\u001b[0m\u001b[0;34m\u001b[0m\u001b[0;34m\u001b[0m\u001b[0m\n\u001b[0;32m-> 1469\u001b[0;31m             \u001b[0;32mreturn\u001b[0m \u001b[0mself\u001b[0m\u001b[0;34m.\u001b[0m\u001b[0mobj\u001b[0m\u001b[0;34m.\u001b[0m\u001b[0m_take_with_is_copy\u001b[0m\u001b[0;34m(\u001b[0m\u001b[0mkey\u001b[0m\u001b[0;34m,\u001b[0m \u001b[0maxis\u001b[0m\u001b[0;34m=\u001b[0m\u001b[0maxis\u001b[0m\u001b[0;34m)\u001b[0m\u001b[0;34m\u001b[0m\u001b[0;34m\u001b[0m\u001b[0m\n\u001b[0m\u001b[1;32m   1470\u001b[0m         \u001b[0;32mexcept\u001b[0m \u001b[0mIndexError\u001b[0m \u001b[0;32mas\u001b[0m \u001b[0merr\u001b[0m\u001b[0;34m:\u001b[0m\u001b[0;34m\u001b[0m\u001b[0;34m\u001b[0m\u001b[0m\n\u001b[1;32m   1471\u001b[0m             \u001b[0;31m# re-raise with different error message\u001b[0m\u001b[0;34m\u001b[0m\u001b[0;34m\u001b[0m\u001b[0;34m\u001b[0m\u001b[0m\n",
      "\u001b[0;32m//anaconda3/lib/python3.7/site-packages/pandas/core/generic.py\u001b[0m in \u001b[0;36m_take_with_is_copy\u001b[0;34m(self, indices, axis)\u001b[0m\n\u001b[1;32m   3352\u001b[0m         \u001b[0mSee\u001b[0m \u001b[0mthe\u001b[0m \u001b[0mdocstring\u001b[0m \u001b[0mof\u001b[0m\u001b[0;31m \u001b[0m\u001b[0;31m`\u001b[0m\u001b[0mtake\u001b[0m\u001b[0;31m`\u001b[0m \u001b[0;32mfor\u001b[0m \u001b[0mfull\u001b[0m \u001b[0mexplanation\u001b[0m \u001b[0mof\u001b[0m \u001b[0mthe\u001b[0m \u001b[0mparameters\u001b[0m\u001b[0;34m.\u001b[0m\u001b[0;34m\u001b[0m\u001b[0;34m\u001b[0m\u001b[0m\n\u001b[1;32m   3353\u001b[0m         \"\"\"\n\u001b[0;32m-> 3354\u001b[0;31m         \u001b[0mresult\u001b[0m \u001b[0;34m=\u001b[0m \u001b[0mself\u001b[0m\u001b[0;34m.\u001b[0m\u001b[0mtake\u001b[0m\u001b[0;34m(\u001b[0m\u001b[0mindices\u001b[0m\u001b[0;34m=\u001b[0m\u001b[0mindices\u001b[0m\u001b[0;34m,\u001b[0m \u001b[0maxis\u001b[0m\u001b[0;34m=\u001b[0m\u001b[0maxis\u001b[0m\u001b[0;34m)\u001b[0m\u001b[0;34m\u001b[0m\u001b[0;34m\u001b[0m\u001b[0m\n\u001b[0m\u001b[1;32m   3355\u001b[0m         \u001b[0;31m# Maybe set copy if we didn't actually change the index.\u001b[0m\u001b[0;34m\u001b[0m\u001b[0;34m\u001b[0m\u001b[0;34m\u001b[0m\u001b[0m\n\u001b[1;32m   3356\u001b[0m         \u001b[0;32mif\u001b[0m \u001b[0;32mnot\u001b[0m \u001b[0mresult\u001b[0m\u001b[0;34m.\u001b[0m\u001b[0m_get_axis\u001b[0m\u001b[0;34m(\u001b[0m\u001b[0maxis\u001b[0m\u001b[0;34m)\u001b[0m\u001b[0;34m.\u001b[0m\u001b[0mequals\u001b[0m\u001b[0;34m(\u001b[0m\u001b[0mself\u001b[0m\u001b[0;34m.\u001b[0m\u001b[0m_get_axis\u001b[0m\u001b[0;34m(\u001b[0m\u001b[0maxis\u001b[0m\u001b[0;34m)\u001b[0m\u001b[0;34m)\u001b[0m\u001b[0;34m:\u001b[0m\u001b[0;34m\u001b[0m\u001b[0;34m\u001b[0m\u001b[0m\n",
      "\u001b[0;32m//anaconda3/lib/python3.7/site-packages/pandas/core/generic.py\u001b[0m in \u001b[0;36mtake\u001b[0;34m(self, indices, axis, is_copy, **kwargs)\u001b[0m\n\u001b[1;32m   3340\u001b[0m \u001b[0;34m\u001b[0m\u001b[0m\n\u001b[1;32m   3341\u001b[0m         new_data = self._mgr.take(\n\u001b[0;32m-> 3342\u001b[0;31m             \u001b[0mindices\u001b[0m\u001b[0;34m,\u001b[0m \u001b[0maxis\u001b[0m\u001b[0;34m=\u001b[0m\u001b[0mself\u001b[0m\u001b[0;34m.\u001b[0m\u001b[0m_get_block_manager_axis\u001b[0m\u001b[0;34m(\u001b[0m\u001b[0maxis\u001b[0m\u001b[0;34m)\u001b[0m\u001b[0;34m,\u001b[0m \u001b[0mverify\u001b[0m\u001b[0;34m=\u001b[0m\u001b[0;32mTrue\u001b[0m\u001b[0;34m\u001b[0m\u001b[0;34m\u001b[0m\u001b[0m\n\u001b[0m\u001b[1;32m   3343\u001b[0m         )\n\u001b[1;32m   3344\u001b[0m         \u001b[0;32mreturn\u001b[0m \u001b[0mself\u001b[0m\u001b[0;34m.\u001b[0m\u001b[0m_constructor\u001b[0m\u001b[0;34m(\u001b[0m\u001b[0mnew_data\u001b[0m\u001b[0;34m)\u001b[0m\u001b[0;34m.\u001b[0m\u001b[0m__finalize__\u001b[0m\u001b[0;34m(\u001b[0m\u001b[0mself\u001b[0m\u001b[0;34m,\u001b[0m \u001b[0mmethod\u001b[0m\u001b[0;34m=\u001b[0m\u001b[0;34m\"take\"\u001b[0m\u001b[0;34m)\u001b[0m\u001b[0;34m\u001b[0m\u001b[0;34m\u001b[0m\u001b[0m\n",
      "\u001b[0;32m//anaconda3/lib/python3.7/site-packages/pandas/core/internals/managers.py\u001b[0m in \u001b[0;36mtake\u001b[0;34m(self, indexer, axis, verify, convert)\u001b[0m\n\u001b[1;32m   1446\u001b[0m         \u001b[0mnew_labels\u001b[0m \u001b[0;34m=\u001b[0m \u001b[0mself\u001b[0m\u001b[0;34m.\u001b[0m\u001b[0maxes\u001b[0m\u001b[0;34m[\u001b[0m\u001b[0maxis\u001b[0m\u001b[0;34m]\u001b[0m\u001b[0;34m.\u001b[0m\u001b[0mtake\u001b[0m\u001b[0;34m(\u001b[0m\u001b[0mindexer\u001b[0m\u001b[0;34m)\u001b[0m\u001b[0;34m\u001b[0m\u001b[0;34m\u001b[0m\u001b[0m\n\u001b[1;32m   1447\u001b[0m         return self.reindex_indexer(\n\u001b[0;32m-> 1448\u001b[0;31m             \u001b[0mnew_axis\u001b[0m\u001b[0;34m=\u001b[0m\u001b[0mnew_labels\u001b[0m\u001b[0;34m,\u001b[0m \u001b[0mindexer\u001b[0m\u001b[0;34m=\u001b[0m\u001b[0mindexer\u001b[0m\u001b[0;34m,\u001b[0m \u001b[0maxis\u001b[0m\u001b[0;34m=\u001b[0m\u001b[0maxis\u001b[0m\u001b[0;34m,\u001b[0m \u001b[0mallow_dups\u001b[0m\u001b[0;34m=\u001b[0m\u001b[0;32mTrue\u001b[0m\u001b[0;34m\u001b[0m\u001b[0;34m\u001b[0m\u001b[0m\n\u001b[0m\u001b[1;32m   1449\u001b[0m         )\n\u001b[1;32m   1450\u001b[0m \u001b[0;34m\u001b[0m\u001b[0m\n",
      "\u001b[0;32m//anaconda3/lib/python3.7/site-packages/pandas/core/internals/managers.py\u001b[0m in \u001b[0;36mreindex_indexer\u001b[0;34m(self, new_axis, indexer, axis, fill_value, allow_dups, copy, consolidate)\u001b[0m\n\u001b[1;32m   1290\u001b[0m                     ),\n\u001b[1;32m   1291\u001b[0m                 )\n\u001b[0;32m-> 1292\u001b[0;31m                 \u001b[0;32mfor\u001b[0m \u001b[0mblk\u001b[0m \u001b[0;32min\u001b[0m \u001b[0mself\u001b[0m\u001b[0;34m.\u001b[0m\u001b[0mblocks\u001b[0m\u001b[0;34m\u001b[0m\u001b[0;34m\u001b[0m\u001b[0m\n\u001b[0m\u001b[1;32m   1293\u001b[0m             ]\n\u001b[1;32m   1294\u001b[0m \u001b[0;34m\u001b[0m\u001b[0m\n",
      "\u001b[0;32m//anaconda3/lib/python3.7/site-packages/pandas/core/internals/managers.py\u001b[0m in \u001b[0;36m<listcomp>\u001b[0;34m(.0)\u001b[0m\n\u001b[1;32m   1290\u001b[0m                     ),\n\u001b[1;32m   1291\u001b[0m                 )\n\u001b[0;32m-> 1292\u001b[0;31m                 \u001b[0;32mfor\u001b[0m \u001b[0mblk\u001b[0m \u001b[0;32min\u001b[0m \u001b[0mself\u001b[0m\u001b[0;34m.\u001b[0m\u001b[0mblocks\u001b[0m\u001b[0;34m\u001b[0m\u001b[0;34m\u001b[0m\u001b[0m\n\u001b[0m\u001b[1;32m   1293\u001b[0m             ]\n\u001b[1;32m   1294\u001b[0m \u001b[0;34m\u001b[0m\u001b[0m\n",
      "\u001b[0;32m//anaconda3/lib/python3.7/site-packages/pandas/core/internals/blocks.py\u001b[0m in \u001b[0;36mtake_nd\u001b[0;34m(self, indexer, axis, new_mgr_locs, fill_value)\u001b[0m\n\u001b[1;32m   1248\u001b[0m \u001b[0;34m\u001b[0m\u001b[0m\n\u001b[1;32m   1249\u001b[0m         new_values = algos.take_nd(\n\u001b[0;32m-> 1250\u001b[0;31m             \u001b[0mvalues\u001b[0m\u001b[0;34m,\u001b[0m \u001b[0mindexer\u001b[0m\u001b[0;34m,\u001b[0m \u001b[0maxis\u001b[0m\u001b[0;34m=\u001b[0m\u001b[0maxis\u001b[0m\u001b[0;34m,\u001b[0m \u001b[0mallow_fill\u001b[0m\u001b[0;34m=\u001b[0m\u001b[0mallow_fill\u001b[0m\u001b[0;34m,\u001b[0m \u001b[0mfill_value\u001b[0m\u001b[0;34m=\u001b[0m\u001b[0mfill_value\u001b[0m\u001b[0;34m\u001b[0m\u001b[0;34m\u001b[0m\u001b[0m\n\u001b[0m\u001b[1;32m   1251\u001b[0m         )\n\u001b[1;32m   1252\u001b[0m \u001b[0;34m\u001b[0m\u001b[0m\n",
      "\u001b[0;32m//anaconda3/lib/python3.7/site-packages/pandas/core/algorithms.py\u001b[0m in \u001b[0;36mtake_nd\u001b[0;34m(arr, indexer, axis, out, fill_value, allow_fill)\u001b[0m\n\u001b[1;32m   1681\u001b[0m         \u001b[0marr\u001b[0m\u001b[0;34m.\u001b[0m\u001b[0mndim\u001b[0m\u001b[0;34m,\u001b[0m \u001b[0marr\u001b[0m\u001b[0;34m.\u001b[0m\u001b[0mdtype\u001b[0m\u001b[0;34m,\u001b[0m \u001b[0mout\u001b[0m\u001b[0;34m.\u001b[0m\u001b[0mdtype\u001b[0m\u001b[0;34m,\u001b[0m \u001b[0maxis\u001b[0m\u001b[0;34m=\u001b[0m\u001b[0maxis\u001b[0m\u001b[0;34m,\u001b[0m \u001b[0mmask_info\u001b[0m\u001b[0;34m=\u001b[0m\u001b[0mmask_info\u001b[0m\u001b[0;34m\u001b[0m\u001b[0;34m\u001b[0m\u001b[0m\n\u001b[1;32m   1682\u001b[0m     )\n\u001b[0;32m-> 1683\u001b[0;31m     \u001b[0mfunc\u001b[0m\u001b[0;34m(\u001b[0m\u001b[0marr\u001b[0m\u001b[0;34m,\u001b[0m \u001b[0mindexer\u001b[0m\u001b[0;34m,\u001b[0m \u001b[0mout\u001b[0m\u001b[0;34m,\u001b[0m \u001b[0mfill_value\u001b[0m\u001b[0;34m)\u001b[0m\u001b[0;34m\u001b[0m\u001b[0;34m\u001b[0m\u001b[0m\n\u001b[0m\u001b[1;32m   1684\u001b[0m \u001b[0;34m\u001b[0m\u001b[0m\n\u001b[1;32m   1685\u001b[0m     \u001b[0;32mif\u001b[0m \u001b[0mflip_order\u001b[0m\u001b[0;34m:\u001b[0m\u001b[0;34m\u001b[0m\u001b[0;34m\u001b[0m\u001b[0m\n",
      "\u001b[0;32m//anaconda3/lib/python3.7/site-packages/pandas/core/algorithms.py\u001b[0m in \u001b[0;36mfunc2\u001b[0;34m(arr, indexer, out, fill_value)\u001b[0m\n\u001b[1;32m   1485\u001b[0m         \u001b[0mindexer\u001b[0m \u001b[0;34m=\u001b[0m \u001b[0mensure_int64\u001b[0m\u001b[0;34m(\u001b[0m\u001b[0mindexer\u001b[0m\u001b[0;34m)\u001b[0m\u001b[0;34m\u001b[0m\u001b[0;34m\u001b[0m\u001b[0m\n\u001b[1;32m   1486\u001b[0m         _take_nd_object(\n\u001b[0;32m-> 1487\u001b[0;31m             \u001b[0marr\u001b[0m\u001b[0;34m,\u001b[0m \u001b[0mindexer\u001b[0m\u001b[0;34m,\u001b[0m \u001b[0mout\u001b[0m\u001b[0;34m,\u001b[0m \u001b[0maxis\u001b[0m\u001b[0;34m=\u001b[0m\u001b[0maxis\u001b[0m\u001b[0;34m,\u001b[0m \u001b[0mfill_value\u001b[0m\u001b[0;34m=\u001b[0m\u001b[0mfill_value\u001b[0m\u001b[0;34m,\u001b[0m \u001b[0mmask_info\u001b[0m\u001b[0;34m=\u001b[0m\u001b[0mmask_info\u001b[0m\u001b[0;34m\u001b[0m\u001b[0;34m\u001b[0m\u001b[0m\n\u001b[0m\u001b[1;32m   1488\u001b[0m         )\n\u001b[1;32m   1489\u001b[0m \u001b[0;34m\u001b[0m\u001b[0m\n",
      "\u001b[0;32m//anaconda3/lib/python3.7/site-packages/pandas/core/algorithms.py\u001b[0m in \u001b[0;36m_take_nd_object\u001b[0;34m(arr, indexer, out, axis, fill_value, mask_info)\u001b[0m\n\u001b[1;32m   1347\u001b[0m         \u001b[0marr\u001b[0m \u001b[0;34m=\u001b[0m \u001b[0marr\u001b[0m\u001b[0;34m.\u001b[0m\u001b[0mastype\u001b[0m\u001b[0;34m(\u001b[0m\u001b[0mout\u001b[0m\u001b[0;34m.\u001b[0m\u001b[0mdtype\u001b[0m\u001b[0;34m)\u001b[0m\u001b[0;34m\u001b[0m\u001b[0;34m\u001b[0m\u001b[0m\n\u001b[1;32m   1348\u001b[0m     \u001b[0;32mif\u001b[0m \u001b[0marr\u001b[0m\u001b[0;34m.\u001b[0m\u001b[0mshape\u001b[0m\u001b[0;34m[\u001b[0m\u001b[0maxis\u001b[0m\u001b[0;34m]\u001b[0m \u001b[0;34m>\u001b[0m \u001b[0;36m0\u001b[0m\u001b[0;34m:\u001b[0m\u001b[0;34m\u001b[0m\u001b[0;34m\u001b[0m\u001b[0m\n\u001b[0;32m-> 1349\u001b[0;31m         \u001b[0marr\u001b[0m\u001b[0;34m.\u001b[0m\u001b[0mtake\u001b[0m\u001b[0;34m(\u001b[0m\u001b[0mensure_platform_int\u001b[0m\u001b[0;34m(\u001b[0m\u001b[0mindexer\u001b[0m\u001b[0;34m)\u001b[0m\u001b[0;34m,\u001b[0m \u001b[0maxis\u001b[0m\u001b[0;34m=\u001b[0m\u001b[0maxis\u001b[0m\u001b[0;34m,\u001b[0m \u001b[0mout\u001b[0m\u001b[0;34m=\u001b[0m\u001b[0mout\u001b[0m\u001b[0;34m)\u001b[0m\u001b[0;34m\u001b[0m\u001b[0;34m\u001b[0m\u001b[0m\n\u001b[0m\u001b[1;32m   1350\u001b[0m     \u001b[0;32mif\u001b[0m \u001b[0mneeds_masking\u001b[0m\u001b[0;34m:\u001b[0m\u001b[0;34m\u001b[0m\u001b[0;34m\u001b[0m\u001b[0m\n\u001b[1;32m   1351\u001b[0m         \u001b[0moutindexer\u001b[0m \u001b[0;34m=\u001b[0m \u001b[0;34m[\u001b[0m\u001b[0mslice\u001b[0m\u001b[0;34m(\u001b[0m\u001b[0;32mNone\u001b[0m\u001b[0;34m)\u001b[0m\u001b[0;34m]\u001b[0m \u001b[0;34m*\u001b[0m \u001b[0marr\u001b[0m\u001b[0;34m.\u001b[0m\u001b[0mndim\u001b[0m\u001b[0;34m\u001b[0m\u001b[0;34m\u001b[0m\u001b[0m\n",
      "\u001b[0;31mKeyboardInterrupt\u001b[0m: "
     ]
    }
   ],
   "source": [
    "param_grid = {'max_depth':range(2,30)}\n",
    "rf = RandomForestClassifier(n_estimators=30)\n",
    "gs = GridSearchCV(rf,param_grid=param_grid,scoring='accuracy')\n",
    "rs = gs.fit(X_train,y_train)\n",
    "pred=rs.predict(X_test)\n",
    "print(rs.best_params_)\n",
    "print(accuracy_score(np.array(y_test),pred))"
   ]
  },
  {
   "cell_type": "code",
   "execution_count": 640,
   "metadata": {},
   "outputs": [],
   "source": [
    "pred=rs.predict(X_train)"
   ]
  },
  {
   "cell_type": "code",
   "execution_count": 641,
   "metadata": {},
   "outputs": [
    {
     "data": {
      "text/plain": [
       "0.6463163386568506"
      ]
     },
     "execution_count": 641,
     "metadata": {},
     "output_type": "execute_result"
    }
   ],
   "source": [
    "correct=1.0*(pred==y_train).sum()/len(y_train)\n",
    "correct"
   ]
  },
  {
   "cell_type": "code",
   "execution_count": 648,
   "metadata": {},
   "outputs": [
    {
     "data": {
      "text/plain": [
       "0.6463163386568506"
      ]
     },
     "execution_count": 648,
     "metadata": {},
     "output_type": "execute_result"
    }
   ],
   "source": [
    "accuracy_score(y_train,pred)"
   ]
  },
  {
   "cell_type": "code",
   "execution_count": 633,
   "metadata": {},
   "outputs": [
    {
     "name": "stdout",
     "output_type": "stream",
     "text": [
      "0.6856680241632485\n"
     ]
    }
   ],
   "source": [
    "print(roc_auc_score(np.array(y_test),pred))"
   ]
  },
  {
   "cell_type": "code",
   "execution_count": null,
   "metadata": {},
   "outputs": [],
   "source": []
  },
  {
   "cell_type": "code",
   "execution_count": 394,
   "metadata": {},
   "outputs": [
    {
     "data": {
      "text/html": [
       "<div>\n",
       "<style scoped>\n",
       "    .dataframe tbody tr th:only-of-type {\n",
       "        vertical-align: middle;\n",
       "    }\n",
       "\n",
       "    .dataframe tbody tr th {\n",
       "        vertical-align: top;\n",
       "    }\n",
       "\n",
       "    .dataframe thead th {\n",
       "        text-align: right;\n",
       "    }\n",
       "</style>\n",
       "<table border=\"1\" class=\"dataframe\">\n",
       "  <thead>\n",
       "    <tr style=\"text-align: right;\">\n",
       "      <th></th>\n",
       "      <th></th>\n",
       "      <th>Company</th>\n",
       "      <th>overnight</th>\n",
       "    </tr>\n",
       "    <tr>\n",
       "      <th>PULocationID</th>\n",
       "      <th>DOLocationID</th>\n",
       "      <th></th>\n",
       "      <th></th>\n",
       "    </tr>\n",
       "  </thead>\n",
       "  <tbody>\n",
       "    <tr>\n",
       "      <th>76</th>\n",
       "      <th>76</th>\n",
       "      <td>6587</td>\n",
       "      <td>3377</td>\n",
       "    </tr>\n",
       "    <tr>\n",
       "      <th>39</th>\n",
       "      <th>39</th>\n",
       "      <td>4784</td>\n",
       "      <td>2411</td>\n",
       "    </tr>\n",
       "    <tr>\n",
       "      <th>61</th>\n",
       "      <th>61</th>\n",
       "      <td>2827</td>\n",
       "      <td>1675</td>\n",
       "    </tr>\n",
       "    <tr>\n",
       "      <th>215</th>\n",
       "      <th>130</th>\n",
       "      <td>3004</td>\n",
       "      <td>1663</td>\n",
       "    </tr>\n",
       "    <tr>\n",
       "      <th>205</th>\n",
       "      <th>130</th>\n",
       "      <td>2762</td>\n",
       "      <td>1463</td>\n",
       "    </tr>\n",
       "    <tr>\n",
       "      <th>...</th>\n",
       "      <th>...</th>\n",
       "      <td>...</td>\n",
       "      <td>...</td>\n",
       "    </tr>\n",
       "    <tr>\n",
       "      <th>87</th>\n",
       "      <th>52</th>\n",
       "      <td>1</td>\n",
       "      <td>0</td>\n",
       "    </tr>\n",
       "    <tr>\n",
       "      <th rowspan=\"2\" valign=\"top\">218</th>\n",
       "      <th>133</th>\n",
       "      <td>3</td>\n",
       "      <td>0</td>\n",
       "    </tr>\n",
       "    <tr>\n",
       "      <th>126</th>\n",
       "      <td>1</td>\n",
       "      <td>0</td>\n",
       "    </tr>\n",
       "    <tr>\n",
       "      <th rowspan=\"2\" valign=\"top\">87</th>\n",
       "      <th>84</th>\n",
       "      <td>1</td>\n",
       "      <td>0</td>\n",
       "    </tr>\n",
       "    <tr>\n",
       "      <th>34</th>\n",
       "      <td>7</td>\n",
       "      <td>0</td>\n",
       "    </tr>\n",
       "  </tbody>\n",
       "</table>\n",
       "<p>44057 rows × 2 columns</p>\n",
       "</div>"
      ],
      "text/plain": [
       "                           Company  overnight\n",
       "PULocationID DOLocationID                    \n",
       "76           76               6587       3377\n",
       "39           39               4784       2411\n",
       "61           61               2827       1675\n",
       "215          130              3004       1663\n",
       "205          130              2762       1463\n",
       "...                            ...        ...\n",
       "87           52                  1          0\n",
       "218          133                 3          0\n",
       "             126                 1          0\n",
       "87           84                  1          0\n",
       "             34                  7          0\n",
       "\n",
       "[44057 rows x 2 columns]"
      ]
     },
     "execution_count": 394,
     "metadata": {},
     "output_type": "execute_result"
    }
   ],
   "source": [
    "FHV_test.groupby(['PULocationID','DOLocationID']).agg({'Company':'count', 'overnight':'sum'}).sort_values('overnight',ascending=False)"
   ]
  },
  {
   "cell_type": "code",
   "execution_count": null,
   "metadata": {},
   "outputs": [],
   "source": []
  },
  {
   "cell_type": "code",
   "execution_count": null,
   "metadata": {},
   "outputs": [],
   "source": []
  }
 ],
 "metadata": {
  "kernelspec": {
   "display_name": "Python 3",
   "language": "python",
   "name": "python3"
  },
  "language_info": {
   "codemirror_mode": {
    "name": "ipython",
    "version": 3
   },
   "file_extension": ".py",
   "mimetype": "text/x-python",
   "name": "python",
   "nbconvert_exporter": "python",
   "pygments_lexer": "ipython3",
   "version": "3.7.3"
  }
 },
 "nbformat": 4,
 "nbformat_minor": 4
}
